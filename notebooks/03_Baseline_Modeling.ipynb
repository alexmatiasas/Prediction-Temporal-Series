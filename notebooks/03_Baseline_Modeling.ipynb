{
 "cells": [
  {
   "cell_type": "markdown",
<<<<<<< HEAD
<<<<<<< HEAD
   "id": "6ee2ce3a",
=======
   "id": "0",
>>>>>>> 9694a3c (Pre commit and CI workflow (#8))
=======
   "id": "0",
=======
   "id": "6ee2ce3a",
>>>>>>> 9a043f6 (chore: rename modeling notebook and add preprocessing + baseline modeling steps)
>>>>>>> 6c2f2d8 (chore: rename modeling notebook and add preprocessing + baseline modeling steps)
   "metadata": {},
   "source": [
    "# 📊 Baseline Modeling – Energy Consumption Forecast\n",
    "\n",
    "This notebook establishes baseline models for forecasting electricity consumption using the engineered dataset from previous steps.\n",
    "\n",
    "We will:\n",
    "- Load the processed feature matrix\n",
    "- Split the data chronologically into training and testing sets\n",
    "- Build simple baseline models (e.g., Naive, Mean)\n",
    "- Evaluate their performance using MAE, RMSE, and R²\n",
    "\n",
    "These baselines will serve as reference points to assess the performance of more advanced machine learning models in future notebooks."
   ]
  },
  {
   "cell_type": "markdown",
<<<<<<< HEAD
<<<<<<< HEAD
   "id": "34ad7f35",
=======
   "id": "1",
>>>>>>> 9694a3c (Pre commit and CI workflow (#8))
=======
   "id": "1",
=======
   "id": "34ad7f35",
>>>>>>> 9a043f6 (chore: rename modeling notebook and add preprocessing + baseline modeling steps)
>>>>>>> 6c2f2d8 (chore: rename modeling notebook and add preprocessing + baseline modeling steps)
   "metadata": {},
   "source": [
    "## 🧰 0. Code: Setup + Load Data"
   ]
  },
  {
   "cell_type": "code",
<<<<<<< HEAD
<<<<<<< HEAD
   "execution_count": 5,
   "id": "ab7a3132",
=======
   "execution_count": null,
   "id": "2",
>>>>>>> 9694a3c (Pre commit and CI workflow (#8))
=======
   "execution_count": null,
   "id": "2",
=======
   "execution_count": 5,
   "id": "ab7a3132",
>>>>>>> 9a043f6 (chore: rename modeling notebook and add preprocessing + baseline modeling steps)
>>>>>>> 6c2f2d8 (chore: rename modeling notebook and add preprocessing + baseline modeling steps)
   "metadata": {},
   "outputs": [],
   "source": [
    "# 📦 Import libraries\n",
    "import pandas as pd\n",
<<<<<<< HEAD
<<<<<<< HEAD
    "import numpy as np\n",
    "import matplotlib.pyplot as plt\n",
    "import seaborn as sns\n",
=======
    "import matplotlib.pyplot as plt\n",
>>>>>>> 9694a3c (Pre commit and CI workflow (#8))
=======
    "import matplotlib.pyplot as plt\n",
=======
    "import numpy as np\n",
    "import matplotlib.pyplot as plt\n",
    "import seaborn as sns\n",
>>>>>>> 9a043f6 (chore: rename modeling notebook and add preprocessing + baseline modeling steps)
>>>>>>> 6c2f2d8 (chore: rename modeling notebook and add preprocessing + baseline modeling steps)
    "\n",
    "from sklearn.metrics import mean_absolute_error, mean_squared_error, r2_score"
   ]
  },
  {
   "cell_type": "code",
<<<<<<< HEAD
<<<<<<< HEAD
   "execution_count": 6,
   "id": "74dd0493",
   "metadata": {},
   "outputs": [
    {
     "name": "stdout",
     "output_type": "stream",
     "text": [
      "(177326, 50)\n"
     ]
    },
    {
     "data": {
      "application/vnd.microsoft.datawrangler.viewer.v0+json": {
       "columns": [
        {
         "name": "index",
         "rawType": "int64",
         "type": "integer"
        },
        {
         "name": "datetime",
         "rawType": "datetime64[ns, UTC]",
         "type": "unknown"
        },
        {
         "name": "generation_biomass",
         "rawType": "float64",
         "type": "float"
        },
        {
         "name": "generation_fossil_brown_coal_lignite",
         "rawType": "float64",
         "type": "float"
        },
        {
         "name": "generation_fossil_coal_derived_gas",
         "rawType": "float64",
         "type": "float"
        },
        {
         "name": "generation_fossil_gas",
         "rawType": "float64",
         "type": "float"
        },
        {
         "name": "generation_fossil_hard_coal",
         "rawType": "float64",
         "type": "float"
        },
        {
         "name": "generation_fossil_oil",
         "rawType": "float64",
         "type": "float"
        },
        {
         "name": "generation_fossil_oil_shale",
         "rawType": "float64",
         "type": "float"
        },
        {
         "name": "generation_fossil_peat",
         "rawType": "float64",
         "type": "float"
        },
        {
         "name": "generation_geothermal",
         "rawType": "float64",
         "type": "float"
        },
        {
         "name": "generation_hydro_pumped_storage_consumption",
         "rawType": "float64",
         "type": "float"
        },
        {
         "name": "generation_hydro_run_of_river_and_poundage",
         "rawType": "float64",
         "type": "float"
        },
        {
         "name": "generation_hydro_water_reservoir",
         "rawType": "float64",
         "type": "float"
        },
        {
         "name": "generation_marine",
         "rawType": "float64",
         "type": "float"
        },
        {
         "name": "generation_nuclear",
         "rawType": "float64",
         "type": "float"
        },
        {
         "name": "generation_other",
         "rawType": "float64",
         "type": "float"
        },
        {
         "name": "generation_other_renewable",
         "rawType": "float64",
         "type": "float"
        },
        {
         "name": "generation_solar",
         "rawType": "float64",
         "type": "float"
        },
        {
         "name": "generation_waste",
         "rawType": "float64",
         "type": "float"
        },
        {
         "name": "generation_wind_offshore",
         "rawType": "float64",
         "type": "float"
        },
        {
         "name": "generation_wind_onshore",
         "rawType": "float64",
         "type": "float"
        },
        {
         "name": "forecast_solar_day_ahead",
         "rawType": "int64",
         "type": "integer"
        },
        {
         "name": "forecast_wind_onshore_day_ahead",
         "rawType": "int64",
         "type": "integer"
        },
        {
         "name": "total_load_forecast",
         "rawType": "int64",
         "type": "integer"
        },
        {
         "name": "total_load_actual",
         "rawType": "float64",
         "type": "float"
        },
        {
         "name": "price_day_ahead",
         "rawType": "float64",
         "type": "float"
        },
        {
         "name": "price_actual",
         "rawType": "float64",
         "type": "float"
        },
        {
         "name": "city_name",
         "rawType": "object",
         "type": "string"
        },
        {
         "name": "temp",
         "rawType": "float64",
         "type": "float"
        },
        {
         "name": "temp_min",
         "rawType": "float64",
         "type": "float"
        },
        {
         "name": "temp_max",
         "rawType": "float64",
         "type": "float"
        },
        {
         "name": "pressure",
         "rawType": "int64",
         "type": "integer"
        },
        {
         "name": "humidity",
         "rawType": "int64",
         "type": "integer"
        },
        {
         "name": "wind_speed",
         "rawType": "int64",
         "type": "integer"
        },
        {
         "name": "wind_deg",
         "rawType": "int64",
         "type": "integer"
        },
        {
         "name": "rain_1h",
         "rawType": "float64",
         "type": "float"
        },
        {
         "name": "rain_3h",
         "rawType": "float64",
         "type": "float"
        },
        {
         "name": "snow_3h",
         "rawType": "float64",
         "type": "float"
        },
        {
         "name": "clouds_all",
         "rawType": "int64",
         "type": "integer"
        },
        {
         "name": "weather_id",
         "rawType": "int64",
         "type": "integer"
        },
        {
         "name": "weather_main",
         "rawType": "object",
         "type": "string"
        },
        {
         "name": "weather_description",
         "rawType": "object",
         "type": "string"
        },
        {
         "name": "weather_icon",
         "rawType": "object",
         "type": "string"
        },
        {
         "name": "hour",
         "rawType": "int64",
         "type": "integer"
        },
        {
         "name": "wday",
         "rawType": "int64",
         "type": "integer"
        },
        {
         "name": "month",
         "rawType": "int64",
         "type": "integer"
        },
        {
         "name": "load_lag_1h",
         "rawType": "float64",
         "type": "float"
        },
        {
         "name": "load_lag_24h",
         "rawType": "float64",
         "type": "float"
        },
        {
         "name": "load_roll_24h",
         "rawType": "float64",
         "type": "float"
        },
        {
         "name": "load_roll_7d",
         "rawType": "float64",
         "type": "float"
        }
       ],
       "conversionMethod": "pd.DataFrame",
       "ref": "29fb4258-4d73-4d9b-9e5d-83d0dc4cc114",
       "rows": [
        [
         "0",
         "2015-01-08 05:00:00+00:00",
         "533.0",
         "367.0",
         "0.0",
         "3946.0",
         "5785.0",
         "354.0",
         "0.0",
         "0.0",
         "0.0",
         "1804.0",
         "631.0",
         "943.0",
         "0.0",
         "6750.0",
         "86.0",
         "67.0",
         "265.0",
         "246.0",
         "0.0",
         "4809.0",
         "235",
         "4867",
         "23493",
         "22551.0",
         "44.81",
         "69.79",
         "Barcelona",
         "283.35",
         "283.35",
         "283.35",
         "1030",
         "87",
         "1",
         "315",
         "0.0",
         "0.0",
         "0.0",
         "0",
         "800",
         "clear",
         "sky is clear",
         "01n",
         "5",
         "3",
         "0",
         "22361.0",
         "26992.0",
         "31073.375",
         "26606.85714285714"
        ],
        [
         "1",
         "2015-01-08 06:00:00+00:00",
         "525.0",
         "360.0",
         "0.0",
         "3890.0",
         "5570.0",
         "347.0",
         "0.0",
         "0.0",
         "0.0",
         "1638.0",
         "629.0",
         "888.0",
         "0.0",
         "6748.0",
         "86.0",
         "66.0",
         "223.0",
         "246.0",
         "0.0",
         "4849.0",
         "420",
         "4812",
         "23562",
         "22543.0",
         "44.81",
         "75.57",
         "Barcelona",
         "283.25",
         "283.25",
         "283.25",
         "1031",
         "87",
         "1",
         "315",
         "0.0",
         "0.0",
         "0.0",
         "0",
         "800",
         "clear",
         "sky is clear",
         "01n",
         "6",
         "3",
         "0",
         "22551.0",
         "28625.0",
         "30819.958333333332",
         "26589.940476190477"
        ],
        [
         "2",
         "2015-01-08 07:00:00+00:00",
         "529.0",
         "457.0",
         "0.0",
         "4066.0",
         "6289.0",
         "332.0",
         "0.0",
         "0.0",
         "0.0",
         "508.0",
         "641.0",
         "1147.0",
         "0.0",
         "6747.0",
         "86.0",
         "69.0",
         "708.0",
         "216.0",
         "0.0",
         "4285.0",
         "1166",
         "4532",
         "24929",
         "24042.0",
         "46.85",
         "82.36",
         "Barcelona",
         "283.04",
         "283.04",
         "283.04",
         "1031",
         "86",
         "1",
         "337",
         "0.0",
         "0.0",
         "0.0",
         "0",
         "800",
         "clear",
         "sky is clear",
         "01n",
         "7",
         "3",
         "0",
         "22543.0",
         "31015.0",
         "30529.416666666668",
         "26587.916666666668"
        ],
        [
         "3",
         "2015-01-08 08:00:00+00:00",
         "534.0",
         "576.0",
         "0.0",
         "4535.0",
         "6720.0",
         "305.0",
         "0.0",
         "0.0",
         "0.0",
         "198.0",
         "652.0",
         "965.0",
         "0.0",
         "6749.0",
         "85.0",
         "66.0",
         "2225.0",
         "214.0",
         "0.0",
         "3889.0",
         "2373",
         "3916",
         "27227",
         "25932.0",
         "49.0",
         "87.03",
         "Barcelona",
         "283.04",
         "283.04",
         "283.04",
         "1032",
         "83",
         "2",
         "312",
         "0.0",
         "0.0",
         "0.0",
         "0",
         "800",
         "clear",
         "sky is clear",
         "01d",
         "8",
         "3",
         "0",
         "24042.0",
         "33276.0",
         "30223.416666666668",
         "26606.95238095238"
        ],
        [
         "4",
         "2015-01-08 09:00:00+00:00",
         "533.0",
         "622.0",
         "0.0",
         "4441.0",
         "7301.0",
         "315.0",
         "0.0",
         "0.0",
         "0.0",
         "104.0",
         "664.0",
         "1153.0",
         "0.0",
         "6749.0",
         "84.0",
         "67.0",
         "3943.0",
         "226.0",
         "0.0",
         "3330.0",
         "3681",
         "3551",
         "29193",
         "27664.0",
         "54.36",
         "91.08",
         "Barcelona",
         "287.26",
         "287.26",
         "287.26",
         "1032",
         "62",
         "2",
         "312",
         "0.0",
         "0.0",
         "0.0",
         "0",
         "800",
         "clear",
         "sky is clear",
         "01d",
         "9",
         "3",
         "0",
         "25932.0",
         "34221.0",
         "29950.208333333332",
         "26644.916666666668"
        ]
       ],
       "shape": {
        "columns": 50,
        "rows": 5
       }
      },
      "text/html": [
       "<div>\n",
       "<style scoped>\n",
       "    .dataframe tbody tr th:only-of-type {\n",
       "        vertical-align: middle;\n",
       "    }\n",
       "\n",
       "    .dataframe tbody tr th {\n",
       "        vertical-align: top;\n",
       "    }\n",
       "\n",
       "    .dataframe thead th {\n",
       "        text-align: right;\n",
       "    }\n",
       "</style>\n",
       "<table border=\"1\" class=\"dataframe\">\n",
       "  <thead>\n",
       "    <tr style=\"text-align: right;\">\n",
       "      <th></th>\n",
       "      <th>datetime</th>\n",
       "      <th>generation_biomass</th>\n",
       "      <th>generation_fossil_brown_coal_lignite</th>\n",
       "      <th>generation_fossil_coal_derived_gas</th>\n",
       "      <th>generation_fossil_gas</th>\n",
       "      <th>generation_fossil_hard_coal</th>\n",
       "      <th>generation_fossil_oil</th>\n",
       "      <th>generation_fossil_oil_shale</th>\n",
       "      <th>generation_fossil_peat</th>\n",
       "      <th>generation_geothermal</th>\n",
       "      <th>...</th>\n",
       "      <th>weather_main</th>\n",
       "      <th>weather_description</th>\n",
       "      <th>weather_icon</th>\n",
       "      <th>hour</th>\n",
       "      <th>wday</th>\n",
       "      <th>month</th>\n",
       "      <th>load_lag_1h</th>\n",
       "      <th>load_lag_24h</th>\n",
       "      <th>load_roll_24h</th>\n",
       "      <th>load_roll_7d</th>\n",
       "    </tr>\n",
       "  </thead>\n",
       "  <tbody>\n",
       "    <tr>\n",
       "      <th>0</th>\n",
       "      <td>2015-01-08 05:00:00+00:00</td>\n",
       "      <td>533.0</td>\n",
       "      <td>367.0</td>\n",
       "      <td>0.0</td>\n",
       "      <td>3946.0</td>\n",
       "      <td>5785.0</td>\n",
       "      <td>354.0</td>\n",
       "      <td>0.0</td>\n",
       "      <td>0.0</td>\n",
       "      <td>0.0</td>\n",
       "      <td>...</td>\n",
       "      <td>clear</td>\n",
       "      <td>sky is clear</td>\n",
       "      <td>01n</td>\n",
       "      <td>5</td>\n",
       "      <td>3</td>\n",
       "      <td>0</td>\n",
       "      <td>22361.0</td>\n",
       "      <td>26992.0</td>\n",
       "      <td>31073.375000</td>\n",
       "      <td>26606.857143</td>\n",
       "    </tr>\n",
       "    <tr>\n",
       "      <th>1</th>\n",
       "      <td>2015-01-08 06:00:00+00:00</td>\n",
       "      <td>525.0</td>\n",
       "      <td>360.0</td>\n",
       "      <td>0.0</td>\n",
       "      <td>3890.0</td>\n",
       "      <td>5570.0</td>\n",
       "      <td>347.0</td>\n",
       "      <td>0.0</td>\n",
       "      <td>0.0</td>\n",
       "      <td>0.0</td>\n",
       "      <td>...</td>\n",
       "      <td>clear</td>\n",
       "      <td>sky is clear</td>\n",
       "      <td>01n</td>\n",
       "      <td>6</td>\n",
       "      <td>3</td>\n",
       "      <td>0</td>\n",
       "      <td>22551.0</td>\n",
       "      <td>28625.0</td>\n",
       "      <td>30819.958333</td>\n",
       "      <td>26589.940476</td>\n",
       "    </tr>\n",
       "    <tr>\n",
       "      <th>2</th>\n",
       "      <td>2015-01-08 07:00:00+00:00</td>\n",
       "      <td>529.0</td>\n",
       "      <td>457.0</td>\n",
       "      <td>0.0</td>\n",
       "      <td>4066.0</td>\n",
       "      <td>6289.0</td>\n",
       "      <td>332.0</td>\n",
       "      <td>0.0</td>\n",
       "      <td>0.0</td>\n",
       "      <td>0.0</td>\n",
       "      <td>...</td>\n",
       "      <td>clear</td>\n",
       "      <td>sky is clear</td>\n",
       "      <td>01n</td>\n",
       "      <td>7</td>\n",
       "      <td>3</td>\n",
       "      <td>0</td>\n",
       "      <td>22543.0</td>\n",
       "      <td>31015.0</td>\n",
       "      <td>30529.416667</td>\n",
       "      <td>26587.916667</td>\n",
       "    </tr>\n",
       "    <tr>\n",
       "      <th>3</th>\n",
       "      <td>2015-01-08 08:00:00+00:00</td>\n",
       "      <td>534.0</td>\n",
       "      <td>576.0</td>\n",
       "      <td>0.0</td>\n",
       "      <td>4535.0</td>\n",
       "      <td>6720.0</td>\n",
       "      <td>305.0</td>\n",
       "      <td>0.0</td>\n",
       "      <td>0.0</td>\n",
       "      <td>0.0</td>\n",
       "      <td>...</td>\n",
       "      <td>clear</td>\n",
       "      <td>sky is clear</td>\n",
       "      <td>01d</td>\n",
       "      <td>8</td>\n",
       "      <td>3</td>\n",
       "      <td>0</td>\n",
       "      <td>24042.0</td>\n",
       "      <td>33276.0</td>\n",
       "      <td>30223.416667</td>\n",
       "      <td>26606.952381</td>\n",
       "    </tr>\n",
       "    <tr>\n",
       "      <th>4</th>\n",
       "      <td>2015-01-08 09:00:00+00:00</td>\n",
       "      <td>533.0</td>\n",
       "      <td>622.0</td>\n",
       "      <td>0.0</td>\n",
       "      <td>4441.0</td>\n",
       "      <td>7301.0</td>\n",
       "      <td>315.0</td>\n",
       "      <td>0.0</td>\n",
       "      <td>0.0</td>\n",
       "      <td>0.0</td>\n",
       "      <td>...</td>\n",
       "      <td>clear</td>\n",
       "      <td>sky is clear</td>\n",
       "      <td>01d</td>\n",
       "      <td>9</td>\n",
       "      <td>3</td>\n",
       "      <td>0</td>\n",
       "      <td>25932.0</td>\n",
       "      <td>34221.0</td>\n",
       "      <td>29950.208333</td>\n",
       "      <td>26644.916667</td>\n",
       "    </tr>\n",
       "  </tbody>\n",
       "</table>\n",
       "<p>5 rows × 50 columns</p>\n",
       "</div>"
      ],
      "text/plain": [
       "                   datetime  generation_biomass  \\\n",
       "0 2015-01-08 05:00:00+00:00               533.0   \n",
       "1 2015-01-08 06:00:00+00:00               525.0   \n",
       "2 2015-01-08 07:00:00+00:00               529.0   \n",
       "3 2015-01-08 08:00:00+00:00               534.0   \n",
       "4 2015-01-08 09:00:00+00:00               533.0   \n",
       "\n",
       "   generation_fossil_brown_coal_lignite  generation_fossil_coal_derived_gas  \\\n",
       "0                                 367.0                                 0.0   \n",
       "1                                 360.0                                 0.0   \n",
       "2                                 457.0                                 0.0   \n",
       "3                                 576.0                                 0.0   \n",
       "4                                 622.0                                 0.0   \n",
       "\n",
       "   generation_fossil_gas  generation_fossil_hard_coal  generation_fossil_oil  \\\n",
       "0                 3946.0                       5785.0                  354.0   \n",
       "1                 3890.0                       5570.0                  347.0   \n",
       "2                 4066.0                       6289.0                  332.0   \n",
       "3                 4535.0                       6720.0                  305.0   \n",
       "4                 4441.0                       7301.0                  315.0   \n",
       "\n",
       "   generation_fossil_oil_shale  generation_fossil_peat  generation_geothermal  \\\n",
       "0                          0.0                     0.0                    0.0   \n",
       "1                          0.0                     0.0                    0.0   \n",
       "2                          0.0                     0.0                    0.0   \n",
       "3                          0.0                     0.0                    0.0   \n",
       "4                          0.0                     0.0                    0.0   \n",
       "\n",
       "   ...  weather_main  weather_description  weather_icon  hour  wday  month  \\\n",
       "0  ...         clear         sky is clear           01n     5     3      0   \n",
       "1  ...         clear         sky is clear           01n     6     3      0   \n",
       "2  ...         clear         sky is clear           01n     7     3      0   \n",
       "3  ...         clear         sky is clear           01d     8     3      0   \n",
       "4  ...         clear         sky is clear           01d     9     3      0   \n",
       "\n",
       "   load_lag_1h  load_lag_24h  load_roll_24h  load_roll_7d  \n",
       "0      22361.0       26992.0   31073.375000  26606.857143  \n",
       "1      22551.0       28625.0   30819.958333  26589.940476  \n",
       "2      22543.0       31015.0   30529.416667  26587.916667  \n",
       "3      24042.0       33276.0   30223.416667  26606.952381  \n",
       "4      25932.0       34221.0   29950.208333  26644.916667  \n",
       "\n",
       "[5 rows x 50 columns]"
      ]
     },
     "execution_count": 6,
     "metadata": {},
     "output_type": "execute_result"
    }
   ],
=======
=======
>>>>>>> 6c2f2d8 (chore: rename modeling notebook and add preprocessing + baseline modeling steps)
   "execution_count": null,
   "id": "3",
   "metadata": {},
   "outputs": [],
<<<<<<< HEAD
>>>>>>> 9694a3c (Pre commit and CI workflow (#8))
=======
=======
   "execution_count": 6,
   "id": "74dd0493",
   "metadata": {},
   "outputs": [
    {
     "name": "stdout",
     "output_type": "stream",
     "text": [
      "(177326, 50)\n"
     ]
    },
    {
     "data": {
      "application/vnd.microsoft.datawrangler.viewer.v0+json": {
       "columns": [
        {
         "name": "index",
         "rawType": "int64",
         "type": "integer"
        },
        {
         "name": "datetime",
         "rawType": "datetime64[ns, UTC]",
         "type": "unknown"
        },
        {
         "name": "generation_biomass",
         "rawType": "float64",
         "type": "float"
        },
        {
         "name": "generation_fossil_brown_coal_lignite",
         "rawType": "float64",
         "type": "float"
        },
        {
         "name": "generation_fossil_coal_derived_gas",
         "rawType": "float64",
         "type": "float"
        },
        {
         "name": "generation_fossil_gas",
         "rawType": "float64",
         "type": "float"
        },
        {
         "name": "generation_fossil_hard_coal",
         "rawType": "float64",
         "type": "float"
        },
        {
         "name": "generation_fossil_oil",
         "rawType": "float64",
         "type": "float"
        },
        {
         "name": "generation_fossil_oil_shale",
         "rawType": "float64",
         "type": "float"
        },
        {
         "name": "generation_fossil_peat",
         "rawType": "float64",
         "type": "float"
        },
        {
         "name": "generation_geothermal",
         "rawType": "float64",
         "type": "float"
        },
        {
         "name": "generation_hydro_pumped_storage_consumption",
         "rawType": "float64",
         "type": "float"
        },
        {
         "name": "generation_hydro_run_of_river_and_poundage",
         "rawType": "float64",
         "type": "float"
        },
        {
         "name": "generation_hydro_water_reservoir",
         "rawType": "float64",
         "type": "float"
        },
        {
         "name": "generation_marine",
         "rawType": "float64",
         "type": "float"
        },
        {
         "name": "generation_nuclear",
         "rawType": "float64",
         "type": "float"
        },
        {
         "name": "generation_other",
         "rawType": "float64",
         "type": "float"
        },
        {
         "name": "generation_other_renewable",
         "rawType": "float64",
         "type": "float"
        },
        {
         "name": "generation_solar",
         "rawType": "float64",
         "type": "float"
        },
        {
         "name": "generation_waste",
         "rawType": "float64",
         "type": "float"
        },
        {
         "name": "generation_wind_offshore",
         "rawType": "float64",
         "type": "float"
        },
        {
         "name": "generation_wind_onshore",
         "rawType": "float64",
         "type": "float"
        },
        {
         "name": "forecast_solar_day_ahead",
         "rawType": "int64",
         "type": "integer"
        },
        {
         "name": "forecast_wind_onshore_day_ahead",
         "rawType": "int64",
         "type": "integer"
        },
        {
         "name": "total_load_forecast",
         "rawType": "int64",
         "type": "integer"
        },
        {
         "name": "total_load_actual",
         "rawType": "float64",
         "type": "float"
        },
        {
         "name": "price_day_ahead",
         "rawType": "float64",
         "type": "float"
        },
        {
         "name": "price_actual",
         "rawType": "float64",
         "type": "float"
        },
        {
         "name": "city_name",
         "rawType": "object",
         "type": "string"
        },
        {
         "name": "temp",
         "rawType": "float64",
         "type": "float"
        },
        {
         "name": "temp_min",
         "rawType": "float64",
         "type": "float"
        },
        {
         "name": "temp_max",
         "rawType": "float64",
         "type": "float"
        },
        {
         "name": "pressure",
         "rawType": "int64",
         "type": "integer"
        },
        {
         "name": "humidity",
         "rawType": "int64",
         "type": "integer"
        },
        {
         "name": "wind_speed",
         "rawType": "int64",
         "type": "integer"
        },
        {
         "name": "wind_deg",
         "rawType": "int64",
         "type": "integer"
        },
        {
         "name": "rain_1h",
         "rawType": "float64",
         "type": "float"
        },
        {
         "name": "rain_3h",
         "rawType": "float64",
         "type": "float"
        },
        {
         "name": "snow_3h",
         "rawType": "float64",
         "type": "float"
        },
        {
         "name": "clouds_all",
         "rawType": "int64",
         "type": "integer"
        },
        {
         "name": "weather_id",
         "rawType": "int64",
         "type": "integer"
        },
        {
         "name": "weather_main",
         "rawType": "object",
         "type": "string"
        },
        {
         "name": "weather_description",
         "rawType": "object",
         "type": "string"
        },
        {
         "name": "weather_icon",
         "rawType": "object",
         "type": "string"
        },
        {
         "name": "hour",
         "rawType": "int64",
         "type": "integer"
        },
        {
         "name": "wday",
         "rawType": "int64",
         "type": "integer"
        },
        {
         "name": "month",
         "rawType": "int64",
         "type": "integer"
        },
        {
         "name": "load_lag_1h",
         "rawType": "float64",
         "type": "float"
        },
        {
         "name": "load_lag_24h",
         "rawType": "float64",
         "type": "float"
        },
        {
         "name": "load_roll_24h",
         "rawType": "float64",
         "type": "float"
        },
        {
         "name": "load_roll_7d",
         "rawType": "float64",
         "type": "float"
        }
       ],
       "conversionMethod": "pd.DataFrame",
       "ref": "29fb4258-4d73-4d9b-9e5d-83d0dc4cc114",
       "rows": [
        [
         "0",
         "2015-01-08 05:00:00+00:00",
         "533.0",
         "367.0",
         "0.0",
         "3946.0",
         "5785.0",
         "354.0",
         "0.0",
         "0.0",
         "0.0",
         "1804.0",
         "631.0",
         "943.0",
         "0.0",
         "6750.0",
         "86.0",
         "67.0",
         "265.0",
         "246.0",
         "0.0",
         "4809.0",
         "235",
         "4867",
         "23493",
         "22551.0",
         "44.81",
         "69.79",
         "Barcelona",
         "283.35",
         "283.35",
         "283.35",
         "1030",
         "87",
         "1",
         "315",
         "0.0",
         "0.0",
         "0.0",
         "0",
         "800",
         "clear",
         "sky is clear",
         "01n",
         "5",
         "3",
         "0",
         "22361.0",
         "26992.0",
         "31073.375",
         "26606.85714285714"
        ],
        [
         "1",
         "2015-01-08 06:00:00+00:00",
         "525.0",
         "360.0",
         "0.0",
         "3890.0",
         "5570.0",
         "347.0",
         "0.0",
         "0.0",
         "0.0",
         "1638.0",
         "629.0",
         "888.0",
         "0.0",
         "6748.0",
         "86.0",
         "66.0",
         "223.0",
         "246.0",
         "0.0",
         "4849.0",
         "420",
         "4812",
         "23562",
         "22543.0",
         "44.81",
         "75.57",
         "Barcelona",
         "283.25",
         "283.25",
         "283.25",
         "1031",
         "87",
         "1",
         "315",
         "0.0",
         "0.0",
         "0.0",
         "0",
         "800",
         "clear",
         "sky is clear",
         "01n",
         "6",
         "3",
         "0",
         "22551.0",
         "28625.0",
         "30819.958333333332",
         "26589.940476190477"
        ],
        [
         "2",
         "2015-01-08 07:00:00+00:00",
         "529.0",
         "457.0",
         "0.0",
         "4066.0",
         "6289.0",
         "332.0",
         "0.0",
         "0.0",
         "0.0",
         "508.0",
         "641.0",
         "1147.0",
         "0.0",
         "6747.0",
         "86.0",
         "69.0",
         "708.0",
         "216.0",
         "0.0",
         "4285.0",
         "1166",
         "4532",
         "24929",
         "24042.0",
         "46.85",
         "82.36",
         "Barcelona",
         "283.04",
         "283.04",
         "283.04",
         "1031",
         "86",
         "1",
         "337",
         "0.0",
         "0.0",
         "0.0",
         "0",
         "800",
         "clear",
         "sky is clear",
         "01n",
         "7",
         "3",
         "0",
         "22543.0",
         "31015.0",
         "30529.416666666668",
         "26587.916666666668"
        ],
        [
         "3",
         "2015-01-08 08:00:00+00:00",
         "534.0",
         "576.0",
         "0.0",
         "4535.0",
         "6720.0",
         "305.0",
         "0.0",
         "0.0",
         "0.0",
         "198.0",
         "652.0",
         "965.0",
         "0.0",
         "6749.0",
         "85.0",
         "66.0",
         "2225.0",
         "214.0",
         "0.0",
         "3889.0",
         "2373",
         "3916",
         "27227",
         "25932.0",
         "49.0",
         "87.03",
         "Barcelona",
         "283.04",
         "283.04",
         "283.04",
         "1032",
         "83",
         "2",
         "312",
         "0.0",
         "0.0",
         "0.0",
         "0",
         "800",
         "clear",
         "sky is clear",
         "01d",
         "8",
         "3",
         "0",
         "24042.0",
         "33276.0",
         "30223.416666666668",
         "26606.95238095238"
        ],
        [
         "4",
         "2015-01-08 09:00:00+00:00",
         "533.0",
         "622.0",
         "0.0",
         "4441.0",
         "7301.0",
         "315.0",
         "0.0",
         "0.0",
         "0.0",
         "104.0",
         "664.0",
         "1153.0",
         "0.0",
         "6749.0",
         "84.0",
         "67.0",
         "3943.0",
         "226.0",
         "0.0",
         "3330.0",
         "3681",
         "3551",
         "29193",
         "27664.0",
         "54.36",
         "91.08",
         "Barcelona",
         "287.26",
         "287.26",
         "287.26",
         "1032",
         "62",
         "2",
         "312",
         "0.0",
         "0.0",
         "0.0",
         "0",
         "800",
         "clear",
         "sky is clear",
         "01d",
         "9",
         "3",
         "0",
         "25932.0",
         "34221.0",
         "29950.208333333332",
         "26644.916666666668"
        ]
       ],
       "shape": {
        "columns": 50,
        "rows": 5
       }
      },
      "text/html": [
       "<div>\n",
       "<style scoped>\n",
       "    .dataframe tbody tr th:only-of-type {\n",
       "        vertical-align: middle;\n",
       "    }\n",
       "\n",
       "    .dataframe tbody tr th {\n",
       "        vertical-align: top;\n",
       "    }\n",
       "\n",
       "    .dataframe thead th {\n",
       "        text-align: right;\n",
       "    }\n",
       "</style>\n",
       "<table border=\"1\" class=\"dataframe\">\n",
       "  <thead>\n",
       "    <tr style=\"text-align: right;\">\n",
       "      <th></th>\n",
       "      <th>datetime</th>\n",
       "      <th>generation_biomass</th>\n",
       "      <th>generation_fossil_brown_coal_lignite</th>\n",
       "      <th>generation_fossil_coal_derived_gas</th>\n",
       "      <th>generation_fossil_gas</th>\n",
       "      <th>generation_fossil_hard_coal</th>\n",
       "      <th>generation_fossil_oil</th>\n",
       "      <th>generation_fossil_oil_shale</th>\n",
       "      <th>generation_fossil_peat</th>\n",
       "      <th>generation_geothermal</th>\n",
       "      <th>...</th>\n",
       "      <th>weather_main</th>\n",
       "      <th>weather_description</th>\n",
       "      <th>weather_icon</th>\n",
       "      <th>hour</th>\n",
       "      <th>wday</th>\n",
       "      <th>month</th>\n",
       "      <th>load_lag_1h</th>\n",
       "      <th>load_lag_24h</th>\n",
       "      <th>load_roll_24h</th>\n",
       "      <th>load_roll_7d</th>\n",
       "    </tr>\n",
       "  </thead>\n",
       "  <tbody>\n",
       "    <tr>\n",
       "      <th>0</th>\n",
       "      <td>2015-01-08 05:00:00+00:00</td>\n",
       "      <td>533.0</td>\n",
       "      <td>367.0</td>\n",
       "      <td>0.0</td>\n",
       "      <td>3946.0</td>\n",
       "      <td>5785.0</td>\n",
       "      <td>354.0</td>\n",
       "      <td>0.0</td>\n",
       "      <td>0.0</td>\n",
       "      <td>0.0</td>\n",
       "      <td>...</td>\n",
       "      <td>clear</td>\n",
       "      <td>sky is clear</td>\n",
       "      <td>01n</td>\n",
       "      <td>5</td>\n",
       "      <td>3</td>\n",
       "      <td>0</td>\n",
       "      <td>22361.0</td>\n",
       "      <td>26992.0</td>\n",
       "      <td>31073.375000</td>\n",
       "      <td>26606.857143</td>\n",
       "    </tr>\n",
       "    <tr>\n",
       "      <th>1</th>\n",
       "      <td>2015-01-08 06:00:00+00:00</td>\n",
       "      <td>525.0</td>\n",
       "      <td>360.0</td>\n",
       "      <td>0.0</td>\n",
       "      <td>3890.0</td>\n",
       "      <td>5570.0</td>\n",
       "      <td>347.0</td>\n",
       "      <td>0.0</td>\n",
       "      <td>0.0</td>\n",
       "      <td>0.0</td>\n",
       "      <td>...</td>\n",
       "      <td>clear</td>\n",
       "      <td>sky is clear</td>\n",
       "      <td>01n</td>\n",
       "      <td>6</td>\n",
       "      <td>3</td>\n",
       "      <td>0</td>\n",
       "      <td>22551.0</td>\n",
       "      <td>28625.0</td>\n",
       "      <td>30819.958333</td>\n",
       "      <td>26589.940476</td>\n",
       "    </tr>\n",
       "    <tr>\n",
       "      <th>2</th>\n",
       "      <td>2015-01-08 07:00:00+00:00</td>\n",
       "      <td>529.0</td>\n",
       "      <td>457.0</td>\n",
       "      <td>0.0</td>\n",
       "      <td>4066.0</td>\n",
       "      <td>6289.0</td>\n",
       "      <td>332.0</td>\n",
       "      <td>0.0</td>\n",
       "      <td>0.0</td>\n",
       "      <td>0.0</td>\n",
       "      <td>...</td>\n",
       "      <td>clear</td>\n",
       "      <td>sky is clear</td>\n",
       "      <td>01n</td>\n",
       "      <td>7</td>\n",
       "      <td>3</td>\n",
       "      <td>0</td>\n",
       "      <td>22543.0</td>\n",
       "      <td>31015.0</td>\n",
       "      <td>30529.416667</td>\n",
       "      <td>26587.916667</td>\n",
       "    </tr>\n",
       "    <tr>\n",
       "      <th>3</th>\n",
       "      <td>2015-01-08 08:00:00+00:00</td>\n",
       "      <td>534.0</td>\n",
       "      <td>576.0</td>\n",
       "      <td>0.0</td>\n",
       "      <td>4535.0</td>\n",
       "      <td>6720.0</td>\n",
       "      <td>305.0</td>\n",
       "      <td>0.0</td>\n",
       "      <td>0.0</td>\n",
       "      <td>0.0</td>\n",
       "      <td>...</td>\n",
       "      <td>clear</td>\n",
       "      <td>sky is clear</td>\n",
       "      <td>01d</td>\n",
       "      <td>8</td>\n",
       "      <td>3</td>\n",
       "      <td>0</td>\n",
       "      <td>24042.0</td>\n",
       "      <td>33276.0</td>\n",
       "      <td>30223.416667</td>\n",
       "      <td>26606.952381</td>\n",
       "    </tr>\n",
       "    <tr>\n",
       "      <th>4</th>\n",
       "      <td>2015-01-08 09:00:00+00:00</td>\n",
       "      <td>533.0</td>\n",
       "      <td>622.0</td>\n",
       "      <td>0.0</td>\n",
       "      <td>4441.0</td>\n",
       "      <td>7301.0</td>\n",
       "      <td>315.0</td>\n",
       "      <td>0.0</td>\n",
       "      <td>0.0</td>\n",
       "      <td>0.0</td>\n",
       "      <td>...</td>\n",
       "      <td>clear</td>\n",
       "      <td>sky is clear</td>\n",
       "      <td>01d</td>\n",
       "      <td>9</td>\n",
       "      <td>3</td>\n",
       "      <td>0</td>\n",
       "      <td>25932.0</td>\n",
       "      <td>34221.0</td>\n",
       "      <td>29950.208333</td>\n",
       "      <td>26644.916667</td>\n",
       "    </tr>\n",
       "  </tbody>\n",
       "</table>\n",
       "<p>5 rows × 50 columns</p>\n",
       "</div>"
      ],
      "text/plain": [
       "                   datetime  generation_biomass  \\\n",
       "0 2015-01-08 05:00:00+00:00               533.0   \n",
       "1 2015-01-08 06:00:00+00:00               525.0   \n",
       "2 2015-01-08 07:00:00+00:00               529.0   \n",
       "3 2015-01-08 08:00:00+00:00               534.0   \n",
       "4 2015-01-08 09:00:00+00:00               533.0   \n",
       "\n",
       "   generation_fossil_brown_coal_lignite  generation_fossil_coal_derived_gas  \\\n",
       "0                                 367.0                                 0.0   \n",
       "1                                 360.0                                 0.0   \n",
       "2                                 457.0                                 0.0   \n",
       "3                                 576.0                                 0.0   \n",
       "4                                 622.0                                 0.0   \n",
       "\n",
       "   generation_fossil_gas  generation_fossil_hard_coal  generation_fossil_oil  \\\n",
       "0                 3946.0                       5785.0                  354.0   \n",
       "1                 3890.0                       5570.0                  347.0   \n",
       "2                 4066.0                       6289.0                  332.0   \n",
       "3                 4535.0                       6720.0                  305.0   \n",
       "4                 4441.0                       7301.0                  315.0   \n",
       "\n",
       "   generation_fossil_oil_shale  generation_fossil_peat  generation_geothermal  \\\n",
       "0                          0.0                     0.0                    0.0   \n",
       "1                          0.0                     0.0                    0.0   \n",
       "2                          0.0                     0.0                    0.0   \n",
       "3                          0.0                     0.0                    0.0   \n",
       "4                          0.0                     0.0                    0.0   \n",
       "\n",
       "   ...  weather_main  weather_description  weather_icon  hour  wday  month  \\\n",
       "0  ...         clear         sky is clear           01n     5     3      0   \n",
       "1  ...         clear         sky is clear           01n     6     3      0   \n",
       "2  ...         clear         sky is clear           01n     7     3      0   \n",
       "3  ...         clear         sky is clear           01d     8     3      0   \n",
       "4  ...         clear         sky is clear           01d     9     3      0   \n",
       "\n",
       "   load_lag_1h  load_lag_24h  load_roll_24h  load_roll_7d  \n",
       "0      22361.0       26992.0   31073.375000  26606.857143  \n",
       "1      22551.0       28625.0   30819.958333  26589.940476  \n",
       "2      22543.0       31015.0   30529.416667  26587.916667  \n",
       "3      24042.0       33276.0   30223.416667  26606.952381  \n",
       "4      25932.0       34221.0   29950.208333  26644.916667  \n",
       "\n",
       "[5 rows x 50 columns]"
      ]
     },
     "execution_count": 6,
     "metadata": {},
     "output_type": "execute_result"
    }
   ],
>>>>>>> 9a043f6 (chore: rename modeling notebook and add preprocessing + baseline modeling steps)
>>>>>>> 6c2f2d8 (chore: rename modeling notebook and add preprocessing + baseline modeling steps)
   "source": [
    "# 🔄 Load feature dataset\n",
    "df = pd.read_csv(\"../data/processed/final_features.csv\", parse_dates=[\"datetime\"])\n",
    "\n",
    "print(df.shape)\n",
    "df.head()"
   ]
  },
  {
   "cell_type": "markdown",
<<<<<<< HEAD
<<<<<<< HEAD
   "id": "ab53c760",
=======
   "id": "4",
>>>>>>> 9694a3c (Pre commit and CI workflow (#8))
=======
   "id": "4",
=======
   "id": "ab53c760",
>>>>>>> 9a043f6 (chore: rename modeling notebook and add preprocessing + baseline modeling steps)
>>>>>>> 6c2f2d8 (chore: rename modeling notebook and add preprocessing + baseline modeling steps)
   "metadata": {},
   "source": [
    "## 🧪 1. Data Splitting\n",
    "\n",
    "### 📅 1.1 Train/Test Split\n",
    "\n",
    "As this is a time series forecasting task, we use a **chronological split** rather than a random one.\n",
    "\n",
    "We train on data before 2018 and test on data from 2018 onward.\n",
    "\n",
    "---\n",
    "\n",
    "#### 📆 Code: Temporal split"
   ]
  },
  {
   "cell_type": "code",
<<<<<<< HEAD
<<<<<<< HEAD
   "execution_count": 7,
   "id": "072aac9c",
   "metadata": {},
   "outputs": [
    {
     "name": "stdout",
     "output_type": "stream",
     "text": [
      "Train: (132258, 50), Test: (45068, 50)\n"
     ]
    }
   ],
=======
=======
>>>>>>> 6c2f2d8 (chore: rename modeling notebook and add preprocessing + baseline modeling steps)
   "execution_count": null,
   "id": "5",
   "metadata": {},
   "outputs": [],
<<<<<<< HEAD
>>>>>>> 9694a3c (Pre commit and CI workflow (#8))
=======
=======
   "execution_count": 7,
   "id": "072aac9c",
   "metadata": {},
   "outputs": [
    {
     "name": "stdout",
     "output_type": "stream",
     "text": [
      "Train: (132258, 50), Test: (45068, 50)\n"
     ]
    }
   ],
>>>>>>> 9a043f6 (chore: rename modeling notebook and add preprocessing + baseline modeling steps)
>>>>>>> 6c2f2d8 (chore: rename modeling notebook and add preprocessing + baseline modeling steps)
   "source": [
    "# Temporal split\n",
    "cutoff = \"2018-01-01\"\n",
    "\n",
    "train = df[df[\"datetime\"] < cutoff].copy()\n",
    "test = df[df[\"datetime\"] >= cutoff].copy()\n",
    "\n",
    "print(f\"Train: {train.shape}, Test: {test.shape}\")"
   ]
  },
  {
   "cell_type": "markdown",
<<<<<<< HEAD
<<<<<<< HEAD
   "id": "b4c3d4e7",
=======
   "id": "6",
>>>>>>> 9694a3c (Pre commit and CI workflow (#8))
=======
   "id": "6",
=======
   "id": "b4c3d4e7",
>>>>>>> 9a043f6 (chore: rename modeling notebook and add preprocessing + baseline modeling steps)
>>>>>>> 6c2f2d8 (chore: rename modeling notebook and add preprocessing + baseline modeling steps)
   "metadata": {},
   "source": [
    "#### 🕰️ Why Temporal Split Instead of Random Split?\n",
    "\n",
    "In traditional machine learning tasks, a **random 80/20 split** (using `train_test_split()` from `sklearn`) is commonly used because the data is assumed to be **i.i.d.** (independent and identically distributed).\n",
    "\n",
    "However, in **time series forecasting**, this assumption does **not hold**.\n",
    "\n",
    "Using a random split in this case would mix **past and future data** in both the training and test sets, which can result in:\n",
    "\n",
    "- ❌ Data leakage (seeing future information during training)\n",
    "- ❌ Over-optimistic performance metrics\n",
    "- ❌ Unrealistic deployment expectations\n",
    "\n",
    "Instead, we apply a **chronological split**:\n",
    "- The **training set** contains all data *before 2018*.\n",
    "- The **test set** contains all data *from 2018 onwards*.\n",
    "\n",
    "This better reflects a real-world scenario where we aim to predict **future energy consumption** using **historical data only**."
   ]
  },
  {
   "cell_type": "markdown",
<<<<<<< HEAD
<<<<<<< HEAD
   "id": "bd063499",
=======
   "id": "7",
>>>>>>> 9694a3c (Pre commit and CI workflow (#8))
=======
   "id": "7",
=======
   "id": "bd063499",
>>>>>>> 9a043f6 (chore: rename modeling notebook and add preprocessing + baseline modeling steps)
>>>>>>> 6c2f2d8 (chore: rename modeling notebook and add preprocessing + baseline modeling steps)
   "metadata": {},
   "source": [
    "## ⚙️ 2. Baseline Models\n",
    "\n",
    "Before jumping into complex machine learning models, it's important to establish **baseline models**. These help set a reference for evaluating the performance of more advanced approaches.\n",
    "\n",
    "We implement two simple yet meaningful baselines:\n",
    "\n",
    "### 🐢 2.1 Naive Model\n",
    "\n",
    "This model assumes that **the energy load at the current hour is equal to the load one hour ago**:\n",
    "\n",
    "$$\n",
    "\\hat{y}_t = y_{t-1}\n",
    "$$\n",
    "\n",
    "where \n",
    "\n",
    "- $\\hat{y}_t$ is the predicted energy load at time step $t$, and \n",
    "- $\\hat{y}_{t-1}$ is the actual observed load at the previous time step $t-1$\n",
    "\n",
    "This approach is commonly used as a **baseline for time series forecasting** tasks, especially when the data exhibits **high temporal continuity**, such as electricity consumption, which changes gradually over time.\n"
   ]
  },
  {
   "cell_type": "markdown",
<<<<<<< HEAD
<<<<<<< HEAD
   "id": "113a5172",
=======
   "id": "8",
>>>>>>> 9694a3c (Pre commit and CI workflow (#8))
=======
   "id": "8",
=======
   "id": "113a5172",
>>>>>>> 9a043f6 (chore: rename modeling notebook and add preprocessing + baseline modeling steps)
>>>>>>> 6c2f2d8 (chore: rename modeling notebook and add preprocessing + baseline modeling steps)
   "metadata": {},
   "source": [
    "### 📊 2.2 Mean Model\n",
    "\n",
    "This model predicts the **mean of the training set** for every timestamp in the test set:\n",
    "\n",
    "$$\n",
    "\\hat{y}_t = \\frac{1}{n} \\sum_{i=1}^{n} y_i\n",
    "$$\n",
    "\n",
    "where \n",
    "\n",
    "- $\\hat{y}_t$ is the predicted value for time step $t$\n",
    "- ${y}_{i}$ are the actual observed values in the training set\n",
    "- and $n$ is the number of training samples\n",
    "\n",
    "This model acts as a **constant predictor**, offering a **useful minimum performance threshold**. It’s helpful to understand whether a more complex model provides meaningful improvements beyond simply predicting the average.\n",
    "\n",
    "While simple, it reflects the performance of a constant model and helps identify the **minimum performance threshold**."
   ]
  },
  {
   "cell_type": "markdown",
<<<<<<< HEAD
<<<<<<< HEAD
   "id": "e1d18c51",
=======
   "id": "9",
>>>>>>> 9694a3c (Pre commit and CI workflow (#8))
=======
   "id": "9",
=======
   "id": "e1d18c51",
>>>>>>> 9a043f6 (chore: rename modeling notebook and add preprocessing + baseline modeling steps)
>>>>>>> 6c2f2d8 (chore: rename modeling notebook and add preprocessing + baseline modeling steps)
   "metadata": {},
   "source": [
    "### 📏 Evaluation Metrics\n",
    "\n",
    "We will evaluate these baselines using three standard regression metrics:\n",
    "\n",
    "#### **MAE** – *Mean Absolute Error*\n",
    "$$\n",
    "\\text{MAE} = \\frac{1}{n} \\sum_{i=1}^{n} |{y}_{i} - \\hat{{y}_{i}} |\n",
    "$$\n",
    "- Measures the average absolute difference between predictions and actual values.  \n",
    "- Intuitive to interpret, same unit as the target variable.  \n",
    "- Does **not** penalize large errors more than small ones.\n",
    "\n",
    "#### **RMSE** – *Root Mean Squared Error*\n",
    "$$\n",
<<<<<<< HEAD
<<<<<<< HEAD
<<<<<<< HEAD
    "\\text{RMSE} = \\sqrt{ \\frac{1}{n} \\sum_{i=1}^{n} \\left({y}_{i} - \\hat{{y}_{i}} \\right)}\n",
=======
    "\\text{RMSE} = \\sqrt{ \\frac{1}{n} \\sum_{i=1}^{n} \\left({y}_{i} - \\hat{{y}_{i}} \\right)^{2}}\n",
>>>>>>> 9694a3c (Pre commit and CI workflow (#8))
=======
=======
>>>>>>> 2cecd01 (✍️ doc(notebooks): formulas were fixed with the correct version of correlation factor)
    "\\text{RMSE} = \\sqrt{ \\frac{1}{n} \\sum_{i=1}^{n} \\left({y}_{i} - \\hat{{y}_{i}} \\right)^{2}}\n",
=======
    "\\text{RMSE} = \\sqrt{ \\frac{1}{n} \\sum_{i=1}^{n} \\left({y}_{i} - \\hat{{y}_{i}} \\right)}\n",
>>>>>>> 9a043f6 (chore: rename modeling notebook and add preprocessing + baseline modeling steps)
<<<<<<< HEAD
>>>>>>> 6c2f2d8 (chore: rename modeling notebook and add preprocessing + baseline modeling steps)
=======
=======
    "\\text{RMSE} = \\sqrt{ \\frac{1}{n} \\sum_{i=1}^{n} \\left({y}_{i} - \\hat{{y}_{i}} \\right)^{2}}\n",
>>>>>>> e6defb5 (✍️ doc(notebooks): formulas were fixed with the correct version of correlation factor)
>>>>>>> 2cecd01 (✍️ doc(notebooks): formulas were fixed with the correct version of correlation factor)
    "$$\n",
    "- Similar to MAE, but penalizes **larger errors more heavily**.  \n",
    "- Sensitive to outliers.  \n",
    "- Also in the same unit as the target variable.\n",
    "\n",
    "#### **R²** – *Coefficient of Determination*\n",
    "$$\n",
<<<<<<< HEAD
<<<<<<< HEAD
<<<<<<< HEAD
    "R² = 1 - \\frac{\\sum_{i=1}^{n} \\left({y}_{i} - \\hat{{y}_{i}} \\right)}{\\sum_{i=1}^{n} \\left({y}_{i} - \\bar{{y}} \\right)}\n",
=======
    "R² = 1 - \\frac{\\sum_{i=1}^{n} \\left({y}_{i} - \\hat{{y}_{i}} \\right)^{2}}{\\sum_{i=1}^{n} \\left({y}_{i} - \\bar{{y}} \\right)^{2}}\n",
>>>>>>> 9694a3c (Pre commit and CI workflow (#8))
=======
=======
>>>>>>> 2cecd01 (✍️ doc(notebooks): formulas were fixed with the correct version of correlation factor)
    "R² = 1 - \\frac{\\sum_{i=1}^{n} \\left({y}_{i} - \\hat{{y}_{i}} \\right)^{2}}{\\sum_{i=1}^{n} \\left({y}_{i} - \\bar{{y}} \\right)^{2}}\n",
=======
    "R² = 1 - \\frac{\\sum_{i=1}^{n} \\left({y}_{i} - \\hat{{y}_{i}} \\right)}{\\sum_{i=1}^{n} \\left({y}_{i} - \\bar{{y}} \\right)}\n",
>>>>>>> 9a043f6 (chore: rename modeling notebook and add preprocessing + baseline modeling steps)
<<<<<<< HEAD
>>>>>>> 6c2f2d8 (chore: rename modeling notebook and add preprocessing + baseline modeling steps)
=======
=======
    "R² = 1 - \\frac{\\sum_{i=1}^{n} \\left({y}_{i} - \\hat{{y}_{i}} \\right)^{2}}{\\sum_{i=1}^{n} \\left({y}_{i} - \\bar{{y}} \\right)^{2}}\n",
>>>>>>> e6defb5 (✍️ doc(notebooks): formulas were fixed with the correct version of correlation factor)
>>>>>>> 2cecd01 (✍️ doc(notebooks): formulas were fixed with the correct version of correlation factor)
    "$$\n",
    "- Evaluates how well the model explains the variance of the target variable.  \n",
    "- R² = 1 → perfect predictions  \n",
    "- R² = 0 → no better than predicting the mean  \n",
    "- R² < 0 → **worse** than the mean model"
   ]
  },
  {
   "cell_type": "code",
<<<<<<< HEAD
<<<<<<< HEAD
   "execution_count": 8,
   "id": "30603f9c",
=======
   "execution_count": null,
   "id": "10",
>>>>>>> 9694a3c (Pre commit and CI workflow (#8))
=======
   "execution_count": null,
   "id": "10",
=======
   "execution_count": 8,
   "id": "30603f9c",
>>>>>>> 9a043f6 (chore: rename modeling notebook and add preprocessing + baseline modeling steps)
>>>>>>> 6c2f2d8 (chore: rename modeling notebook and add preprocessing + baseline modeling steps)
   "metadata": {},
   "outputs": [],
   "source": [
    "# Define target variable\n",
    "target = \"total_load_actual\"\n",
    "\n",
    "# Naive model: use previous hour’s load as prediction\n",
    "naive_preds = test[\"load_lag_1h\"].copy()\n",
    "\n",
    "# Mean model: use mean of training target for all test predictions\n",
    "mean_value = train[target].mean()\n",
    "mean_preds = [mean_value] * len(test)\n",
    "\n",
    "# Actual values\n",
    "y_true = test[target]"
   ]
  },
  {
   "cell_type": "code",
   "execution_count": null,
<<<<<<< HEAD
<<<<<<< HEAD
   "id": "1e168ac7",
   "metadata": {},
   "outputs": [
    {
     "name": "stdout",
     "output_type": "stream",
     "text": [
      "Naive Model → MAE: 1045.65 | RMSE: 2009917.44 | R²: 0.9063\n",
      "Mean Model → MAE: 3979.39 | RMSE: 21683459.83 | R²: -0.0110\n"
     ]
    }
   ],
   "source": [
    "# Metrics for both models\n",
=======
=======
>>>>>>> 6c2f2d8 (chore: rename modeling notebook and add preprocessing + baseline modeling steps)
   "id": "11",
   "metadata": {},
   "outputs": [],
   "source": [
    "# Metrics for both models\n",
    "\n",
    "\n",
<<<<<<< HEAD
>>>>>>> 9694a3c (Pre commit and CI workflow (#8))
=======
=======
   "id": "1e168ac7",
   "metadata": {},
   "outputs": [
    {
     "name": "stdout",
     "output_type": "stream",
     "text": [
      "Naive Model → MAE: 1045.65 | RMSE: 2009917.44 | R²: 0.9063\n",
      "Mean Model → MAE: 3979.39 | RMSE: 21683459.83 | R²: -0.0110\n"
     ]
    }
   ],
   "source": [
    "# Metrics for both models\n",
>>>>>>> 9a043f6 (chore: rename modeling notebook and add preprocessing + baseline modeling steps)
>>>>>>> 6c2f2d8 (chore: rename modeling notebook and add preprocessing + baseline modeling steps)
    "def evaluate_model(y_true, y_pred, name):\n",
    "    mae = mean_absolute_error(y_true, y_pred)\n",
    "    rmse = mean_squared_error(y_true, y_pred)\n",
    "    r2 = r2_score(y_true, y_pred)\n",
    "    print(f\"{name} → MAE: {mae:.2f} | RMSE: {rmse:.2f} | R²: {r2:.4f}\")\n",
    "\n",
<<<<<<< HEAD
<<<<<<< HEAD
=======
    "\n",
>>>>>>> 9694a3c (Pre commit and CI workflow (#8))
=======
    "\n",
=======
>>>>>>> 9a043f6 (chore: rename modeling notebook and add preprocessing + baseline modeling steps)
>>>>>>> 6c2f2d8 (chore: rename modeling notebook and add preprocessing + baseline modeling steps)
    "evaluate_model(y_true, naive_preds, \"Naive Model\")\n",
    "evaluate_model(y_true, mean_preds, \"Mean Model\")"
   ]
  },
  {
   "cell_type": "code",
<<<<<<< HEAD
<<<<<<< HEAD
   "execution_count": 11,
   "id": "b98b2340",
   "metadata": {},
   "outputs": [
    {
     "data": {
      "image/png": "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",
      "text/plain": [
       "<Figure size 1500x500 with 1 Axes>"
      ]
     },
     "metadata": {},
     "output_type": "display_data"
    }
   ],
   "source": [
    "import matplotlib.pyplot as plt\n",
    "\n",
    "# Visualización: comparar modelos vs real\n",
    "plt.figure(figsize=(15, 5))\n",
    "plt.plot(test[\"datetime\"][:168], y_true[:168], label=\"Actual\", color=\"black\", linewidth=2)\n",
=======
=======
>>>>>>> 6c2f2d8 (chore: rename modeling notebook and add preprocessing + baseline modeling steps)
   "execution_count": null,
   "id": "12",
   "metadata": {},
   "outputs": [],
   "source": [
    "# Visualización: comparar modelos vs real\n",
    "plt.figure(figsize=(15, 5))\n",
    "plt.plot(\n",
    "    test[\"datetime\"][:168], y_true[:168], label=\"Actual\", color=\"black\", linewidth=2\n",
    ")\n",
<<<<<<< HEAD
>>>>>>> 9694a3c (Pre commit and CI workflow (#8))
=======
=======
   "execution_count": 11,
   "id": "b98b2340",
   "metadata": {},
   "outputs": [
    {
     "data": {
      "image/png": "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",
      "text/plain": [
       "<Figure size 1500x500 with 1 Axes>"
      ]
     },
     "metadata": {},
     "output_type": "display_data"
    }
   ],
   "source": [
    "import matplotlib.pyplot as plt\n",
    "\n",
    "# Visualización: comparar modelos vs real\n",
    "plt.figure(figsize=(15, 5))\n",
    "plt.plot(test[\"datetime\"][:168], y_true[:168], label=\"Actual\", color=\"black\", linewidth=2)\n",
>>>>>>> 9a043f6 (chore: rename modeling notebook and add preprocessing + baseline modeling steps)
>>>>>>> 6c2f2d8 (chore: rename modeling notebook and add preprocessing + baseline modeling steps)
    "plt.plot(test[\"datetime\"][:168], naive_preds[:168], label=\"Naive\", linestyle=\"--\")\n",
    "plt.plot(test[\"datetime\"][:168], mean_preds[:168], label=\"Mean\", linestyle=\":\")\n",
    "plt.title(\"Energy Load Forecast: Naive vs Mean vs Actual (First 7 days of test)\")\n",
    "plt.ylabel(\"Load (MW)\")\n",
    "plt.xlabel(\"Time\")\n",
    "plt.legend()\n",
    "plt.tight_layout()\n",
    "plt.show()"
   ]
  },
  {
   "cell_type": "markdown",
<<<<<<< HEAD
<<<<<<< HEAD
   "id": "8205f681",
=======
   "id": "13",
>>>>>>> 9694a3c (Pre commit and CI workflow (#8))
=======
   "id": "13",
=======
   "id": "8205f681",
>>>>>>> 9a043f6 (chore: rename modeling notebook and add preprocessing + baseline modeling steps)
>>>>>>> 6c2f2d8 (chore: rename modeling notebook and add preprocessing + baseline modeling steps)
   "metadata": {},
   "source": [
    "### 📉 Result Analysis: Why is R² Negative for the Mean Model?\n",
    "\n",
    "While the Mean Model appears simple and intuitive, its performance in time series tasks is often very poor.\n",
    "\n",
    "- It predicts a constant value (the mean of the training set) for all test timestamps.\n",
    "- This completely ignores time-related patterns such as seasonality, trends, or cycles.\n",
    "- As a result, its predictions deviate significantly from the true values.\n",
    "\n",
    "This is reflected in a **negative R²**, which indicates that the model performs worse than simply predicting the average of the test labels (a horizontal line).\n",
    "\n",
    "By contrast, the **Naive Model**, which uses the value from the previous hour, leverages the natural continuity in the data — especially useful in energy demand prediction — and achieves a much higher R².\n",
    "\n",
    "📌 **Conclusion**:  \n",
    "The poor performance of the Mean Model highlights the importance of incorporating temporal dynamics in forecasting models."
   ]
  }
 ],
 "metadata": {
  "kernelspec": {
<<<<<<< HEAD
<<<<<<< HEAD
   "display_name": "Python (Temporal Series 3.12)",
   "language": "python",
   "name": "temporal-series"
=======
   "display_name": "prediction-temporal-series-p2enJBmg-py3.13",
   "language": "python",
   "name": "python3"
>>>>>>> 9694a3c (Pre commit and CI workflow (#8))
=======
   "display_name": "prediction-temporal-series-p2enJBmg-py3.13",
   "language": "python",
   "name": "python3"
=======
   "display_name": "Python (Temporal Series 3.12)",
   "language": "python",
   "name": "temporal-series"
>>>>>>> 9a043f6 (chore: rename modeling notebook and add preprocessing + baseline modeling steps)
>>>>>>> 6c2f2d8 (chore: rename modeling notebook and add preprocessing + baseline modeling steps)
  },
  "language_info": {
   "codemirror_mode": {
    "name": "ipython",
    "version": 3
   },
   "file_extension": ".py",
   "mimetype": "text/x-python",
   "name": "python",
   "nbconvert_exporter": "python",
   "pygments_lexer": "ipython3",
<<<<<<< HEAD
<<<<<<< HEAD
   "version": "3.12.7"
=======
   "version": "3.13.5"
>>>>>>> 9694a3c (Pre commit and CI workflow (#8))
=======
   "version": "3.13.5"
=======
   "version": "3.12.7"
>>>>>>> 9a043f6 (chore: rename modeling notebook and add preprocessing + baseline modeling steps)
>>>>>>> 6c2f2d8 (chore: rename modeling notebook and add preprocessing + baseline modeling steps)
  }
 },
 "nbformat": 4,
 "nbformat_minor": 5
}
