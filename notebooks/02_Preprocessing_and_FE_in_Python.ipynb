{
 "cells": [
  {
   "cell_type": "markdown",
<<<<<<< HEAD
   "id": "0",
=======
   "id": "897d8f38",
>>>>>>> 9a043f6 (chore: rename modeling notebook and add preprocessing + baseline modeling steps)
   "metadata": {},
   "source": [
    "# 📦 Preprocessing and Feature Engineering in Python of the Energy and Weather datasets combineds\n",
    "\n",
    "In this notebook, we begin the modeling phase using the cleaned and merged dataset previously generated during the EDA stage in `R`. The data includes hourly electricity demand, energy production by source, pricing, and weather observations.\n",
    "\n",
    "## 📦 1. Preprocessing & Feature Engineering\n",
    "\n",
    "### 🧼 1.1 Data Source & Structure\n",
    "\n",
    "We start by:\n",
    "\n",
    "1. Importing the cleaned dataset (`combined_clean.csv`)"
   ]
  },
  {
   "cell_type": "code",
<<<<<<< HEAD
   "execution_count": null,
   "id": "1",
=======
   "execution_count": 1,
   "id": "b31b3619",
>>>>>>> 9a043f6 (chore: rename modeling notebook and add preprocessing + baseline modeling steps)
   "metadata": {},
   "outputs": [],
   "source": [
    "import pandas as pd\n",
<<<<<<< HEAD
    "import matplotlib.pyplot as plt\n",
    "from pandas.api.types import CategoricalDtype\n",
    "\n",
    "# parse_dates=[\"datetime\"] to ensure convert the datetime column to datetime objects\n",
    "df = pd.read_csv(\"../data/processed/combined_clean.csv\", parse_dates=[\"datetime\"])"
=======
    "# parse_dates=[\"datetime\"] to ensure convert the datetime column to datetime objects\n",
    "df = pd.read_csv(\"../data/processed/combined_clean.csv\", parse_dates=[\"datetime\"]) "
>>>>>>> 9a043f6 (chore: rename modeling notebook and add preprocessing + baseline modeling steps)
   ]
  },
  {
   "cell_type": "markdown",
<<<<<<< HEAD
   "id": "2",
=======
   "id": "ff58f5e3",
>>>>>>> 9a043f6 (chore: rename modeling notebook and add preprocessing + baseline modeling steps)
   "metadata": {},
   "source": [
    "The dataset `combined_clean.csv` was created from a merge of two raw data sources:\n",
    "\n",
    "- **Energy data**: Hourly electricity consumption, generation, and pricing.\n",
    "- **Weather data**: Meteorological conditions across Spain’s five largest cities.\n",
    "\n",
    "The data was preprocessed in `R` and saved to disk for use in Python.\n",
    "\n",
    "#### 🔎 1.1.1 Cleaning Decisions (Already Applied in R)\n",
    "\n",
    "These preprocessing steps were applied in the EDA notebook:\n",
    "\n",
    "- Removed two features with **100% missing values**:\n",
    "  - `generation_hydro_pumped_storage_aggregated`\n",
    "  - `forecast_wind_offshore_eday_ahead`\n",
    "- Renamed timestamp fields to `datetime` and ensured consistency.\n",
    "- Merged energy and weather data using a `left_join()` on datetime.\n",
    "- Extracted **time-based features**: `hour`, `wday` (weekday), and `month`.\n",
    "- Exported the cleaned dataset as `data/processed/combined_clean.csv` (from the root directory of the project)."
   ]
  },
  {
   "cell_type": "markdown",
<<<<<<< HEAD
   "id": "3",
=======
   "id": "8fa47625",
>>>>>>> 9a043f6 (chore: rename modeling notebook and add preprocessing + baseline modeling steps)
   "metadata": {},
   "source": [
    "2. Verifying the structure and consistency of the dataset"
   ]
  },
  {
   "cell_type": "code",
<<<<<<< HEAD
   "execution_count": null,
   "id": "4",
   "metadata": {},
   "outputs": [],
=======
   "execution_count": 2,
   "id": "fd287bdc",
   "metadata": {},
   "outputs": [
    {
     "name": "stdout",
     "output_type": "stream",
     "text": [
      "<class 'pandas.core.frame.DataFrame'>\n",
      "RangeIndex: 178396 entries, 0 to 178395\n",
      "Data columns (total 46 columns):\n",
      " #   Column                                       Non-Null Count   Dtype              \n",
      "---  ------                                       --------------   -----              \n",
      " 0   datetime                                     178396 non-null  datetime64[ns, UTC]\n",
      " 1   generation_biomass                           178301 non-null  float64            \n",
      " 2   generation_fossil_brown_coal_lignite         178306 non-null  float64            \n",
      " 3   generation_fossil_coal_derived_gas           178306 non-null  float64            \n",
      " 4   generation_fossil_gas                        178306 non-null  float64            \n",
      " 5   generation_fossil_hard_coal                  178306 non-null  float64            \n",
      " 6   generation_fossil_oil                        178301 non-null  float64            \n",
      " 7   generation_fossil_oil_shale                  178306 non-null  float64            \n",
      " 8   generation_fossil_peat                       178306 non-null  float64            \n",
      " 9   generation_geothermal                        178306 non-null  float64            \n",
      " 10  generation_hydro_pumped_storage_consumption  178301 non-null  float64            \n",
      " 11  generation_hydro_run_of_river_and_poundage   178301 non-null  float64            \n",
      " 12  generation_hydro_water_reservoir             178306 non-null  float64            \n",
      " 13  generation_marine                            178301 non-null  float64            \n",
      " 14  generation_nuclear                           178311 non-null  float64            \n",
      " 15  generation_other                             178306 non-null  float64            \n",
      " 16  generation_other_renewable                   178306 non-null  float64            \n",
      " 17  generation_solar                             178306 non-null  float64            \n",
      " 18  generation_waste                             178301 non-null  float64            \n",
      " 19  generation_wind_offshore                     178306 non-null  float64            \n",
      " 20  generation_wind_onshore                      178306 non-null  float64            \n",
      " 21  forecast_solar_day_ahead                     178396 non-null  int64              \n",
      " 22  forecast_wind_onshore_day_ahead              178396 non-null  int64              \n",
      " 23  total_load_forecast                          178396 non-null  int64              \n",
      " 24  total_load_actual                            178216 non-null  float64            \n",
      " 25  price_day_ahead                              178396 non-null  float64            \n",
      " 26  price_actual                                 178396 non-null  float64            \n",
      " 27  city_name                                    178396 non-null  object             \n",
      " 28  temp                                         178396 non-null  float64            \n",
      " 29  temp_min                                     178396 non-null  float64            \n",
      " 30  temp_max                                     178396 non-null  float64            \n",
      " 31  pressure                                     178396 non-null  int64              \n",
      " 32  humidity                                     178396 non-null  int64              \n",
      " 33  wind_speed                                   178396 non-null  int64              \n",
      " 34  wind_deg                                     178396 non-null  int64              \n",
      " 35  rain_1h                                      178396 non-null  float64            \n",
      " 36  rain_3h                                      178396 non-null  float64            \n",
      " 37  snow_3h                                      178396 non-null  float64            \n",
      " 38  clouds_all                                   178396 non-null  int64              \n",
      " 39  weather_id                                   178396 non-null  int64              \n",
      " 40  weather_main                                 178396 non-null  object             \n",
      " 41  weather_description                          178396 non-null  object             \n",
      " 42  weather_icon                                 178396 non-null  object             \n",
      " 43  hour                                         178396 non-null  int64              \n",
      " 44  wday                                         178396 non-null  object             \n",
      " 45  month                                        178396 non-null  object             \n",
      "dtypes: datetime64[ns, UTC](1), float64(29), int64(10), object(6)\n",
      "memory usage: 62.6+ MB\n"
     ]
    }
   ],
>>>>>>> 9a043f6 (chore: rename modeling notebook and add preprocessing + baseline modeling steps)
   "source": [
    "df.info()"
   ]
  },
  {
   "cell_type": "code",
<<<<<<< HEAD
   "execution_count": null,
   "id": "5",
   "metadata": {},
   "outputs": [],
=======
   "execution_count": 3,
   "id": "2ff0b350",
   "metadata": {},
   "outputs": [
    {
     "data": {
      "application/vnd.microsoft.datawrangler.viewer.v0+json": {
       "columns": [
        {
         "name": "index",
         "rawType": "object",
         "type": "string"
        },
        {
         "name": "generation_biomass",
         "rawType": "float64",
         "type": "float"
        },
        {
         "name": "generation_fossil_brown_coal_lignite",
         "rawType": "float64",
         "type": "float"
        },
        {
         "name": "generation_fossil_coal_derived_gas",
         "rawType": "float64",
         "type": "float"
        },
        {
         "name": "generation_fossil_gas",
         "rawType": "float64",
         "type": "float"
        },
        {
         "name": "generation_fossil_hard_coal",
         "rawType": "float64",
         "type": "float"
        },
        {
         "name": "generation_fossil_oil",
         "rawType": "float64",
         "type": "float"
        },
        {
         "name": "generation_fossil_oil_shale",
         "rawType": "float64",
         "type": "float"
        },
        {
         "name": "generation_fossil_peat",
         "rawType": "float64",
         "type": "float"
        },
        {
         "name": "generation_geothermal",
         "rawType": "float64",
         "type": "float"
        },
        {
         "name": "generation_hydro_pumped_storage_consumption",
         "rawType": "float64",
         "type": "float"
        },
        {
         "name": "generation_hydro_run_of_river_and_poundage",
         "rawType": "float64",
         "type": "float"
        },
        {
         "name": "generation_hydro_water_reservoir",
         "rawType": "float64",
         "type": "float"
        },
        {
         "name": "generation_marine",
         "rawType": "float64",
         "type": "float"
        },
        {
         "name": "generation_nuclear",
         "rawType": "float64",
         "type": "float"
        },
        {
         "name": "generation_other",
         "rawType": "float64",
         "type": "float"
        },
        {
         "name": "generation_other_renewable",
         "rawType": "float64",
         "type": "float"
        },
        {
         "name": "generation_solar",
         "rawType": "float64",
         "type": "float"
        },
        {
         "name": "generation_waste",
         "rawType": "float64",
         "type": "float"
        },
        {
         "name": "generation_wind_offshore",
         "rawType": "float64",
         "type": "float"
        },
        {
         "name": "generation_wind_onshore",
         "rawType": "float64",
         "type": "float"
        },
        {
         "name": "forecast_solar_day_ahead",
         "rawType": "float64",
         "type": "float"
        },
        {
         "name": "forecast_wind_onshore_day_ahead",
         "rawType": "float64",
         "type": "float"
        },
        {
         "name": "total_load_forecast",
         "rawType": "float64",
         "type": "float"
        },
        {
         "name": "total_load_actual",
         "rawType": "float64",
         "type": "float"
        },
        {
         "name": "price_day_ahead",
         "rawType": "float64",
         "type": "float"
        },
        {
         "name": "price_actual",
         "rawType": "float64",
         "type": "float"
        },
        {
         "name": "temp",
         "rawType": "float64",
         "type": "float"
        },
        {
         "name": "temp_min",
         "rawType": "float64",
         "type": "float"
        },
        {
         "name": "temp_max",
         "rawType": "float64",
         "type": "float"
        },
        {
         "name": "pressure",
         "rawType": "float64",
         "type": "float"
        },
        {
         "name": "humidity",
         "rawType": "float64",
         "type": "float"
        },
        {
         "name": "wind_speed",
         "rawType": "float64",
         "type": "float"
        },
        {
         "name": "wind_deg",
         "rawType": "float64",
         "type": "float"
        },
        {
         "name": "rain_1h",
         "rawType": "float64",
         "type": "float"
        },
        {
         "name": "rain_3h",
         "rawType": "float64",
         "type": "float"
        },
        {
         "name": "snow_3h",
         "rawType": "float64",
         "type": "float"
        },
        {
         "name": "clouds_all",
         "rawType": "float64",
         "type": "float"
        },
        {
         "name": "weather_id",
         "rawType": "float64",
         "type": "float"
        },
        {
         "name": "hour",
         "rawType": "float64",
         "type": "float"
        }
       ],
       "conversionMethod": "pd.DataFrame",
       "ref": "3e31f459-ec88-4440-ae3e-9f07e7076582",
       "rows": [
        [
         "count",
         "178301.0",
         "178306.0",
         "178306.0",
         "178306.0",
         "178306.0",
         "178301.0",
         "178306.0",
         "178306.0",
         "178306.0",
         "178301.0",
         "178301.0",
         "178306.0",
         "178301.0",
         "178311.0",
         "178306.0",
         "178306.0",
         "178306.0",
         "178301.0",
         "178306.0",
         "178306.0",
         "178396.0",
         "178396.0",
         "178396.0",
         "178216.0",
         "178396.0",
         "178396.0",
         "178396.0",
         "178396.0",
         "178396.0",
         "178396.0",
         "178396.0",
         "178396.0",
         "178396.0",
         "178396.0",
         "178396.0",
         "178396.0",
         "178396.0",
         "178396.0",
         "178396.0"
        ],
        [
         "mean",
         "382.99900168815657",
         "448.2568898410598",
         "0.0",
         "5626.254427781454",
         "4254.162344508878",
         "298.1496514321288",
         "0.0",
         "0.0",
         "0.0",
         "475.1211434596553",
         "972.9373643445634",
         "2606.765851962357",
         "0.0",
         "6263.549315521757",
         "60.1606059246464",
         "85.74450102632554",
         "1428.4372651509204",
         "269.74818985872207",
         "0.0",
         "5471.050962951331",
         "1435.2897878876208",
         "5477.759299535864",
         "28720.385300118836",
         "28706.11231875926",
         "49.921226653063975",
         "57.92347165855737",
         "289.6186050165432",
         "288.3304417729728",
         "291.0912665672506",
         "1069.2607401511245",
         "68.42345680396421",
         "2.470559878024171",
         "166.59119038543466",
         "0.07549182717101281",
         "0.00037976468082244003",
         "0.004762915087782237",
         "25.073292002062825",
         "759.8319020605843",
         "11.483760846655755"
        ],
        [
         "std",
         "85.25665174952358",
         "354.29758455273594",
         "0.0",
         "2203.8881563758623",
         "1960.8834146325937",
         "52.464334163607894",
         "0.0",
         "0.0",
         "0.0",
         "792.3992858020881",
         "400.9742090922793",
         "1835.9309038914598",
         "0.0",
         "839.9739704503468",
         "20.21223052504733",
         "14.072136306774038",
         "1676.555025243601",
         "50.091359732438036",
         "0.0",
         "3215.4088806550826",
         "1674.1152594805055",
         "3178.3327668582097",
         "4597.94728334454",
         "4579.010440558597",
         "14.625882321366966",
         "14.210251053095412",
         "8.026199276012804",
         "7.95549092724401",
         "8.612454020046112",
         "5969.631893187772",
         "21.902887538852834",
         "2.0959098871087862",
         "116.61192652638162",
         "0.3988473466868724",
         "0.007288445448099656",
         "0.222603841665513",
         "30.774129213092074",
         "108.73322260273335",
         "6.911419351610191"
        ],
        [
         "min",
         "0.0",
         "0.0",
         "0.0",
         "0.0",
         "0.0",
         "0.0",
         "0.0",
         "0.0",
         "0.0",
         "0.0",
         "0.0",
         "0.0",
         "0.0",
         "0.0",
         "0.0",
         "0.0",
         "0.0",
         "0.0",
         "0.0",
         "0.0",
         "0.0",
         "237.0",
         "18105.0",
         "18041.0",
         "2.06",
         "9.33",
         "262.24",
         "262.24",
         "262.24",
         "0.0",
         "0.0",
         "0.0",
         "0.0",
         "0.0",
         "0.0",
         "0.0",
         "0.0",
         "200.0",
         "0.0"
        ],
        [
         "25%",
         "333.0",
         "0.0",
         "0.0",
         "4127.0",
         "2526.0",
         "263.0",
         "0.0",
         "0.0",
         "0.0",
         "0.0",
         "638.0",
         "1079.0",
         "0.0",
         "5757.0",
         "53.0",
         "74.0",
         "70.0",
         "241.0",
         "0.0",
         "2940.0",
         "69.0",
         "2984.0",
         "24796.0",
         "24809.0",
         "41.5",
         "49.39",
         "283.67",
         "282.4836015625",
         "284.65",
         "1013.0",
         "53.0",
         "1.0",
         "55.0",
         "0.0",
         "0.0",
         "0.0",
         "0.0",
         "800.0",
         "6.0"
        ],
        [
         "50%",
         "366.0",
         "509.0",
         "0.0",
         "4972.0",
         "4473.0",
         "300.0",
         "0.0",
         "0.0",
         "0.0",
         "67.0",
         "907.0",
         "2166.0",
         "0.0",
         "6563.0",
         "57.0",
         "88.0",
         "615.0",
         "280.0",
         "0.0",
         "4856.0",
         "576.0",
         "4861.0",
         "28913.0",
         "28916.0",
         "50.56",
         "58.06",
         "289.15",
         "288.15",
         "290.15",
         "1018.0",
         "72.0",
         "2.0",
         "177.0",
         "0.0",
         "0.0",
         "0.0",
         "20.0",
         "800.0",
         "11.0"
        ],
        [
         "75%",
         "430.0",
         "757.0",
         "0.0",
         "6435.0",
         "5836.0",
         "330.0",
         "0.0",
         "0.0",
         "0.0",
         "615.0",
         "1251.0",
         "3759.0",
         "0.0",
         "7025.0",
         "80.0",
         "97.0",
         "2563.0",
         "310.0",
         "0.0",
         "7407.0",
         "2621.0",
         "7363.0",
         "32278.0",
         "32202.0",
         "60.6",
         "68.05",
         "295.15",
         "293.73012500000004",
         "297.15",
         "1022.0",
         "87.0",
         "4.0",
         "270.0",
         "0.0",
         "0.0",
         "0.0",
         "40.0",
         "801.0",
         "17.0"
        ],
        [
         "max",
         "592.0",
         "999.0",
         "0.0",
         "20034.0",
         "8359.0",
         "449.0",
         "0.0",
         "0.0",
         "0.0",
         "4523.0",
         "2000.0",
         "9728.0",
         "0.0",
         "7117.0",
         "106.0",
         "119.0",
         "5792.0",
         "357.0",
         "0.0",
         "17436.0",
         "5836.0",
         "17430.0",
         "41390.0",
         "41015.0",
         "101.99",
         "116.8",
         "315.6",
         "315.15",
         "321.15",
         "1008371.0",
         "100.0",
         "133.0",
         "360.0",
         "12.0",
         "2.315",
         "21.5",
         "100.0",
         "804.0",
         "23.0"
        ]
       ],
       "shape": {
        "columns": 39,
        "rows": 8
       }
      },
      "text/html": [
       "<div>\n",
       "<style scoped>\n",
       "    .dataframe tbody tr th:only-of-type {\n",
       "        vertical-align: middle;\n",
       "    }\n",
       "\n",
       "    .dataframe tbody tr th {\n",
       "        vertical-align: top;\n",
       "    }\n",
       "\n",
       "    .dataframe thead th {\n",
       "        text-align: right;\n",
       "    }\n",
       "</style>\n",
       "<table border=\"1\" class=\"dataframe\">\n",
       "  <thead>\n",
       "    <tr style=\"text-align: right;\">\n",
       "      <th></th>\n",
       "      <th>generation_biomass</th>\n",
       "      <th>generation_fossil_brown_coal_lignite</th>\n",
       "      <th>generation_fossil_coal_derived_gas</th>\n",
       "      <th>generation_fossil_gas</th>\n",
       "      <th>generation_fossil_hard_coal</th>\n",
       "      <th>generation_fossil_oil</th>\n",
       "      <th>generation_fossil_oil_shale</th>\n",
       "      <th>generation_fossil_peat</th>\n",
       "      <th>generation_geothermal</th>\n",
       "      <th>generation_hydro_pumped_storage_consumption</th>\n",
       "      <th>...</th>\n",
       "      <th>pressure</th>\n",
       "      <th>humidity</th>\n",
       "      <th>wind_speed</th>\n",
       "      <th>wind_deg</th>\n",
       "      <th>rain_1h</th>\n",
       "      <th>rain_3h</th>\n",
       "      <th>snow_3h</th>\n",
       "      <th>clouds_all</th>\n",
       "      <th>weather_id</th>\n",
       "      <th>hour</th>\n",
       "    </tr>\n",
       "  </thead>\n",
       "  <tbody>\n",
       "    <tr>\n",
       "      <th>count</th>\n",
       "      <td>178301.000000</td>\n",
       "      <td>178306.000000</td>\n",
       "      <td>178306.0</td>\n",
       "      <td>178306.000000</td>\n",
       "      <td>178306.000000</td>\n",
       "      <td>178301.000000</td>\n",
       "      <td>178306.0</td>\n",
       "      <td>178306.0</td>\n",
       "      <td>178306.0</td>\n",
       "      <td>178301.000000</td>\n",
       "      <td>...</td>\n",
       "      <td>1.783960e+05</td>\n",
       "      <td>178396.000000</td>\n",
       "      <td>178396.00000</td>\n",
       "      <td>178396.000000</td>\n",
       "      <td>178396.000000</td>\n",
       "      <td>178396.000000</td>\n",
       "      <td>178396.000000</td>\n",
       "      <td>178396.000000</td>\n",
       "      <td>178396.000000</td>\n",
       "      <td>178396.000000</td>\n",
       "    </tr>\n",
       "    <tr>\n",
       "      <th>mean</th>\n",
       "      <td>382.999002</td>\n",
       "      <td>448.256890</td>\n",
       "      <td>0.0</td>\n",
       "      <td>5626.254428</td>\n",
       "      <td>4254.162345</td>\n",
       "      <td>298.149651</td>\n",
       "      <td>0.0</td>\n",
       "      <td>0.0</td>\n",
       "      <td>0.0</td>\n",
       "      <td>475.121143</td>\n",
       "      <td>...</td>\n",
       "      <td>1.069261e+03</td>\n",
       "      <td>68.423457</td>\n",
       "      <td>2.47056</td>\n",
       "      <td>166.591190</td>\n",
       "      <td>0.075492</td>\n",
       "      <td>0.000380</td>\n",
       "      <td>0.004763</td>\n",
       "      <td>25.073292</td>\n",
       "      <td>759.831902</td>\n",
       "      <td>11.483761</td>\n",
       "    </tr>\n",
       "    <tr>\n",
       "      <th>std</th>\n",
       "      <td>85.256652</td>\n",
       "      <td>354.297585</td>\n",
       "      <td>0.0</td>\n",
       "      <td>2203.888156</td>\n",
       "      <td>1960.883415</td>\n",
       "      <td>52.464334</td>\n",
       "      <td>0.0</td>\n",
       "      <td>0.0</td>\n",
       "      <td>0.0</td>\n",
       "      <td>792.399286</td>\n",
       "      <td>...</td>\n",
       "      <td>5.969632e+03</td>\n",
       "      <td>21.902888</td>\n",
       "      <td>2.09591</td>\n",
       "      <td>116.611927</td>\n",
       "      <td>0.398847</td>\n",
       "      <td>0.007288</td>\n",
       "      <td>0.222604</td>\n",
       "      <td>30.774129</td>\n",
       "      <td>108.733223</td>\n",
       "      <td>6.911419</td>\n",
       "    </tr>\n",
       "    <tr>\n",
       "      <th>min</th>\n",
       "      <td>0.000000</td>\n",
       "      <td>0.000000</td>\n",
       "      <td>0.0</td>\n",
       "      <td>0.000000</td>\n",
       "      <td>0.000000</td>\n",
       "      <td>0.000000</td>\n",
       "      <td>0.0</td>\n",
       "      <td>0.0</td>\n",
       "      <td>0.0</td>\n",
       "      <td>0.000000</td>\n",
       "      <td>...</td>\n",
       "      <td>0.000000e+00</td>\n",
       "      <td>0.000000</td>\n",
       "      <td>0.00000</td>\n",
       "      <td>0.000000</td>\n",
       "      <td>0.000000</td>\n",
       "      <td>0.000000</td>\n",
       "      <td>0.000000</td>\n",
       "      <td>0.000000</td>\n",
       "      <td>200.000000</td>\n",
       "      <td>0.000000</td>\n",
       "    </tr>\n",
       "    <tr>\n",
       "      <th>25%</th>\n",
       "      <td>333.000000</td>\n",
       "      <td>0.000000</td>\n",
       "      <td>0.0</td>\n",
       "      <td>4127.000000</td>\n",
       "      <td>2526.000000</td>\n",
       "      <td>263.000000</td>\n",
       "      <td>0.0</td>\n",
       "      <td>0.0</td>\n",
       "      <td>0.0</td>\n",
       "      <td>0.000000</td>\n",
       "      <td>...</td>\n",
       "      <td>1.013000e+03</td>\n",
       "      <td>53.000000</td>\n",
       "      <td>1.00000</td>\n",
       "      <td>55.000000</td>\n",
       "      <td>0.000000</td>\n",
       "      <td>0.000000</td>\n",
       "      <td>0.000000</td>\n",
       "      <td>0.000000</td>\n",
       "      <td>800.000000</td>\n",
       "      <td>6.000000</td>\n",
       "    </tr>\n",
       "    <tr>\n",
       "      <th>50%</th>\n",
       "      <td>366.000000</td>\n",
       "      <td>509.000000</td>\n",
       "      <td>0.0</td>\n",
       "      <td>4972.000000</td>\n",
       "      <td>4473.000000</td>\n",
       "      <td>300.000000</td>\n",
       "      <td>0.0</td>\n",
       "      <td>0.0</td>\n",
       "      <td>0.0</td>\n",
       "      <td>67.000000</td>\n",
       "      <td>...</td>\n",
       "      <td>1.018000e+03</td>\n",
       "      <td>72.000000</td>\n",
       "      <td>2.00000</td>\n",
       "      <td>177.000000</td>\n",
       "      <td>0.000000</td>\n",
       "      <td>0.000000</td>\n",
       "      <td>0.000000</td>\n",
       "      <td>20.000000</td>\n",
       "      <td>800.000000</td>\n",
       "      <td>11.000000</td>\n",
       "    </tr>\n",
       "    <tr>\n",
       "      <th>75%</th>\n",
       "      <td>430.000000</td>\n",
       "      <td>757.000000</td>\n",
       "      <td>0.0</td>\n",
       "      <td>6435.000000</td>\n",
       "      <td>5836.000000</td>\n",
       "      <td>330.000000</td>\n",
       "      <td>0.0</td>\n",
       "      <td>0.0</td>\n",
       "      <td>0.0</td>\n",
       "      <td>615.000000</td>\n",
       "      <td>...</td>\n",
       "      <td>1.022000e+03</td>\n",
       "      <td>87.000000</td>\n",
       "      <td>4.00000</td>\n",
       "      <td>270.000000</td>\n",
       "      <td>0.000000</td>\n",
       "      <td>0.000000</td>\n",
       "      <td>0.000000</td>\n",
       "      <td>40.000000</td>\n",
       "      <td>801.000000</td>\n",
       "      <td>17.000000</td>\n",
       "    </tr>\n",
       "    <tr>\n",
       "      <th>max</th>\n",
       "      <td>592.000000</td>\n",
       "      <td>999.000000</td>\n",
       "      <td>0.0</td>\n",
       "      <td>20034.000000</td>\n",
       "      <td>8359.000000</td>\n",
       "      <td>449.000000</td>\n",
       "      <td>0.0</td>\n",
       "      <td>0.0</td>\n",
       "      <td>0.0</td>\n",
       "      <td>4523.000000</td>\n",
       "      <td>...</td>\n",
       "      <td>1.008371e+06</td>\n",
       "      <td>100.000000</td>\n",
       "      <td>133.00000</td>\n",
       "      <td>360.000000</td>\n",
       "      <td>12.000000</td>\n",
       "      <td>2.315000</td>\n",
       "      <td>21.500000</td>\n",
       "      <td>100.000000</td>\n",
       "      <td>804.000000</td>\n",
       "      <td>23.000000</td>\n",
       "    </tr>\n",
       "  </tbody>\n",
       "</table>\n",
       "<p>8 rows × 39 columns</p>\n",
       "</div>"
      ],
      "text/plain": [
       "       generation_biomass  generation_fossil_brown_coal_lignite  \\\n",
       "count       178301.000000                         178306.000000   \n",
       "mean           382.999002                            448.256890   \n",
       "std             85.256652                            354.297585   \n",
       "min              0.000000                              0.000000   \n",
       "25%            333.000000                              0.000000   \n",
       "50%            366.000000                            509.000000   \n",
       "75%            430.000000                            757.000000   \n",
       "max            592.000000                            999.000000   \n",
       "\n",
       "       generation_fossil_coal_derived_gas  generation_fossil_gas  \\\n",
       "count                            178306.0          178306.000000   \n",
       "mean                                  0.0            5626.254428   \n",
       "std                                   0.0            2203.888156   \n",
       "min                                   0.0               0.000000   \n",
       "25%                                   0.0            4127.000000   \n",
       "50%                                   0.0            4972.000000   \n",
       "75%                                   0.0            6435.000000   \n",
       "max                                   0.0           20034.000000   \n",
       "\n",
       "       generation_fossil_hard_coal  generation_fossil_oil  \\\n",
       "count                178306.000000          178301.000000   \n",
       "mean                   4254.162345             298.149651   \n",
       "std                    1960.883415              52.464334   \n",
       "min                       0.000000               0.000000   \n",
       "25%                    2526.000000             263.000000   \n",
       "50%                    4473.000000             300.000000   \n",
       "75%                    5836.000000             330.000000   \n",
       "max                    8359.000000             449.000000   \n",
       "\n",
       "       generation_fossil_oil_shale  generation_fossil_peat  \\\n",
       "count                     178306.0                178306.0   \n",
       "mean                           0.0                     0.0   \n",
       "std                            0.0                     0.0   \n",
       "min                            0.0                     0.0   \n",
       "25%                            0.0                     0.0   \n",
       "50%                            0.0                     0.0   \n",
       "75%                            0.0                     0.0   \n",
       "max                            0.0                     0.0   \n",
       "\n",
       "       generation_geothermal  generation_hydro_pumped_storage_consumption  \\\n",
       "count               178306.0                                178301.000000   \n",
       "mean                     0.0                                   475.121143   \n",
       "std                      0.0                                   792.399286   \n",
       "min                      0.0                                     0.000000   \n",
       "25%                      0.0                                     0.000000   \n",
       "50%                      0.0                                    67.000000   \n",
       "75%                      0.0                                   615.000000   \n",
       "max                      0.0                                  4523.000000   \n",
       "\n",
       "       ...      pressure       humidity    wind_speed       wind_deg  \\\n",
       "count  ...  1.783960e+05  178396.000000  178396.00000  178396.000000   \n",
       "mean   ...  1.069261e+03      68.423457       2.47056     166.591190   \n",
       "std    ...  5.969632e+03      21.902888       2.09591     116.611927   \n",
       "min    ...  0.000000e+00       0.000000       0.00000       0.000000   \n",
       "25%    ...  1.013000e+03      53.000000       1.00000      55.000000   \n",
       "50%    ...  1.018000e+03      72.000000       2.00000     177.000000   \n",
       "75%    ...  1.022000e+03      87.000000       4.00000     270.000000   \n",
       "max    ...  1.008371e+06     100.000000     133.00000     360.000000   \n",
       "\n",
       "             rain_1h        rain_3h        snow_3h     clouds_all  \\\n",
       "count  178396.000000  178396.000000  178396.000000  178396.000000   \n",
       "mean        0.075492       0.000380       0.004763      25.073292   \n",
       "std         0.398847       0.007288       0.222604      30.774129   \n",
       "min         0.000000       0.000000       0.000000       0.000000   \n",
       "25%         0.000000       0.000000       0.000000       0.000000   \n",
       "50%         0.000000       0.000000       0.000000      20.000000   \n",
       "75%         0.000000       0.000000       0.000000      40.000000   \n",
       "max        12.000000       2.315000      21.500000     100.000000   \n",
       "\n",
       "          weather_id           hour  \n",
       "count  178396.000000  178396.000000  \n",
       "mean      759.831902      11.483761  \n",
       "std       108.733223       6.911419  \n",
       "min       200.000000       0.000000  \n",
       "25%       800.000000       6.000000  \n",
       "50%       800.000000      11.000000  \n",
       "75%       801.000000      17.000000  \n",
       "max       804.000000      23.000000  \n",
       "\n",
       "[8 rows x 39 columns]"
      ]
     },
     "execution_count": 3,
     "metadata": {},
     "output_type": "execute_result"
    }
   ],
>>>>>>> 9a043f6 (chore: rename modeling notebook and add preprocessing + baseline modeling steps)
   "source": [
    "df.describe()"
   ]
  },
  {
   "cell_type": "code",
<<<<<<< HEAD
   "execution_count": null,
   "id": "6",
   "metadata": {},
   "outputs": [],
=======
   "execution_count": 4,
   "id": "cc3b295d",
   "metadata": {},
   "outputs": [
    {
     "data": {
      "application/vnd.microsoft.datawrangler.viewer.v0+json": {
       "columns": [
        {
         "name": "index",
         "rawType": "int64",
         "type": "integer"
        },
        {
         "name": "datetime",
         "rawType": "datetime64[ns, UTC]",
         "type": "unknown"
        },
        {
         "name": "generation_biomass",
         "rawType": "float64",
         "type": "float"
        },
        {
         "name": "generation_fossil_brown_coal_lignite",
         "rawType": "float64",
         "type": "float"
        },
        {
         "name": "generation_fossil_coal_derived_gas",
         "rawType": "float64",
         "type": "float"
        },
        {
         "name": "generation_fossil_gas",
         "rawType": "float64",
         "type": "float"
        },
        {
         "name": "generation_fossil_hard_coal",
         "rawType": "float64",
         "type": "float"
        },
        {
         "name": "generation_fossil_oil",
         "rawType": "float64",
         "type": "float"
        },
        {
         "name": "generation_fossil_oil_shale",
         "rawType": "float64",
         "type": "float"
        },
        {
         "name": "generation_fossil_peat",
         "rawType": "float64",
         "type": "float"
        },
        {
         "name": "generation_geothermal",
         "rawType": "float64",
         "type": "float"
        },
        {
         "name": "generation_hydro_pumped_storage_consumption",
         "rawType": "float64",
         "type": "float"
        },
        {
         "name": "generation_hydro_run_of_river_and_poundage",
         "rawType": "float64",
         "type": "float"
        },
        {
         "name": "generation_hydro_water_reservoir",
         "rawType": "float64",
         "type": "float"
        },
        {
         "name": "generation_marine",
         "rawType": "float64",
         "type": "float"
        },
        {
         "name": "generation_nuclear",
         "rawType": "float64",
         "type": "float"
        },
        {
         "name": "generation_other",
         "rawType": "float64",
         "type": "float"
        },
        {
         "name": "generation_other_renewable",
         "rawType": "float64",
         "type": "float"
        },
        {
         "name": "generation_solar",
         "rawType": "float64",
         "type": "float"
        },
        {
         "name": "generation_waste",
         "rawType": "float64",
         "type": "float"
        },
        {
         "name": "generation_wind_offshore",
         "rawType": "float64",
         "type": "float"
        },
        {
         "name": "generation_wind_onshore",
         "rawType": "float64",
         "type": "float"
        },
        {
         "name": "forecast_solar_day_ahead",
         "rawType": "int64",
         "type": "integer"
        },
        {
         "name": "forecast_wind_onshore_day_ahead",
         "rawType": "int64",
         "type": "integer"
        },
        {
         "name": "total_load_forecast",
         "rawType": "int64",
         "type": "integer"
        },
        {
         "name": "total_load_actual",
         "rawType": "float64",
         "type": "float"
        },
        {
         "name": "price_day_ahead",
         "rawType": "float64",
         "type": "float"
        },
        {
         "name": "price_actual",
         "rawType": "float64",
         "type": "float"
        },
        {
         "name": "city_name",
         "rawType": "object",
         "type": "string"
        },
        {
         "name": "temp",
         "rawType": "float64",
         "type": "float"
        },
        {
         "name": "temp_min",
         "rawType": "float64",
         "type": "float"
        },
        {
         "name": "temp_max",
         "rawType": "float64",
         "type": "float"
        },
        {
         "name": "pressure",
         "rawType": "int64",
         "type": "integer"
        },
        {
         "name": "humidity",
         "rawType": "int64",
         "type": "integer"
        },
        {
         "name": "wind_speed",
         "rawType": "int64",
         "type": "integer"
        },
        {
         "name": "wind_deg",
         "rawType": "int64",
         "type": "integer"
        },
        {
         "name": "rain_1h",
         "rawType": "float64",
         "type": "float"
        },
        {
         "name": "rain_3h",
         "rawType": "float64",
         "type": "float"
        },
        {
         "name": "snow_3h",
         "rawType": "float64",
         "type": "float"
        },
        {
         "name": "clouds_all",
         "rawType": "int64",
         "type": "integer"
        },
        {
         "name": "weather_id",
         "rawType": "int64",
         "type": "integer"
        },
        {
         "name": "weather_main",
         "rawType": "object",
         "type": "string"
        },
        {
         "name": "weather_description",
         "rawType": "object",
         "type": "string"
        },
        {
         "name": "weather_icon",
         "rawType": "object",
         "type": "string"
        },
        {
         "name": "hour",
         "rawType": "int64",
         "type": "integer"
        },
        {
         "name": "wday",
         "rawType": "object",
         "type": "string"
        },
        {
         "name": "month",
         "rawType": "object",
         "type": "string"
        }
       ],
       "conversionMethod": "pd.DataFrame",
       "ref": "96b397a8-2de1-4f76-84a9-3df7b32bd496",
       "rows": [
        [
         "0",
         "2014-12-31 23:00:00+00:00",
         "447.0",
         "329.0",
         "0.0",
         "4844.0",
         "4821.0",
         "162.0",
         "0.0",
         "0.0",
         "0.0",
         "863.0",
         "1051.0",
         "1899.0",
         "0.0",
         "7096.0",
         "43.0",
         "73.0",
         "49.0",
         "196.0",
         "0.0",
         "6378.0",
         "17",
         "6436",
         "26118",
         "25385.0",
         "50.1",
         "65.41",
         "Valencia",
         "270.475",
         "270.475",
         "270.475",
         "1001",
         "77",
         "1",
         "62",
         "0.0",
         "0.0",
         "0.0",
         "0",
         "800",
         "clear",
         "sky is clear",
         "01n",
         "23",
         "Wed",
         "Dec"
        ],
        [
         "1",
         "2014-12-31 23:00:00+00:00",
         "447.0",
         "329.0",
         "0.0",
         "4844.0",
         "4821.0",
         "162.0",
         "0.0",
         "0.0",
         "0.0",
         "863.0",
         "1051.0",
         "1899.0",
         "0.0",
         "7096.0",
         "43.0",
         "73.0",
         "49.0",
         "196.0",
         "0.0",
         "6378.0",
         "17",
         "6436",
         "26118",
         "25385.0",
         "50.1",
         "65.41",
         "Madrid",
         "267.325",
         "267.325",
         "267.325",
         "971",
         "63",
         "1",
         "309",
         "0.0",
         "0.0",
         "0.0",
         "0",
         "800",
         "clear",
         "sky is clear",
         "01n",
         "23",
         "Wed",
         "Dec"
        ],
        [
         "2",
         "2014-12-31 23:00:00+00:00",
         "447.0",
         "329.0",
         "0.0",
         "4844.0",
         "4821.0",
         "162.0",
         "0.0",
         "0.0",
         "0.0",
         "863.0",
         "1051.0",
         "1899.0",
         "0.0",
         "7096.0",
         "43.0",
         "73.0",
         "49.0",
         "196.0",
         "0.0",
         "6378.0",
         "17",
         "6436",
         "26118",
         "25385.0",
         "50.1",
         "65.41",
         "Bilbao",
         "269.6573125",
         "269.6573125",
         "269.6573125",
         "1036",
         "97",
         "0",
         "226",
         "0.0",
         "0.0",
         "0.0",
         "0",
         "800",
         "clear",
         "sky is clear",
         "01",
         "23",
         "Wed",
         "Dec"
        ],
        [
         "3",
         "2014-12-31 23:00:00+00:00",
         "447.0",
         "329.0",
         "0.0",
         "4844.0",
         "4821.0",
         "162.0",
         "0.0",
         "0.0",
         "0.0",
         "863.0",
         "1051.0",
         "1899.0",
         "0.0",
         "7096.0",
         "43.0",
         "73.0",
         "49.0",
         "196.0",
         "0.0",
         "6378.0",
         "17",
         "6436",
         "26118",
         "25385.0",
         "50.1",
         "65.41",
         "Barcelona",
         "281.625",
         "281.625",
         "281.625",
         "1035",
         "100",
         "7",
         "58",
         "0.0",
         "0.0",
         "0.0",
         "0",
         "800",
         "clear",
         "sky is clear",
         "01n",
         "23",
         "Wed",
         "Dec"
        ],
        [
         "4",
         "2014-12-31 23:00:00+00:00",
         "447.0",
         "329.0",
         "0.0",
         "4844.0",
         "4821.0",
         "162.0",
         "0.0",
         "0.0",
         "0.0",
         "863.0",
         "1051.0",
         "1899.0",
         "0.0",
         "7096.0",
         "43.0",
         "73.0",
         "49.0",
         "196.0",
         "0.0",
         "6378.0",
         "17",
         "6436",
         "26118",
         "25385.0",
         "50.1",
         "65.41",
         "Seville",
         "273.375",
         "273.375",
         "273.375",
         "1039",
         "75",
         "1",
         "21",
         "0.0",
         "0.0",
         "0.0",
         "0",
         "800",
         "clear",
         "sky is clear",
         "01n",
         "23",
         "Wed",
         "Dec"
        ]
       ],
       "shape": {
        "columns": 46,
        "rows": 5
       }
      },
      "text/html": [
       "<div>\n",
       "<style scoped>\n",
       "    .dataframe tbody tr th:only-of-type {\n",
       "        vertical-align: middle;\n",
       "    }\n",
       "\n",
       "    .dataframe tbody tr th {\n",
       "        vertical-align: top;\n",
       "    }\n",
       "\n",
       "    .dataframe thead th {\n",
       "        text-align: right;\n",
       "    }\n",
       "</style>\n",
       "<table border=\"1\" class=\"dataframe\">\n",
       "  <thead>\n",
       "    <tr style=\"text-align: right;\">\n",
       "      <th></th>\n",
       "      <th>datetime</th>\n",
       "      <th>generation_biomass</th>\n",
       "      <th>generation_fossil_brown_coal_lignite</th>\n",
       "      <th>generation_fossil_coal_derived_gas</th>\n",
       "      <th>generation_fossil_gas</th>\n",
       "      <th>generation_fossil_hard_coal</th>\n",
       "      <th>generation_fossil_oil</th>\n",
       "      <th>generation_fossil_oil_shale</th>\n",
       "      <th>generation_fossil_peat</th>\n",
       "      <th>generation_geothermal</th>\n",
       "      <th>...</th>\n",
       "      <th>rain_3h</th>\n",
       "      <th>snow_3h</th>\n",
       "      <th>clouds_all</th>\n",
       "      <th>weather_id</th>\n",
       "      <th>weather_main</th>\n",
       "      <th>weather_description</th>\n",
       "      <th>weather_icon</th>\n",
       "      <th>hour</th>\n",
       "      <th>wday</th>\n",
       "      <th>month</th>\n",
       "    </tr>\n",
       "  </thead>\n",
       "  <tbody>\n",
       "    <tr>\n",
       "      <th>0</th>\n",
       "      <td>2014-12-31 23:00:00+00:00</td>\n",
       "      <td>447.0</td>\n",
       "      <td>329.0</td>\n",
       "      <td>0.0</td>\n",
       "      <td>4844.0</td>\n",
       "      <td>4821.0</td>\n",
       "      <td>162.0</td>\n",
       "      <td>0.0</td>\n",
       "      <td>0.0</td>\n",
       "      <td>0.0</td>\n",
       "      <td>...</td>\n",
       "      <td>0.0</td>\n",
       "      <td>0.0</td>\n",
       "      <td>0</td>\n",
       "      <td>800</td>\n",
       "      <td>clear</td>\n",
       "      <td>sky is clear</td>\n",
       "      <td>01n</td>\n",
       "      <td>23</td>\n",
       "      <td>Wed</td>\n",
       "      <td>Dec</td>\n",
       "    </tr>\n",
       "    <tr>\n",
       "      <th>1</th>\n",
       "      <td>2014-12-31 23:00:00+00:00</td>\n",
       "      <td>447.0</td>\n",
       "      <td>329.0</td>\n",
       "      <td>0.0</td>\n",
       "      <td>4844.0</td>\n",
       "      <td>4821.0</td>\n",
       "      <td>162.0</td>\n",
       "      <td>0.0</td>\n",
       "      <td>0.0</td>\n",
       "      <td>0.0</td>\n",
       "      <td>...</td>\n",
       "      <td>0.0</td>\n",
       "      <td>0.0</td>\n",
       "      <td>0</td>\n",
       "      <td>800</td>\n",
       "      <td>clear</td>\n",
       "      <td>sky is clear</td>\n",
       "      <td>01n</td>\n",
       "      <td>23</td>\n",
       "      <td>Wed</td>\n",
       "      <td>Dec</td>\n",
       "    </tr>\n",
       "    <tr>\n",
       "      <th>2</th>\n",
       "      <td>2014-12-31 23:00:00+00:00</td>\n",
       "      <td>447.0</td>\n",
       "      <td>329.0</td>\n",
       "      <td>0.0</td>\n",
       "      <td>4844.0</td>\n",
       "      <td>4821.0</td>\n",
       "      <td>162.0</td>\n",
       "      <td>0.0</td>\n",
       "      <td>0.0</td>\n",
       "      <td>0.0</td>\n",
       "      <td>...</td>\n",
       "      <td>0.0</td>\n",
       "      <td>0.0</td>\n",
       "      <td>0</td>\n",
       "      <td>800</td>\n",
       "      <td>clear</td>\n",
       "      <td>sky is clear</td>\n",
       "      <td>01</td>\n",
       "      <td>23</td>\n",
       "      <td>Wed</td>\n",
       "      <td>Dec</td>\n",
       "    </tr>\n",
       "    <tr>\n",
       "      <th>3</th>\n",
       "      <td>2014-12-31 23:00:00+00:00</td>\n",
       "      <td>447.0</td>\n",
       "      <td>329.0</td>\n",
       "      <td>0.0</td>\n",
       "      <td>4844.0</td>\n",
       "      <td>4821.0</td>\n",
       "      <td>162.0</td>\n",
       "      <td>0.0</td>\n",
       "      <td>0.0</td>\n",
       "      <td>0.0</td>\n",
       "      <td>...</td>\n",
       "      <td>0.0</td>\n",
       "      <td>0.0</td>\n",
       "      <td>0</td>\n",
       "      <td>800</td>\n",
       "      <td>clear</td>\n",
       "      <td>sky is clear</td>\n",
       "      <td>01n</td>\n",
       "      <td>23</td>\n",
       "      <td>Wed</td>\n",
       "      <td>Dec</td>\n",
       "    </tr>\n",
       "    <tr>\n",
       "      <th>4</th>\n",
       "      <td>2014-12-31 23:00:00+00:00</td>\n",
       "      <td>447.0</td>\n",
       "      <td>329.0</td>\n",
       "      <td>0.0</td>\n",
       "      <td>4844.0</td>\n",
       "      <td>4821.0</td>\n",
       "      <td>162.0</td>\n",
       "      <td>0.0</td>\n",
       "      <td>0.0</td>\n",
       "      <td>0.0</td>\n",
       "      <td>...</td>\n",
       "      <td>0.0</td>\n",
       "      <td>0.0</td>\n",
       "      <td>0</td>\n",
       "      <td>800</td>\n",
       "      <td>clear</td>\n",
       "      <td>sky is clear</td>\n",
       "      <td>01n</td>\n",
       "      <td>23</td>\n",
       "      <td>Wed</td>\n",
       "      <td>Dec</td>\n",
       "    </tr>\n",
       "  </tbody>\n",
       "</table>\n",
       "<p>5 rows × 46 columns</p>\n",
       "</div>"
      ],
      "text/plain": [
       "                   datetime  generation_biomass  \\\n",
       "0 2014-12-31 23:00:00+00:00               447.0   \n",
       "1 2014-12-31 23:00:00+00:00               447.0   \n",
       "2 2014-12-31 23:00:00+00:00               447.0   \n",
       "3 2014-12-31 23:00:00+00:00               447.0   \n",
       "4 2014-12-31 23:00:00+00:00               447.0   \n",
       "\n",
       "   generation_fossil_brown_coal_lignite  generation_fossil_coal_derived_gas  \\\n",
       "0                                 329.0                                 0.0   \n",
       "1                                 329.0                                 0.0   \n",
       "2                                 329.0                                 0.0   \n",
       "3                                 329.0                                 0.0   \n",
       "4                                 329.0                                 0.0   \n",
       "\n",
       "   generation_fossil_gas  generation_fossil_hard_coal  generation_fossil_oil  \\\n",
       "0                 4844.0                       4821.0                  162.0   \n",
       "1                 4844.0                       4821.0                  162.0   \n",
       "2                 4844.0                       4821.0                  162.0   \n",
       "3                 4844.0                       4821.0                  162.0   \n",
       "4                 4844.0                       4821.0                  162.0   \n",
       "\n",
       "   generation_fossil_oil_shale  generation_fossil_peat  generation_geothermal  \\\n",
       "0                          0.0                     0.0                    0.0   \n",
       "1                          0.0                     0.0                    0.0   \n",
       "2                          0.0                     0.0                    0.0   \n",
       "3                          0.0                     0.0                    0.0   \n",
       "4                          0.0                     0.0                    0.0   \n",
       "\n",
       "   ...  rain_3h  snow_3h  clouds_all  weather_id  weather_main  \\\n",
       "0  ...      0.0      0.0           0         800         clear   \n",
       "1  ...      0.0      0.0           0         800         clear   \n",
       "2  ...      0.0      0.0           0         800         clear   \n",
       "3  ...      0.0      0.0           0         800         clear   \n",
       "4  ...      0.0      0.0           0         800         clear   \n",
       "\n",
       "   weather_description  weather_icon  hour  wday  month  \n",
       "0         sky is clear           01n    23   Wed    Dec  \n",
       "1         sky is clear           01n    23   Wed    Dec  \n",
       "2         sky is clear            01    23   Wed    Dec  \n",
       "3         sky is clear           01n    23   Wed    Dec  \n",
       "4         sky is clear           01n    23   Wed    Dec  \n",
       "\n",
       "[5 rows x 46 columns]"
      ]
     },
     "execution_count": 4,
     "metadata": {},
     "output_type": "execute_result"
    }
   ],
>>>>>>> 9a043f6 (chore: rename modeling notebook and add preprocessing + baseline modeling steps)
   "source": [
    "df.head()"
   ]
  },
  {
   "cell_type": "markdown",
<<<<<<< HEAD
   "id": "7",
=======
   "id": "0fb49b93",
>>>>>>> 9a043f6 (chore: rename modeling notebook and add preprocessing + baseline modeling steps)
   "metadata": {},
   "source": [
    "##### 🔍 Visual Inspection: Energy Load Over Time\n",
    "\n",
    "This plot gives an initial view of the total electricity demand over the entire time range. We expect to observe:\n",
    "\n",
    "- Daily and seasonal patterns\n",
    "- Sudden drops or spikes (potential anomalies or holidays)\n",
    "- Long-term trends in consumption\n",
    "\n",
    "This will help guide our feature engineering and baseline modeling decisions."
   ]
  },
  {
   "cell_type": "code",
<<<<<<< HEAD
   "execution_count": null,
   "id": "8",
   "metadata": {},
   "outputs": [],
   "source": [
=======
   "execution_count": 5,
   "id": "ad1f5a66",
   "metadata": {},
   "outputs": [
    {
     "data": {
      "image/png": "iVBORw0KGgoAAAANSUhEUgAABW0AAAGGCAYAAAAAW6PhAAAAOnRFWHRTb2Z0d2FyZQBNYXRwbG90bGliIHZlcnNpb24zLjEwLjMsIGh0dHBzOi8vbWF0cGxvdGxpYi5vcmcvZiW1igAAAAlwSFlzAAAPYQAAD2EBqD+naQAA42xJREFUeJzsnQeUFFXWx2+ThpxzzkkyKGYxgTmHXeNiWnP81HXXxYArrrvGFXXXnMWcUEAQEAQFyTnnMEOcIc3ADP2dW0wN1dVV1RXeq9T/3zl9Zrq7uupV1asX7rv3fxPJZDJJAAAAAAAAAAAAAAAAAEJBuaALAAAAAAAAAAAAAAAAAOAwMNoCAAAAAAAAAAAAAABAiIDRFgAAAAAAAAAAAAAAAEIEjLYAAAAAAAAAAAAAAAAQImC0BQAAAAAAAAAAAAAAgBABoy0AAAAAAAAAAAAAAACECBhtAQAAAAAAAAAAAAAAIETAaAsAAAAAAAAAAAAAAAAhAkZbAAAAAAAAAAAAAAAACBEw2gIAAAAAAOADrVu3pj/96U+UzSQSCXr00UeDLgYAAAAAQOiB0RYAAAAAIMa8/fbbiqHM7PXrr79SnOFzvP322ylq7Nmzh4YOHUo9evSgqlWrUq1ateiEE06gd999l5LJJEWlfqkvNlgDAAAAAAD7VHCwLQAAAAAAiCiPP/44tWnTJu3z9u3bB1IeYE5ubi6deuqptGjRIvrDH/6gGJ0LCwvp888/p2uvvZa+//57+uCDD6h8+fJBF5VOPPFEeu+991I+u+GGG+ioo46im266qeyz6tWrK3/37dtHFSpgCgIAAAAAkAmMmAAAAAAAsoAzzzyT+vXrFwoP0mrVqgVdjFDDhlk22H755Zd03nnnlX1+55130v3330///ve/qXfv3vTggw/6VqaDBw/S/v37qXLlyimft23bVnlpufnmm5XPrrrqqrT96H8PAAAAAACMgTwCAAAAAACg1atXK2HsbBD83//+R+3ataOcnBw68sgjafr06WnbL168mC655BKqW7euYohjg/A333xjGDo/ceJEuvXWW6lhw4bUvHnzsu+HDx+uGPeqVKmieGZOmjSJBgwYoLyY3bt3Kwbeu+66K+3469evVzxNhw0bJsSQfN9991GLFi2Uc+7UqZNyHfQyBG+99Radcsopynnwdl27dqVXXnklbX/8uyeeeEI5V5Y2OPnkk2nBggW2ysJyFaNHj1a0b7UGWxU+3w4dOtA///lPxWv1wIEDyj0YPHhw2rYFBQXKvfm///u/ss+KiorokUceUTys+Rz4nB944AHlcyNZCfboPeKII5RtR40aRaI1bfl//mzp0qWKkZdlIBo0aEB///vfleu4bt06Ov/886lmzZrUuHFjeuaZZ9L2afecAAAAAACiBDxtAQAAAACygPz8fNq6dWvKZ2wsq1evXspnH374Ie3atYv+/Oc/K98//fTTdNFFF9HKlSupYsWKyjZsgDzuuOOoWbNm9Je//EUxrH7yySd0wQUXKCH8F154Yco+2WDLhrghQ4YoBlKGjZ1sFGSd1nvuuUcxGvPv69SpU2bY5ZB63teIESPo2WefTZED+OijjxSj3pVXXunpuvA+2Dg6fvx4uv7666lXr16K0ZQ9Wjds2EDPPfdc2bZcZjZg8vYc4v/tt98q58ZeqLfddlvZdnyebLQ966yzlNfMmTNp4MCBiqdqJnifzDXXXGP4PR/3iiuuoMcee4x++eUXOu2005Rr9MUXX9B///tfqlSpUtm2X331lWK4ZIkFhsvJZZ88ebIiXdClSxeaN2+eco5sNOXttfz000/KfeX7VL9+fam6tJdffrlSnqeeeopGjhypXD82RvM5saGcjdRsQGYDNC8ksCyDm3MCAAAAAIgMSQAAAAAAEFveeustdhc1fOXk5JRtt2rVKuWzevXqJbdv3172+ddff618/u2335Z9duqppya7d++eLCwsLPvs4MGDyWOPPTbZoUOHtGMff/zxyeLi4rLPi4qKlOMceeSRyQMHDpR9/vbbbyvbn3TSSWWfjR49Wvnshx9+SDmvHj16pGxnBv/2tttuM/3+q6++UrZ54oknUj6/5JJLkolEIrl8+fKyz/bu3Zv2+0GDBiXbtm1b9j4vLy9ZqVKl5Nlnn61cE5W//vWvynGuvfZay/JecMEFynY7duww3eaLL75QtnnxxRdTrpH2HjFnnXVWStnee++9ZLly5ZKTJk1K2e7VV19Vfv/LL7+UfcbvedsFCxYknVKtWjXT8+T9PvLII2Xv+X/+7Kabbir7jOtK8+bNlev/1FNPlX3O16RKlSop+3ZyTgAAAAAAUQLyCAAAAAAAWQBLEfz4448prx9++MHQ45G9XVXYE5ZhT1tm+/btigfmZZddpnjksvcuv7Zt20aDBg2iZcuWKR6qWm688cYUL9nff/9d2Z4/1yalYq9Z7bEZ9iRt2rSp4mWpMn/+fJo7d66hZqpTOKkXl431YrWwXALbGLXXiGUc9J7LJ510knJt+D0zduxYxaP2jjvuUDyVVe6++25b5eFrytSoUcN0G/U7lj9g2BOVPWHZI1llx44dyj3m+6ny6aefKp6onTt3Lrtv/OLfM+xtrIXPjSUg/ICTl6nw/WC5Db7+7P2sUrt2bUW6Qq2Lbs4JAAAAACAqQB4BAAAAACALYM1YO4nIWrZsmfJeNaKyEZBZvny5YkxjzVF+GZGXl6dIJ6i0adMm5fs1a9Yof1mDVAsbcPUh+OXKlVOMuSxNsHfvXkUjlg24rNV66aWXkle4LGwU1htJ2RCoLSvDcgSsnTp16lSlLFrYaMt6rOr2rDurheUh9AZpI9RysPGWjZR2DLt83S6++GJF2oLlEFjXleUSWO9Wa7RlgzonOOOymN03Lfr7JhN9veNryfeYjdH6z9ng7/acAAAAAACiAoy2AAAAAACgDK1HrBY1KRdriDKsLcqetUbojbFaD1U3sL7rv/71L0Wf9I9//KNinDznnHMUA55frFixgk499VTFo5P1dTnZFevHsqcu66eq18UrbCzm82RPYlW3VQ9/x2i9YFm3lvVf2TOYtYFZi5bL2rNnz7JtuIzdu3dXym8En5PI++a13mWqi27OCQAAAAAgKsBoCwAAAAAAbNO2bVvlLyclY+kCN7Rq1arMa/fkk08u+7y4uFhJSNajR4+U7bt160a9e/dWPGw5SdnatWvpP//5j6fz0JaFJQ3Ye1Xrbbt48eKUsnKCMPZi/eabb1K8QvXh9+r27AGqXitmy5YtZd7KVrAxetiwYfTuu+8aGm1LSkoUozV77XIyOBXetkmTJopEwvHHH69IWPztb39L+W27du1ozpw5ivFZK90QZeJ4TgAAAAAADDRtAQAAAACAbRo2bEgDBgxQvDo3bdqU9j0bJzPBMg316tWj1157TTHUqrBR1sywefXVV9OYMWPo+eefV3575plnkgjOOussxRD60ksvpXzO3rNsBFSPo3p9ar08WRLhrbfeSvkdG7LZoM1GZe22XG47HHvssco+eL/fffdd2vdsiF26dCk98MADKZ6wLCNxySWXKMbl9957T7muWmkEhnWIWW+Yr7ueffv20Z49eyhqxPGcAAAAAAAYeNoCAAAAAGQBHDaveo/qjYRaj1C7Sc3Ym5PD0jmZGP8+NzdX0Xpdv3694vloBcsKPProo0qyLk4YxYY39rB9++23Fc9JI4/JK664QjFUfvnll3TLLbcohlG7cOKzJ554Iu1zNj6fe+65ircvG0O5DCwnwMbhr7/+WkkexuVhBg4cqJSbt//zn/9Mu3fvVgyFbMTWGq9ZW5WlI9hblr1m2Sg8a9Ys5frr9VnNYC9b9hw9//zzlfPmZHDs5cs6tRMmTFCMsffff3/a7/hzNhaz7i7fG1WXV2v4ZtmEm2++WfEQZk9dNlhzveDPR48ebUv3OEzE8ZwAAAAAABgYbQEAAAAAsoAhQ4YYfs4enU6NtqylyobQxx57TDG0cmIoNl6yhIHZcfTcfvvtiifqM888oxg52VjK0gN33nmnkoBKT6NGjRTDKWvIsqHOCb/99pvy0jN06FDF+MzH5XKztABfD06Gxhq69913X9m2nTp1os8++4wefvhhpbyNGzdWjMdspL3uuutS9ssGYj6HV199VTEk9u/fXzEEn3322bbKyzIH06ZNU67Np59+Sp9//rmSbIxlI/h6s8avkWGbDfCs4bpu3bo0L1vVG5f1ctmLmA3DbADnxG58/++66y7q2LEjRY04nhMAAAAAAJNIauO2AAAAAAAACAhOKsVG0Isuusgw3P3CCy+kefPmKVq4AAAAAAAAxBlo2gIAAAAAAN8pLCxM0Xxl2FNy+/btimyBHpYgGDlypGMvWwAAAAAAAKIIPG0BAAAAAIDvsDbrPffcQ5deeqmSWGzmzJn0xhtvKDqsM2bMUPRjmVWrVtEvv/xCr7/+Ok2fPp1WrFihSBMAAAAAAAAQZ6BpCwAAAAAAfId1Y1l/9cUXX1S8a+vWratotT711FNlBltm4sSJNHjwYGrZsiW98847MNgCAAAAAICsAJ62AAAAAAAAAAAAAAAAECKgaQsAAAAAAAAAAAAAAAAhAkZbAAAAAAAAAAAAAAAACBHQtBXEwYMHaePGjVSjRg1KJBJBFwcAAAAAAAAAAAAAABAyWKl2165d1LRpUypXztyfFkZbQbDBlpNpAAAAAAAAAAAAAAAAgBXr1q2j5s2bm34Po60g2MNWveA1a9YMujgAAAAAAAAAAAAAAICQUVBQoDh+qrZEM2C0FYQqicAGWxhtAQAAAAAAAAAAAAAAZmSSV0UiMgAAAAAAAAAAAAAAAAgRMNoCAAAAAAAAAAAAAABAiIDRFgAAAAAAAAAAAAAAAEIEjLYAAAAAAAAAAAAAAAAQImC0BQAAAAAAAAAAAAAAgBABoy0AAAAAAAAAAAAAAACECBhtAQAAAAAAAAAAAAAAIETAaAsAAAAAAAAAAAAAAAAhAkZbAAAAAAAAAAAAAAAACBEw2gIAAAAAAAAAAAAAAECIgNEWAAAAAACAkDFt1XZ66ofFtGPP/qCLAgAAAAAAAgBGWwAAAAAAAELGfyeuoGW5u+j/Pp0TdFEAAAAAAEAAwGgLAAAAAABAiFm1dU/QRQAAAAAAAD4Doy0AAAAAAAAhZndhcdBFAAAAAAAAPgOjLQAAAAAAAAAAAABwTMnBJBWXHJR6jOHjl9OwHxZRMpmUehwAwgaMtgAAAAAAAAAAAADAEWxE/esX8+i+T+dINdzOXLODlufupvU79kk7BgBhBEZbAAAAAAAAQkyS4FkEAAAgfBQfTNLW3UWKjM/2PfuDLg4AsQNGWwAAAAAAAEIMokEBAAAAALIPGG0BkMT8Dfk0bdX2oIsBAAAAAAAAAABEEujYgmwmNEbbp556ihKJBN19991lnxUWFtJtt91G9erVo+rVq9PFF19Mubm5Kb9bu3YtnX322VS1alVq2LAh3X///VRcnJphd8KECdSnTx/Kycmh9u3b09tvv512/OHDh1Pr1q2pcuXK1L9/f5o2bZrEs81ulubuotVb91Dcee7HpfTfiSto2+4iKfvfsquIflu5DZ0YAAAAEHPQ0wMAAHADzxUnL9sqbf6dkLJXAECojLbTp0+n//73v9SjR4+Uz++55x769ttv6dNPP6WJEyfSxo0b6aKLLir7vqSkRDHY7t+/n6ZMmULvvPOOYpAdMmRI2TarVq1Stjn55JNp9uzZilH4hhtuoNGjR5dtM2LECLr33nvpkUceoZkzZ1LPnj1p0KBBlJeX59MVyB4KCg/QP39YTEO/W5g1xsZdhamLCKL4y+dz6X8/r6TJy7dK2T8AAESNvIJCWpUFi4IAAAAAAHZYsLGA3vpllTL/lk12zO4ByDKj7e7du+nKK6+k1157jerUqVP2eX5+Pr3xxhv07LPP0imnnEJ9+/alt956SzHO/vrrr8o2Y8aMoYULF9L7779PvXr1ojPPPJOGDh2qeM2yIZd59dVXqU2bNvTMM89Qly5d6Pbbb6dLLrmEnnvuubJj8TFuvPFGGjx4MHXt2lX5DXvuvvnmmwFckXiTv/dA2f/Dxy8PtCxxYcnmXUEXASBsB4BQ8NAX8+iJ7xYiEQaIHeMWpUaaAQAAiMf8Ycaa7bQ5v1DaMdbv2Ecy8WMGhGkWyGYCN9qy/AF7wp522mkpn8+YMYMOHDiQ8nnnzp2pZcuWNHXqVOU9/+3evTs1atSobBv2kC0oKKAFCxaUbaPfN2+j7oONu3ws7TblypVT3qvbGFFUVKQcR/sCmUlo4idmrd0ZZFEAEMbizQV07ydzaMaaHUEXBQBARJvy5U5QAPCbhRsxzgQAgLgxf0MBvTx+Bf3ty3kUVWBQBSDGRtuPP/5YkSMYNmxY2nebN2+mSpUqUe3atVM+ZwMtf6duozXYqt+r31ltw0bWffv20datWxWZBaNt1H0YwWWuVatW2atFixaOzz8bYd1iAETAWsHsrb0sN3hP43+PXkoF+w7Qy/AeByAUlBzEDAIAAAAA4WbVtnhJOsky4O47UCJnxwBEgMCMtuvWraO77rqLPvjgAyX5V9R46KGHFAkH9cXnAzIDky0QxeuTV9HMNTvoqR8WB10USCMAEDJgtAVRB/0KAAAAEcTBZ+rr2RuDLgIA2We0ZUkCTvTVp08fqlChgvLiZGMvvvii8j97urJ0wc6dqSH0ubm51LhxY+V//svv9d+r31ltU7NmTapSpQrVr1+fypcvb7iNug8jcnJylH1oX8B5p1FccpDiDqZdcti6q4iyafL+++rttCWLzhkALxyEwQtEnG/nbgq6CAAAEDlmrd1BH/62Fou3MWPHXvm5Cnbs2U8PfDaHvp+H/heEi8CMtqeeeirNmzePZs+eXfbq16+fkpRM/b9ixYo0bty4st8sWbKE1q5dS8ccc4zynv/yPtj4q/Ljjz8qBlROKKZuo92Huo26D5Zg4CRn2m0OHjyovFe3AfJ4ecKKoIsAIkocVo3tMn31Dnplwgr6y+dzgy4KAJGguASTNRBtvp61IegiAABA5Hjpp+VK4sbJy7cGXZSsIRkTF6WvZm+gbbv30+cz1gddFABSqEABUaNGDerWrVvKZ9WqVaN69eqVfX799dfTvffeS3Xr1lUMsXfccYdiSD366KOV7wcOHKgYZ6+++mp6+umnFQ3ahx9+WEluxp6wzM0330wvvfQSPfDAA3TdddfRTz/9RJ988gmNHDmy7Lh8jGuvvVYxFB911FH0/PPP0549e2jw4MG+XpNsIKETSJizbmfswxqzyLboK+WyyGq7JAS6vQAAAAAAAEQB9poEwAkI0gJhJTCjrR2ee+45KleuHF188cVUVFREgwYNopdffrnse5Y1+O677+iWW25RjLls9GXj6+OPP162TZs2bRQD7T333EMvvPACNW/enF5//XVlXyqXX345bdmyhYYMGaIYfnv16kWjRo1KS04GgBvQ/sshi2y2AACHoN0FAAAAAIiHsdOPed/e/cXyDwJA1I22EyZMSHnPCcqGDx+uvMxo1aoVff/995b7HTBgAM2aNctym9tvv115gewwtC3P2017ioqpZ4vaQRcl1OTvPUDrd+6lrk1qUiIsN6+UsJUHABAe4C0BAAAAhBc2kFWtJM8UEZeQfRHInjHN35BPcWDW2nhGAIPoE5imLchOig6EI/HYsO8X0YvjltHW3UXSDQZRNi3e/9kcenbMUpq5docvxzt4MGkrnGnf/hLKzS+kbCHKdQgAlXenrqbnxy5NkY+J2mRtyoqtNOyHRZS/74CU/QMAgFe4jfWjnQXAS7KwOz6cRZ9MXyftGFF5BKat2kZRZ/ySw/mFZPnU6CUWAcgmYLQFvvLYtwso2/SOIjJmMETNvDp/Q4Evxxs+fjn936dzaMHGfNuDA6fwRGZ3EcJfAPCbiUu20Lz1+bR6216KKm9MWkXLc3fTZ0hSAQKEI4XY2LE0y/TOV2zZTbNjmgtBdJLfv301nw6UhMNRAgA9n/x+yFg7esHmsrH5d3M30u+rt9v6PffBf/9qPhUeKIm80XbTTvlOKLLHLDCoAiAXGG0BkEBExgm28ctjQ52MjV6Qa7ldcakx2U353pi8iu76aBYt3uyPIRoAYLwYJBXJh9gH3TMQAOt37FWMHXd+NEsxdvzzh8WUTTw5chH9Z9wyytuVPZE2bpi5ZocSjbR4U3YZ9UGUSKTJ1n05cwO9MmGFrV//MG8Tbdy5jyYv25o1c7Ewj7v8UKyDKh7IZmC0BaFmf/HBSHYAcQhLK9Z4aPh9NkUWK+dGjFlobeTVMnXFoTCkkXM3OS4XAEAEfsgjSN5/9Jt4EEEe+XoBjZ5/yDMtm9mxB/IkdjiIhgqEFP38q6DQ3TNdgjoeCvywp8JmC7IZGG1BaPl56Ra65f0Z9OtKeVo/6OvN2VxQGNh1KjIw1vOKuhoGpe+41fAqJ2Aykwpf20e/WUBfz94QdFFAzPHj0ZN9DLQeAARHXBMMsV4/y0T9d+IKRePfK/G8SiAoeBz++qSVlKeZHwRhgNM6lcTdgSYy+OAGqz2EH163Iuo5AKKA0RaEAqOO9Z0pq5W/r/28kqJMVFcGE5oeMRlwfViWu0vRruLXobKlbp+/94CShdYJfkRoi8KPwcmEJXm0bvte+mb2RvkHA1mNP+oIcg+CuSAAQCQ8zrn9w5mKtMG0VdtphoAEsB/8ukZI2QBgnvx+kRKt9tzYpYGOa+dusM57oYJuOl5z3XI+6yPsQv4TECJgtAWh8Cz4y+fz6L0ABpfS5BEo+iQMjKhTlm+lb+b4a9TjYz9Vqtu3vTRxnJHgPWehdbKqLsKLxS/W79gn/Rh6nWAAZBEHL/e4evoBECa4T2cdX7uedVHmmTGphjARCVPVMVO2wfWFDYzvTj3k/JFt5/70qMVKokIZ8zUmr6BIggHO/oTM9lgf3XTG6ygqIbf2fiZ8cCYCINuA0RYEzpQVW2nr7iKasDgvNqEsm/OjH1Kh7RtVAXtO4vX1rA20euse38qxUXct//blPMrfZ6x9tc3B4CNKNW3p5ngkE2Gj/6RlW4IuBsgCZHcle+CBAYB0Ji7douj4Dh9vLzlRVOH25IDOMC1yYXnDzn0036Z3YhxYtGkXrcjbTROXZN94Y96GfFqyeZcr2TA/8cP8hsVVa0ZMX0f/9+kcIePycrCnZhXcxnDdmSUgIgTYA0ZbEKrJNRsF48DIeYeTXEV1YVDrzaqfO+wq9M9goTfks0F83KLcjL/JtAAQJU/buCQV5Of77V9WC/EgAtHFD09b2cdYucW/hSsAshU1yejc9TtTPjeKtoky3xpEMInM9j7kq/n03I9LFQmkMMDjsxVbdpflKRBNHKI54n7ueq9JZ3MlextH5FIExo+l7Ssbb70S1bmulrg4jvnBM2OWKF7aL/20POiiZA0w2oJQwVpJcaCC5CVHNoDJRnsK+kGg7EFh0qOGEU9OHvlmgTLp4Yy0Rh0xumZ/KT54uM4WSZqoAQAAiD9x86DbUxp2Lsto66fUkh1+W7Wdnhy5iP4xclHQRQEBoR/a73bgDKI19nuZjqzZtodmwlNQyJzOb+kCGcfLFSD7kS3I6J+ANTDagsCJw+qcnvIai6cMj5D9fui7aY22usa5xMfVSCdGW7VYCzYW0IYd+2j84jy65+PZ9PzYZWnbosMhXz2X4uYZBdwTB2eGWlUrBl0EAGKPn70GL+7+c9RiZdHXLxZszFciUIw8TmWM88Ji7FYdNDbuDIcROcpwvf1u7sY0b/Swox8Tqsmn7aCXEjEj0zD/8W8X0vCfltPabeHwQA8KjU9FVuPn3FYmHM04dmGu4rQE4kOFoAsAQJDIap8rlvdvPUSW16uVPIKfBk8vRv1xiw+F/hhpuSEMxt0gGACvxOHRq12lUtBFADFm597sTCAVJJvyC8v04zn5WfM6VaUf81ld8jEtxSXiG8o4tL0glfkbCujLmRuU/9/405FpY3WtE0mY8DK2b1ijssii0Kb8fdSynvznPd6etsZJ8dirvnPjGlSveo7nYzjxxnZDOJ8U5/xv4grFeWnqym3093O6Ct//LhiDAwGetsA3zIxk+2IYKi3bezjhwyBcew567wzZmqTac0pI8iKBo21mTT0AZBAWby8AwsrnpUaYbMdsLCXb+Dh6gbVuvh98r8mNIAoYbaO1cMOJmtnwZcV2iwWe58cutZ2o7pGv59OEJXm+ybRZ2ZKnrdpOIsBYw7/5kFE0Hbejb05eRX/7cr73A+i0zRMRjfzlZ42jK/J2yUtYzgZbRlbScI5IAf4Doy3wjaW5uw0/V1eIVYqK5Rpx/fCwlB5qnvBXlkB/ycr7qGlRzoOXgNWtjkqyBqZtg2oUdeIog2IXTp43b332ZO7ORIQePRBS2JCRyZgRZfzQrY8a+fsOSO1PUsc88WmktM9JWIxY2TwesAvnZXhj0qqUxMZcL1lSgxMA2WFhqfHGCp5zcaI61jt+b+oa2+UbvWAzyeK/E1dYfm+3HsfoMZaK8Pau9PleuCk/UpF8+rm7jPrz5PeLaMryrfSCgWxfVNi0U57BGZgDoy3wDbvaKh/+tpb8IqoDRyvpAj8SkYnyIhjGndeKrZbbObpFMR2gtawXfaNtNvO3L+cpHi8rtxgvXGUbMX1MgU9wyO+9n8yhBz6fGyvjGrAe64ycu0nqwrh2POjHoq6dEFMR9Vur6Y/HJTqooeDaBV+WQmBJjf/7dI6wOrKnKN1RZvue/fT6pJW0ysJTjz0G7bJ3fzG9N3U1Lc87JD/iNZHUKxNW2HpW7V6ZYoTeAQPvbxk2gsLSpJPszAGAE2C0Bb5h12Fy8rLM4UDZjt/GZhkTmM9mrKflebsVT4IwZSQF8gnb8JgnPTwxsuu94hbOlA0jU7y82ID/7Ni7n/YUFVP+3gNUFFOPVCfdXraMl2QbUrWX3I9L+moGb0JRLNp02Nty1tpwJKuSHY2mPec4YXRe32SQtuJ20ilvTF6pJIt74ruFJEruZcKSLTTs+8Nh1V5qwL5Sw5ey7xnrPY8pOIQfiAcJiAEQB4y2IJSMX7JF2r7jYC8o0IQJBhHuJuKIRqv7h/cfg5skkKkZvJGBN2au3al4wmq9V2QRh/bHDdpJFZxagBcwDUxl7KLg9Vf9MF5r5QvkHIx8ZfGmw16HfvUXWk3IOPPjwlzf+jVfFyF1dZSPncko+9L4Za6S8okkr0CuV6FpbpRsHXAFgLZ5Vo21UfO5gZMQCDMw2oJQstlFB8/yC5/8vk7JAhp3tN5FfoxJZBzDbt/4zpTVtvfJxVyzbY+tckdpKFd0IPqeVG6Ty/nBwph65YQVDpUE/uqjcmTDstzMRqKoTawwJydatXUvZQPybbZa2alwVKxwlAIYcfBgkoZ+t4heHLc8sIULO9V05ZY9UjwknTwihsYwh8/ztt1FSnSeE/D8+EdKguyIXnnYbEGYgdEW+Ijc1vCtyatp9PzN9Ng31uE8yRh0An50LNoBmYxrZnfAN3+DswROj3+7MPIDhziyfsdhw0LY7oqf47SwnXsQjJi+TvoxcJ0PM2bhZvph3iZ66of4ZfxFGx+cgZE1+R7+ap4SRu132yx7DBQWCRe/ysG5Bf7384rIJAwKA5y4i50EZHsvWy14G9UOEVVG9PNlJI/nNHT+gc/mKnkwnGjpgmBJRG1uLX6XAAgDRlsQOk1bt6zcemgFVj/o5Mnqo98sUDTw0r+PZhMtPUwwIhMaPSEtFlA8oMPrDbarNOFHNj87fqLVoxMJrq0xcUt4kQiZxuT01dsDLUNQ9f6tX1YpWaQ5YVEc0A6rZF/SomI5baBbOLfAbyu306Rl8qTJgHfsDP2TIWxjjQy0bqcxqy2So+nBkCBYoiY3ELXyguwCRlsgfTLhanDqoqc1a2o5LHTd9r30w/zNynsWw48TfkzYgpRHcIJTr1yZ4cjsgSHr3uTtKqT/TlxBa0NsCNVTTtPbhGlYVHighH4P2OgCAAincS0T/x69hF6dsIJyBWs2OunLgroGfiSB006iZfcb2v3L1t3+ft4mCiO7LXINgGCwlkeQU1HtjM/ZeMpjUb+ddpzoFVtdn6UxkQsKCyl1JqLG8oTJ+19XbqMVW5xJcwAgGhhtgTR40nHDO7/Tre/PpF2FzrOXikbNsLxzr9wM8dk2aQ0TH01bS2HgmTFLFJmGKZLCRl/6aTlNW7WdHvt2AUWFsK5g5xUUSd3/nHWpoZPZ+rhmezv11awNygIiEOu1FZZqtUPAuGLLriL6YuZ6yt93wJE3+oEszOyXkNxHyZacGLsoz9Z2cqSpsq++yB+H+3NNMw2jWPd1ogDHFDvRfFt3F9FDn8+ztT9tE6VGO7p9htkJxy5WdyVKTg+ikXHuIr2pjeB+0W+4T1i5ZTe99vNKenLkImnH4faDNbJlE3Tbz7YgjuZgZxngHBhtgTSe+3FpSnZ2R0YbiQYe7WAkpHakUExak5J1A/249Nt2m0+kZfZdarKEiUvleHVv3Bm9cOeoPGqzdUZWr7w4LjVzM+bL0YEHlpzc0o2Hxbz1+bRg4yFvSY42+XbORkWqhzN9Bz1wlsHCjQW0ykHYqicCMJb4wT9HLaaRczcp2qJOWBCSCJM4IbtWFdo0yvtRvbWSCH49T/BydId+HqW/W3//er4i2eL9OCQUbcTl3lJv7qDnX+Vla/aFGL8cPpzqFjuReRK5bytyJTt2MM/+uJQe+mJemXOZDFjG6K9fzgtUmueFscvo7V9WO0owDg4Doy3whXenrHbWvMocOMasn/ZljO3zvDgu8/ASSSunQQ923TBr7c7Qe90y/xm3TDG4gYgj4NH7Zs5GJbmlUw+LvfuL6fmxS+nZMUuVQbi2PWMj8H2fzKHlefExWnD0CkcXPPGddRJQKR5uko6xu6jYkUcXG1u9smPPoUXGxZuiUTf8bsa1x5OehEbyICRIg5F+WMKTaL+Jm6eV6OrCi2Bujlt0QIzRR/QYTbu739f4J0dlNQQP8TA0ksi+nvr9q85EvNDEC8YijJFG1cWPppqfd/ZcX7FF3sI3JwzlyMLZmrmYn+QVFJYt7AedByCqwGgLso4KPrTAfg4GgsieHRObqnRtOlkhllEca4ZFb9gOn81YF3QRYocva0uCD7LRZZbqT6Yfrj/Fulkja6NxmN9zY5eV6V9zSDyH4EWVHXuDlz8Szb0jZisJTO0mvbFrZAHhTbrqx2KAygkdGwQ2vouTd3pYEH1FeRHMCBnTl4TkBT32qtuw43Bf+uFva331lLQLnotwY1ZbJi/fqiwYs748CC/vTl2jeReuZz8qwGgLYrQKd/gAyyxCr/yYA/jZ9/txLNGHYL0+0WHoQfG5hU6lLI0ieAiED14lV/QoMxiwglhkAf4yadnWjNuUlByqBz/M36R4af5Dol5anJHV/6lREvNLJS5AOn4YXVK8a2My0WPj0ITFNjVt0V1EAiuDHy9Ys5eZCER50mpJCo4oW7J5V5mW/2uTVtLPS7fQrsJix+NYWZFqZnw1e4OvxwOH2L5nv6L3z3rMRgvn6rNjVl/U8dZKiV6qfhHn+cE+TXQF5rDugNEW+IaTAbfXZuuViemacCv90tvLhgGpxxv0+UzrhDz+dFvJyGohhXnyymHfD381LzKeZ7uKxHgJPl2qR/nyhOVC9hc3/PBiCetw12qAusGlN282k5Kk2merFryxyNeJV1AqAjJv80IBmqOyQPUWn9/guVK9Srtw9IUZ1XLKuzLyODUaO3nsRi/YnDYWYi1/9rJdr/GwdcqHmsTCo+Z7l5/JJAHx3Rzxx8hWkjb7CJaPuv/TOYre/zOleXA4EokdIFie6O9fzVeeHaN+V/1IZheR8FnOLYpOWFaw0Z096/meas8tvDPYcAOjLYgl7O3Gq3fazO0r8nYrOnV6OJMph0G+O3V1ROURoocTrcAoo2bJzSaeHrWENu0sNA3vCxvv/3p4YiAi6Z2ahM4MTIqjg9XiyJpte2K/ABNWtI+Qn85YX8/eQDe88ztd//Z0Grcol8KEVfZpNgJFVUPUfMKciKzHk5VRzg/QBfmHm+SMeiMoexCqz2/5cuVcjSc+1kj2iJ7DTFlhHFlSsK/Y8inNdAitN/qnv2dw9HBRqcPa846an3r/o9hWr99hb443dtHhe5xbmmiME3GyAwTPy7Ve16Z9QVhvJKAhXy9QxkpvTF4VdFFiAYy2IJQkHISmf6xZjdUPJPSZ2wsMVnvmrt+pGBEnLjmcQVcksg24kfT8QSfriTCHlvgd0uYVUWGLRvDCEchuwtA8G4WmiiSRJe3NN7M3pukyhoVHvlmgZI7Xjwf4/Z0fzaLbPpgp3Fjox31PxPBZ9VOn1wj0S+GXWtLDWuhGsPSAHZzmV3CymOi6DRb4HJjtquTgwciNoz/9Pfo5FV4efyjaNdMlXmGg5c/yGkYUl0pKyWhPOeLpka/n08w1OyJTT6Ih35gU6uSQ7cBoC3xDdMPHExBOAvXjwlwlDCfhsmGS0YDFoY3XTv5EXiPe7/Lc6CbdcUKdapWk7Ddugwi/8WuhY/h4MVIJvKhkpdMNoreAJVu7rKDwgG9JAFMSOPl8D2QbbaNSpTjRz+b8Qtqp09Tm8qsRH0bGoLD3Q36Gpvp1350YGWSU468OQvWBPfxqJvQ1Z4FNGSqn9UjEY7dj737LBUM7h2APYy9RkL+t3B45RwKQXjOSpbIb9rZ2zv8mrlCkPD7SOYHxcxDHhcOgwTPpDhhtgW/sMZAmMCPpcNKrz9DtZDAiY07gZ3MUNQ2cuCQgC/LeRD2kOsjSs4bWY98uVEKwZGM383wmOEzsqR8WK4tTcaBBjRzKFpwYZ4uKS+iT39dllNjIxFezNtA9H8+m8TaTHUUZpx5kTon61CLqC3wp5U/4GMEkcd9Oyh7lxDRRWkTzmlhHJHm70hdXkiH12rZCH+mox07ROVGnnShIq6oWhXFTi7pVKYpsyt9XJt0hqiY6rdIiHoG9+8MhH+RHe+/lGNym70CkRmDAaAt8438/r7S9rZ1OWmu4Mpq4GTVL/FmKPIKkAY8fxwhyUO/lmKHpHKM8nwjvOD2UsKfq65NWKp5my/J2K+/ZA0M2oh99fVgra1hGZWKsLeWJHRsI3z/rlU9ebqyt5xaWzhHhQWB0i4w+40Qoo+dvpmHfLyIvfDvnUBj/+7+uIT/wexEpIlXeFr8s30oTlogzrictrlUygl6w2kRkibh4SyactSdsGIlKO6/CdfqOj2bRgo2Zvfyjdm5GEilmp+D03LgfW2oSHu4Fq3LsNvCGdfKsaXct2ptfzRXghWQEnB9yKkTPHMPRXw9/OZ+GfD1feV+9cgUhbaHRXbF6jETcR6s2OcTrIr7Cbcg/Ri6i//t0juPf4hKKIXqtBIgEnEHeT35eulXJTuj3ZGu8jcmWjAFplL0v7HgGRHQM7xtR6wDZuzVI2LN26opt9NJPy1PqFj/DfiOqbvPk7qb3flcGUVFDhncQS1G8N9UfI6UVr05078HNxpmo43fbHWRXoe/btxh4yFnBsgVvTl6l1FutnIUXrMogeizij6ZtdssjvDJhhWIYsbMgpd5fL/dZ1NiS6/S+/SX07JillLfLWjc+U5KpKCfUHaVLKpaJzZL6AKu7OuJ3cfrcPMayS9BGU6PHUJu8Gljz3dxNKYb1JrUqZ7zG7JXLkUBrtx16djbuTK3v/N5u6Ly6ldfhJB/PbHEAC9KH4SgwJ4kVMyXi3rtfbq6FOAKjLZCWQd5Pfph3qPPIhKhJS3HpZOv9qWsMhdT9NKrKauSTko5RoXzUTI7mzFsvVysyLoxZmJppXebTwc84JyicoUkooD73+gEiP8N+w+F+btFet7s+mqU8lzyIEtGuvf3LKvrPuGU+eT2JP4beOymohS2jRBZWaCccQel3isTvq+61vnKbwFqwbvY/f0OqnuRfPp/r6NjayamoJGF63T+Z9yOnYnmSTVDPh8z2w4nRVk3K80OGjPK8aPXEyEVK9EXYmLHauk0c7dCwGWb9RG4v2JirHjNfpzFttL2tNsxkExGPxOJN6U42Tp41tfi7Cg/YMmTLwM0dNjJAmSXBAulyh2608tlgy5FAj327QIkc27Qzte/lz522x14fAbMkfyCVMQtS53GZ+HLWhpT3+mRkI0uN/sA+MNqCrBKZNh4bOW/ytaf3pIGnW/3q/mk2+mNi0WekFhPuaEZegbVnRlgYtzg3kIlf1Iw7bET1C9ZM5gSFL5skAfND09oKGQOVZ8Ys9byPScu2Ktduo4UBK64eBDIJ+rz9jnrxhaSY68teP3//aj797ct5roxdyzxeW7/bHtF1sbwPJxBYTyfV01bOYhFrqK/2mKU76PYqbAulbrwPWYP+7Sn2kmc99+NSuuGd3zURGs4qR0LAfW1YM91D0gnqOPfbOZsCfw6cnLuR5vs8yUk744JeqsvuXGWtxqjPyTP1FJcY3yxLeQSP/VBmSQ8fFwtD6jPhZjEm02KdkzxH4BAw2oLIour2hZHaVSrGKxFZAAN5NXwmzOcUVHhXtEy2/mIlk5KUdDXN5R/8uVOLNtnLIG0HGZ5av6/eTnePmJWVNThoG8iw740zLgOiAk1bUeKiQygS5B0rNWJGYufti9HZ5CBRbkHcXLfc/EJb3thBtzdhLJOfMkjqvGSKwTFvevd3uv7t6Yq0kcqCjYf67umrtgf2zNV0oUVqxP5i8fkq3Bjk9G2eE+cJfTQWSL2uvDDEsid+s83ASKzeZy/PBI/dv5kdHluCm3GIH7CHdCZY4mnGmu1lTntRlnEMKzDagsjC3nQijA8yBkGypAWMjxWthrGyzZDKbXvEJjSIExFztHUEh9i9MHaZ0vnLYNbancK9Pb43CV0VbTDxQ7pAxiFYl7HoQLC6xkGRKalmUI8ye5f8vHSLcL1pX+qohz6P5Yw2GEzMzRMJifM0ZRmGL2auLzPayFr08yvSKchuSHa0iVFy26DLPnl55gS9YSRoO4SfkX9Wt1YtxyFpI7MyySnr8rx0GTcr3FRRp5dZ1iM8Yvo6ihpRmMXNWZ9PQ79bSI98M9+2J7koHvvGWDbBaz9aYJCEL23/iXi1VeoR2AD/1i+raOde78n+GI4weHn8CvpRJ4cHxAGjLYgMvHL9r9GLU1apvXriRtX2lTLeSx5u7J/9camUUPS0lesojDBiTIVy0Wi63YRmfzFzA81dv1Pp/EXD9Xbcolzbk2oWyp+1doehYYu9W3NLZTwWhCCkzkmCAOAfbKQzai+DbkL/+sU8emfKatMFByes3xGMjqEbL3yWMxry1fw0751b3p+hJCt0co61q1Z0PKlheZS3DLS0RS6+3vz+DFqwMd9Si509/rg8XiaJcV48DGMixv3Fme8VtzVexmfa34pK7hu0Y4EfeVDVc7RrQDJaOLKzf7vzH0dJgRLeDGFcZ3iM5NSj2c7ihZsnJc1oVFr9uIyZQ+GdwRILRjILcYQjphhO2sUGP319ttPupGqU2z+2VT/lpR/K5LThfx/nX1vJBvjJy7bSm7+IMcCr+t08ZwJyiMbMH4QeNmCwNpPT7MlOeGPyKkUw346bvhMSNvVcrCZ0ogcCbmBReDYeZfJAFoHTAWcYuy4RE4mMHbqkkwjrZFkfvvn5zA2eQpaDYkvp88xasZwN+Wtd+BS3B/8evUQxfIWFJ75bKGRRJugJtiiivrAk2gPWbBIkQlqD++Yo3Odtun6an2Etr09aafrbJ79P165PujScGCUvFQlHGb08YYXptXp+7NKydsxOMhluH3iCx0beILXVZR8tpR2MmKbtYcQU/Js5G+neEbNprACvqS9nbvApwaUxJQfDF+XhtEhsRGUNbn0ot6xH0Ml++c6ukZSATKTH+79GL6EHP5tLC0slKbzCMgHv/7pGefECvxdCOqQX4gkrC3ZS8oqshQO3BJEOaJMP8/ldBh7NuRLtRXEFRlsgBJ788ODfj8mbl85RXz59e21m8OTJCk/ozLxXHvna/w5L3+kUSxyY6js2DquVTdSNLjIJ6wBvzMLNIdBZtLo6SVsr+KrBTPUm4Hbhu7kbDZMpHDooxQY8d+4xq9dGhvBM1/nP782QrusNMrNoc4GSdMVI3kPo/ZGlaZvh+2Ibs0Q2MnNbyEZeKw9eGSTMvLQoeqiSXbK18JMCfvt1qXPER9PWCinTngB0MFWi1aUlHOl6ijlieJ+m9QbJqtyOKVWJiEnLtmScY9rZn3bOZacdjTNuIja8Ljionp2JGDrAyES+ZKO94yzdvEuRwwP2gdEWCCV/n5xBhagGhycd2r5FP1hRpQWmrdqueBro+XmpcfgPr4CLKqNTWtatKmW/2nOoWD4RgKdE+AdBWdjfW6LPBsudchTvidH4k72FWGjf6BgiJj38fLFx2MrzzZekg/IPEVtGuZAaWGchLfD5TPFSN3Ez0jvxDHfjGbo8dzfd/+kcw+9+XWkefWOHqHi1a52+F23a5TnMXwSiD51XUCg1CQyPPW//aCb94CkSyp48gh3mrEvVdtcuWM42+c4uRuHiq7YEJ99jlpFeJOp1d1Ivp6wwmk9YhIEbfSbpGXSy1x0ujcl2iu4ma70ep3f/jg9n0UfTMuviaq998qCcMnK7xOHmQXqq2yX8JUzH6dPzmQT5QdmJgN0a4Tmilp3VuA46Qa2rds4kD962joDRFgjF73A5EY2iUZn/O3GF4mmg1+RkTR9LbagAaFanSul/8q79UW3qCduXkYFLdrgoCI6lue4Nt9NLNbT8xmzgJHPyN39DgbJoxDIzstmUv48+/G2tsAQE2UImyQK9jIYdNu10NiAOO35MOSIwf3VMMsTXKgLDOk+w9NVDX8xL0VEXfT84hJq9tWVP+rncdgw8L45bZqoH+h+T7+xitNikSnIEgd6pQiZOnpU3JqVG/vGCrZPphdyIJWfbuxkb+eXhe0jnWSsBlRk7uQ9SjiGpBed2iSW6eHzoldb1q1Ec8dI/2ZJH0GxjZ9GN65qfyQ/1x377l1We6irLftwzYrai/c994/Me+wMgDhhtQYS0uuRoJCUcZpY0M9rK1iA0Qx2MyJxYVSgv98YOM9ILjMHEXNYphHUSbVQuL3rPrxroMjplxpodwuqU2STJ6f3g/bBx9rFvF5S1G9v2HL5OM9ZsT9MHVn5HYnj824XKpOSViYeur/a0ZGZNjzIcCs+SBTIJ4rmOirenGU6qa9i8lbTF8ceL3uggmQ+cCHC8J/uZGD5+eZmWsQivPpnYqSNhqOJmHtgcqeImOalI4y33rTKNuF4MkTwm+GbOhsiN+5inRy0O9PiZqv2nghdLWCLu7o9nCdtfplsrwrElp4I3k49VXpco1Vn2XBah5W/G/35eSXePmE17bCQN5HG+dlzi1dbL9WTSslQP/k+mr7PMQ6O/RzPX7kgpe26+O8eCMPRFcQNGWxA5vLYDThpFNSuq3az3Zb8zKSUnQglL+ENQGHXiYcyuHtUBSZDYnbAkfbonPEl8efxyV/uxXCn3eN9Xbd2jeNWwIfCeT+akreazx9ffvpynDOZkGJpUg7A+A3CcEH3ZPpthJ1zSyR6TGZ8fO6fAdfzdqatpzTaX9zIKDS0Rbdy5j+77ZA6NX5LnuvhhWZAIRyncEaThu7zGSiyiGNwOztQs6mkRfZp+RaE5XYSRYUQ1M+bfO2IODft+sVSDiRVv/bJa6VtF5d4wuqVebzMnWzY9nr5/EFRHjc8jEavx82iNdJGRPrlT3pmyWuiiWzKAxMl6Q9689fn0y3JjCUDX4wsfPK2d1FWOLmPPZX0SUsv9OywPyyvuLSpW/mbilvdn0Fez020HfB94DpDrUJqgyMDZY/SCzYrXrIoME4Q215D6LETdISCMwGgLhCIj1LOFTrPVa+fYpFZlB1snabgmZM6KsRnCaXh174HP5tJ/fnJnRMqE6PFPSoMbw7ZXTNhoIhQTXD7O17M3KIOu0OFz3cnfdyBFzsQtIx1oDzp99v4x8rBnOQ/uOMnZPl2CRU5+pPUSZtTqJHrhR7u3kNi1ApPyYG+nzfmFQiMnXF9TGz98d8pqmrhki+I9HQZk1R+eJPOE6/2payybFG4L2Shk5OXCBiPtdjLgBZmwws1GUXGql+GOPQcy1nWzbs4PTVvtxL5pbVUKSj6iJ5zaS+V230nNgiIv+BnVYafVWisJIQqzcZFa3gUbgzHaquMBM0O9CKQZOyU+akZ1xg97qv4Yzcuk3sSif97mrt+phICLPYZYWEf0X6O1/ZXgAxDRaz8fijDQSpi8OXmVoaFwnw3vdKP2yMowG4TTyy5N9KyMMYDWEG63nf9ujmauUfoTvg88DuUFefHRGM7PO9MvRkw/7NSQxVMI6cBoC0KP15AOPbWrVnS0PXfwtrKBm/xebR/HLMw13Z9TgmgU/TbmZLPxSM9x7etbfs/hLN/M3hiobpypF7XPZeCEYSKYoPPo01Kwr1jo4JPL/Onv6eF783RJydR259dV3hIgle2v9OakDtKz98H75w+LFQ9o9nD4P5PkU1aInoTYuRNWYW+ijhE0vKihZv7We8HrJyATl25RvGiGfrcwEH1sI6mfIIyERoZY9jTWLmoxH01bS0878DpKeqzvCzbm0+LN6UY7vo8fT1tLk3WhnVpEz/FlGQ3Y+33J5l3SFgZ4Is/SOmqy3BS9TtbvdKBtrq8PIsjmACQ/zz0KbbcTWtaTo7lq9Biu3BruPBr//Xmlpde1CPQLeEaGTeFesSFqHV72KL/GC2csk6H1MtV6tLpp/vU/MZJJC2O7wZFQevL3iu9bsh0YbYFwJi3bElkPiLRjxW1UFCA8ieROLs40rJkjZb8ndmyg/K1dtZLh99t2I6GUH6jNwae/Zw6Vl0mB4In23zUDTWAycfFg4bHbjegPYa//8TYJCpvOq52FGLPJptY4u0WXlVivj73NZcbzTNhJQGIoByT4NqiJgbTjJb7XRt6xKzQG8Yzegx7KyZPbZ8cspX+NWpJmVGbvS06C9VaGJCoCimFv/x4OcP+ncxSNT+2im0hThWrY/rbUaOtWAuThLyW1+4ng2xw/vPiMvGplHje9f0gKOZ7hPmKgV22F6CrI90LJEzBhhZAkVDIWU9JJZJShMXMgCBNO6pF2W7se90b758V9XjjjCCC+51EZSylkKKbRacx1EMWpT/wHxAGjLRDO2784c+d3isi2IJMBOJP3bBgIczimltcnr1I6uR802lJWyG70RezdSXjobhui9Gaoh6kQhUx/OrzeRjti/jJW9cOySmykmyZTby5MbVvcWb8jdREr4WKBsuRgMAkwg5x8pzwTFtsttAjDfmaMfe9S0Xhp07zAtgSrPouN4TwB/XVlqid/xXKHpwolmovvtB3aU1RiuB9mr41wZT+bpooekq+qBnNtxvcUu7fEE0H7fYgTOhxa6PabhMT9GttW5RzRD49Iv7wutZ6QKsUSJKY+/G2tIsFhR8s0zM91lYrl0z77wYZc2LLc3YHryvO80WqupS9jpnmm2dfaZF/qOEMvqRbWtlg/rhQtqcD6xy+OkyMDme3AaAuyHlEDB7M2bU/pgEHW8IS9LljrT7ghR3c+Xvuf6aUDmQUhXrGVBWddveujWfTFzPVCOtswhRjJ5s6PZinhptmIWZsi6u4beYSIGGfyoJk9EeK02i7jiWM90ZRj6A7CIdbsfWh2Hfm50HrZr9seTCRDWG8zG2bNkh7lFaR64gaBXeOzqGNkmjCPW5SnGB30Woda9B7MUfa6s7ocR7Wp52qfhTa0H0WV16j8fI/HLzaX9vGDTIvZfjQX5XxY4E4Y3As/dJ7LjknRRuSlsnqWjaSnZI5N9h0QvyiX9OH6VyqVIqzgcsFKv9inP8ZnM9YrYxqz47tFOx/6388rlbkW5ycw4v1f13javxVfzdpoa8HA0bEltCcy1vn1nuF2ZSDDOnYMK4EabV955RXq0aMH1axZU3kdc8wx9MMPP5R9P2DAAKXCal8333xzyj7Wrl1LZ599NlWtWpUaNmxI999/PxUXpz4kEyZMoD59+lBOTg61b9+e3n777bSyDB8+nFq3bk2VK1em/v3707Rp0ySeOQgSr20ENzK/OVhJVbNUih2gpJ5FbgAT0Ch4wsrG7j394LdDA4WRc+0nt4oiRgMMQ/1ni5tr9NUykwGYHhFhaW6QZURP+uClwAkvUo4p4BCPfL1ASej1s4U+ZRxgPdkXxy0ry6zspB7Y824gRefTLHHPpKWp13f4eOfeDVEcNFtl7dbfgwlL5Mo1icKPBQ5uH81sWXz8z2dkXlScs+7wZMypXcyqv9TuS5W/4PKKyAHgBrdRLSu27Dbs+7TGvKRk4782KUwoiWCbYxub1UbEfEBmkxGkdIFojBJriUZ7LwTmME1pV0KZaNgBdrx1vaJ6Of8wz15EZyaKTSycRs+H/jOWarrjQ2fOOukLc84ecl54DeJZtxMpI+vY2USgRtvmzZvTU089RTNmzKDff/+dTjnlFDr//PNpwYIFZdvceOONtGnTprLX008/XfZdSUmJYrDdv38/TZkyhd555x3FIDtkyJCybVatWqVsc/LJJ9Ps2bPp7rvvphtuuIFGjx5dts2IESPo3nvvpUceeYRmzpxJPXv2pEGDBlFeXrCr1SB4zNrLtaWTdN3WFCQy2z6efPjtNRcFY0Kma66egsxwdhA8+tvLnmqPf5uaCMkt2scgkzwCJ5YZ9sMiGmVTgoT5cdGhBIkiDcPs+c/MkJilOyyenGzEemKkdfIpu22nmdHXzLtRXw14OzcLQ5zsYtbaHUK8BEVrzmc+hi7UL0IWoVS9WR+OlzSvY5vyUw0bX83aUOYlJKP7Sj/fRNpihJHnVtiR6Wmpr9tGh/JHC9MY9tK2Y/iPI+q9keppG7Nh5D6Xhh5DAm729drhom/10s27lETDOyRpsWsR2RdZVdmPp4lZXPLyyGVK5PraJGONdf0heaHxoM5pRE2e6mRM5nX8YmeRU38E/SKDmzIIfZZBOI225557Lp111lnUoUMH6tixI/3jH/+g6tWr06+//lq2DXvQNm7cuOzFHrkqY8aMoYULF9L7779PvXr1ojPPPJOGDh2qeM2yIZd59dVXqU2bNvTMM89Qly5d6Pbbb6dLLrmEnnvuubL9PPvss4pxePDgwdS1a1flN3zcN9980+crAuwg0nioTGIsE5GZxScbeBSazyMP/SRmIy7ZTo2iJ9+7BIbYs44wZzS3q4sl+86H2UwRBeO7aNjYoHpfysCsPrF3wfLc3Y4Spenvj6rHKISY33xV97hssO7R89Dp5MNoc6cSLMnSkMGXflpO/51oHhYfJmJeraTBCzIJm6N+TnL1UYZJtUgDldaxdW/p4oHIPtsvUjxqS+vpT4tzLfWV3aLuX/s4vDtFXk4J9ny2ymbOesjfz9uU0bA0eoEYL7gwInOsp59DRGmBSs/W3UU0W+O1L/PaGV2lpM1FiKCSw5qxU+Jx/PYtCUrOSQsnxcwUiWbHq1aUZ68f6O0aqpMFCD+h0bRlr9mPP/6Y9uzZo8gkqHzwwQdUv3596tatGz300EO0d+/hh3zq1KnUvXt3atSoUdln7CFbUFBQ5q3L25x22mkpx+Jt+HOGjbvs6avdply5csp7dRsQL4Ka8MXN2TJqepXP/bhM2L6e+G6hktE8U/ZRUZcoEZG6lLA9YE5KuWZ+1EmjY8hNDGbfG2+fRD1FN0SrhYjedRBV735ZfsizUUYo+oKN+fSv0YvTZDhkXU+jxVE/wmPjiDbU3wj5/VBCalsvw+hldE0++HWtkH1v2mlcj830G0Xz96/n060fzJCq2xsljBYt7D4TIhJhOX0ErAzuemQ/2kZe9H7oejvhw2n2n9t3pzrXSrUiiDF+0YHgk5q6IRHA9dOPM3iRMyokQyozByJgtJ03b57iXct6s6xX++WXXyrerswVV1yheNGOHz9eMdi+9957dNVVV5X9dvPmzSkGW0Z9z99ZbcOG3X379tHWrVsVg7HRNuo+jCgqKlL2oX2B+BHWpitN90ZySY0GPdKvjeAD6D0f/bQ5yx9AeKdutUokA6eT66A0DO2wWRdCrOL3+NqsPmVaRDBC5mMgw7sszG13SNdSLBHdDur39+yYpbR40y56bdJK6QsZ/LlR4jGWsQgb+nbRP3kE76ga4172pb9PfiZwknnNU5JTmfR/bg3ObOg6YCCYqeZNkE1ufqFyzVZLjCKJOnbr8cYMYdlGeH1EFpokZdSHdUcRp3OgPUWZE0Q5eUy1Y8OoX80oe3D7hV/dlQyHkEz1+j3BCxBh8FCPC4EbbTt16qRozf722290yy230LXXXqtIHjA33XST4hXL3rRXXnklvfvuu4pRd8WKFUEXm4YNG0a1atUqe7Vo0SLoImUNIgfavCunbaKdwwfR5fk96ZG9GhenYUMUjDk1q1TMeL9fn7SSJiwx1/oOqwewKDi5lp/nrZ/cq3qzcb/OYUTGNde3oU4H6CISpMuU8fBDa1N7Bc0Stm3bHb7wv/kbCqQbajlxjd1jOKl6T/2w2PmPdLAcR9BGWxnIPo0iB96SQC52wqZFeL0e2m9CWn3r1qwWhcJL2cfjv/1LZhkRowUSM7SnI6Jd90NOLxHn51Dy/p2ydtteXxKRRQ39OACE3GhbqVIlat++PfXt21cxhHISsBdeeMFw2/79+yt/ly8/dJNZ4zY3NzWJivqev7PahrVxq1SpokgvlC9f3nAbdR9GsOdvfn5+2WvdupBnawUa7DeCZm21mzZc/5txi3Lpw9/WignzS7Ksh+jQQWuyVXh8eZ4/oYhmxgcjTzI/unVOKjV1xTYxq7B+jUN8SaDjv1513PSxo4CMa/7lrA3kNzx5MEtsFhW0Bgzt82jHeyoTuwXsww76kHYZ3k3zN6ZnG086qN+ZhhGyJ8b6z1K8qkkuQu6HyQWM+jQ85nYEj9h7KlhH3OueRd2HGpUrUBhIRmy/MscHfqxhxWSdLBCcLrD/92d7zoZBNa3FDhYoQBYbbfUcPHhQkR4wgj1ymSZNmih/WfuW5RXy8g57fv3444+KQVaVWOBtxo0bl7If3kbVzWWjMRuMtdtwGfi9VltXD8s58HG0L+APLF7vRCA+NOgaeTbYsuE2k26cm5Vr0V6wPDjU77F8+USkJwZuJ2XDvi/1MjIgr6DI8Np7DXHR/p5DIWUMtjLtUs0kHmaCGvCI8Hg0I0N+QwnHi8+MnJ/FbbuLfLvHTp9zfSIOp9XITbvy2LcL6C+fzyVRBBFaK9P7ZPVWfzyPldB57XsJp3So3/ayY7Ge/XovUQ73X7w5btJimgUFCXsPi+cVjwdkloV1c1+duIKmh3isb+Rd6achTGZfHQVJL7u4radOfpbqlZuMtkE1Kc6g54vxOQJODHa9ttkxxq98GVoml+Y1CEv/AkJotGVv1Z9//plWr16tGF/5/YQJExQpBJZAGDp0qJIkjL//5ptv6JprrqETTzyRevToofx+4MCBinH26quvpjlz5tDo0aPp4Ycfpttuu00xqjKsk7ty5Up64IEHaPHixfTyyy/TJ598Qvfcc09ZOe6991567bXX6J133qFFixYpMg2cEG3w4MGBXRtgDWepFTXwtGrwzeajbtpRs5/s239QuNE2BhJVkTUejTHIjBz+IYU8flpsLqcQRZIBDrDLBlQijxfjQdoLY5fSA5/NVcLE/cDstsgIUbc6np/MXOtcRznMiEgQ5AZ/FmTcLcrZnThy+2S1YDzkq/kp71/7eWVZ9m7ZIa7qQjlL3NiZmLptFq28g1U+m7He3c5D4qW7dvteuuPDWVJDW8cszKXpq7bTq4LG+lFfwDXbbbWccHjJOsWP5z2OcxCh0Q029/aMiSxYNuP0OecoSTsJHFkvXiudIsdZJumbfBWIkdGWPWTZEMu6tqeeeipNnz5dMbyefvrpigfs2LFjFcNs586d6b777qOLL76Yvv3227Lfs6zBd999p/xlr1hOUsb7e/zxx8u2adOmDY0cOVLxrmXphWeeeYZef/11RStX5fLLL6d///vfNGTIEOrVq5fi0Ttq1Ki05GQgfnCSFKc8PWqxqXZekAMDbSeial+KJF1rhyKHH6uIWiNGMqyjUQMyXRk7E3f2gtezYYd5wg0eKLwxeZUwb/Og6qTM1XDZIcF6I1UUn2uzZ11tp8cuSpU/ckM5me7UEQ5v3BOATE6q97kmKZmAfU9etoX8IGweLeOXeD9vNuLd9O7vNMegH3BiQDC7Ntv3eNMm5sim+RvyaXmemP4mYyIygwglZunm4CSWRDB2Ya5pfy+KXYXRMiIkffD609clrl9t6lWjaGIgxyLpSG7367aJFtO0Jxwlk3N1BJtV1Ut75ccaqHyvcDEHsMoHoqX44GGjbeEBf2ULQjYsAToCXaJ74403TL/jxF4TJ07MuI9WrVrR999/b7nNgAEDaNasWZbb3H777coLxB99RnN9g2+WId6OEcquJ6ydFTfHWaFTPG3F6OSqfPL7OjqxYwPdBp4PYfv4ovhipv8aktnU0e4udLYq/O6U1crEb8ryrfTGn4603Hbaqu00av5mumVAO2pQ41AkRSYSEUzAZ4UTR9svZq6ni/o0z7jd5GWHwqJkwSGu2cDQ7xamDLZTsOtpG0GjbYWAjdmi275Za+UZoqwNMBIWWnVH4WOYZa03mpiz3A9j9w6rRrwXxy3L2J7rdYTtJPL59Pd1QheqZPebPy/dQlcd3Sp2fX3SZyNrQeEBpZ2pWilcXqVGxhx9c9ihUQ3Fey7MBFGlRPddVs9FocuFRe0+8woK6f3f1tJZ3RtT58Y1hV9Pfftvdn0+n7Gezup+SCLSK3703Ht90ojXs23PfmWsXl7A+MToXrhJnGk3ike7b7/b+xB0LyBKmrYA6GGvCB60iWJCBo+SVE9JcU1YpQqHH7fxmpBxUY2ytm8SbVgy2p+dazNx6RYaPn65oyysMr2Fv5+3ifwkbN5UVmQagiyRoD2Yu8t6gUTLfyeuUDLdsx5nEDqa2jqtx7/M56rGZObjjZzrb103g0Nc40CmS85aqEUevSLM7qtZWxsGLbcwGI5VjIoye11I5RuSqf2DXy2aKkegZ6sg7WcV9mgNq4SOnW7ZvTxCai3cXGC/j7NFMryLVrK45+PZihxD6DBMnpf6YeWK8qbZyQiPR0PUbdiag7wycQUt2JBv2n5m4/WxQ91qlQI5LucLeH6sPFkHdxKJ9n6UuoDpzzNbXJJUjhWmNgKkA6MtiARf+ZhlW5bjUHnN03ZAsNGJG/lUT1sKBexJOXPNDvr0d/cabmHCTnbyqPZ5SZNM82/9sop27t1Pv60UZ3zzeonmOTAIyM76LtNwZbZwEZcBvV+I0OvyYiCVpo0XwoowZcVWxSPSr8F/psPwZCSbCao/Yu1YzxqXFg2rl/NSn0cZz6W+xFp9QhHoy7xgo/99odG1Z81G4D+y+pYgFgRD2J2VscOBNIubtknf1vmSwMvGQXJFLzr5eB76qNqgcXNP5SSzNHZo4oUJEG7CFWsCgAl7fdXN895bZuq0tYZhEY1y2vE079nLtaLWYiwIJwMT1pJzvH/Hv5B/gBHTxYRnekUNW5UNZ5qX4YXFMhUsc+CW/Sae235IF/iZQEP/jKmnJ3NAH0cTF3td8MJD7aruvT78mUQ53F5WQRyVIbUUH/y6VvnbrVkt6tLEOoxUjM5z+Gqs3T43RZtXwmmI2qffGcDVexqG+u0VGRFDetkgvwnjMxcERvVTH3Uj8hlMzyshaOcB3E6j6CQvxZBi3PIpb4FyrBB5e2hL8q/R/ngW+4FXTXQtceib9MxYvYOSJwRdCmAFPG1B1uNXeKfZyrWozjo11PLQ/6xfd/N7M+i9X9eI18fzvMeMBwwdm/Iz6xmv2rpH+HEzVdE563dKPYZbHWczfl+9XYo3x7jF3hNOhakNSQYwQQ7T5EEkRsmH2LjGsgZ8zpl0xoMcpOufEw49f2bMEtoaAu82s7rPOqWyMLtXYam5e4vcLDInfUja5g6zZCjSEgdFUC/fL6mcUDTPfiQXMkpUFYqTt0Ze1E36Z06vhmp45OuYaYE7TLI3QeG2vokYs4VB+siph3FQ2L1SD381z9X+jeT93DiSJSTXwSURT3AJMgOjLQABe5XI5Lu5G5W/E3zWjIsrslfb3SI6G7Xd5FRsmCkqdu8Fb/dyvvnL6pT3ZuOYoAYtsp7ndM8aucfLJopLDioLWqzFOG5RXsYkR/70C/ZDzzn07wefNbqNSEQg9N5v3EzapXjaCtjHnHU76QmJeqVW7Co6IOXs1GvtSWIhmaTFmwuUHAhWGuui72sQZsu8XYX0iSbKSF+GfQIi4dgLjpNnckREFFGNKwlJ/YaiNyno7nOeiXtGzKa9++0vrHE+gevfnk5hjVhi7XI78mVR6efCGNkTddzmHHhh7LKU95xj5/c1zrXyf125TZGcy4TbPmPDzsz7VvYf0kTLIDMw2oJIIHOBXW8AEdGPGQ2utB1kitC4gOPp9yPDuFOk02aT7fUg28MwaVMLkzVdV25J99KLG9rrweds9p0KD5Dv+mgW3fr+TJq0bItiBJOFPvuvWd3zw6hu9ExJlStIGkwMIz7YDqL8+hrz+czDOts/LcmjBRn0z3wxlEf9xgaA9vmI8tXzY6rkpsv+4DfzKJ312+1NEu3oShtVfVldioixxch5m5SkRMN/Wp4hkVr0J8H//GEJjV6w2bT/fXtK6qKqG579cYmSPPPFcctNt4mAo21aPZZZZqf7Vos2a+1OZfzGf+3y+LdiF26Mnncvl4pleTiUf5fApNUp11dT3kyJlYVo2jrfhcDoT4oUfg+bHv5yvqtkyOt37CuTnJOBiDEqG5ZBeIHRFoAASHjsIDP9RohOrm4vy3QJmGT362EYOHAiNfY6/cfIRcp7p11i2Sl4PJfv5wfrUWd0L1ZvOywD8fYvq11JcIgea6V7ufgzmpN1HNl6iFEyHolmks6bPNMt9HKLP5pmTwt70tIt7g8CImceS12Q8eWIwiaCrBNtJDliBnu0m8HJSo3GRM3rVCEZlHnaWm2TYR9fzz4UxcTMXrczMAOCH/VG7/2aNJE78sKmnYVlHp0i+kM7tyF/7wFx8mSS5TGU/VvkrogaMhZBuU26++PZJJtMhjc26v62cpsjiaAgpD+wRuwOmR7devx2fGXDMggvSEQGQACkGnmSkeiU/R5TyNe1y3yATSHJnLp4k/yw/4RPkgoisFs1/BqT+h46F3ODqgiSDtpg2eds16hhJzRtugADSZwkY/jecTImzn58Qof6QvY5av5mz2Vy/BsJ4wDu47zqkZsloVyqW8Q1YtbaHdS7ZZ2M2ohsbNFW/aTsBI+S9uuLPEIIGujdhf4ZLbSIPPMZa7bTy+MPZUt/409HituxrtIKax4NNW1FGZwDqFM+JnQVjbrAYAZ7jDMt6lalR887IpL9KoggifBrsgNvwNMWuGJ/8UElGQr/9QOZgwoOc4tbZyljYJ+2yB/83AEogvhiJlBevI7c4vZZM6t7+t2ZGRyEa7HJSkSmO9GydxKbqFcmrKCvZm2QdwDB14s1wsYuzJyAzmt7FZZ+4b2p3pNKiiQMl+W/E1cohr8Pf1srZH+Z9I0zkbQ7ptFsuGCDtTyHGyYu2UJPj1pMQd33l34yD3XXwzqBYRofORlDacenaeHxzopm41jZi8gxp2qwle1BKnOcPPS7RbQ535ljgd05m+xmPQTdhnS4TwozcbkHcTkPI5KSrkMYFv+Ac2C0Ba54e8oqJRmIm5BoN5SUyGtgFmzIF9YB2G0IUwf2CfGhlkL2GH7N2ahQIrGDHKFJECKLsHXwduue6vEgG2keYQFcdr7X387ZKPkYYvZTeKBECVX8aNpaW15/XojzxMAPkDzPGvYUjuP9XJ63K3QLJSKan4TNMotuw/USAeHqmeUSiEeoBW3qV/NvAdfg3Fm2wmlUwAyDBEpBjDPCsghqG5+vERKRialLIpIkBknY5l4gWGC0Ba74beWhEM0py/0Jic4k/C4Sbfv/xqTUhEyZ4EzCto5BYmFNtdcnrfQlc/3hD4QeLpSdVdp9cilqKzOccG1Aq/lO9AyFE2DVMKoC5cr5a1yIgwFMRJu+ZZd9T2oOobcmkRUTnLgRNkOOk74rjGW3i93n4UsXXvuyEy6WadqK0jO1SIYn/B5Ht8rYZvFmY69zkUNCJ0ZDLs/1b0+nuz6elaJn2alxjbRtJQ0FlHOP062PUnfK+rSZEimKRsYYLw7jRqeInheHmcgthADHwGgLIkGmzN5hYaGF9qjMBnXcotwUA4YMe2cYjKiy+HzGeiVRSqbQsTAOevy4LUaH+EaTiMVvwmbMlOlpa3R/oz42Y6/Cm9+bQR/b8JC1Qpax3IipK8KRVTcM9577guJSo7vdWyDLQBnGbqlYI9C6fsdeGwsG0cPueMbu/TFS+U9Iu+8hrDQRLrnoNulfo5Y4WpBzQ/lyzsqjLr5/7ENkk8z7VKF8upa74bMkuaMJQz9ml//97L/hzx9P20QsFhOtrpU2SSQAUQdGWwAkCHEHPZH0o9OVfYSkz0ak1Vv30K8rrQ0zTquGL/dBUmXbrk0cI+k03D5qoQt5khbGa3zh3R6NDW3DfljkujycTOjRbxbQz0u3kBdUb6UfbWjRWuHWqMMJv/amZABOZryFdpKEZQtPfr+I7vp4tiJPYZdtu/en6f2t2pqeKZ51qKN+rUcv2Kxcm/GL8+iRrxcomrsLNqbKMAXB5GXiFh4Sgvsho9yssgwXavVyW2I+V20dDTKxWVwX0zcbJIHVS0OkfHcwqTxnYxbYkwsoNpBc42vJkkqLNpk7iXB0oVEegSjehjnrYdDKhJ2Ei1ElQnbzrEWOA5b4fQJ/gNEWAB1TVmyNfhhDUvxx/E5EFkTHojcW6C+fX4n39BMJbUhe2veSjnv/p3M0x0iGaoHEjoZpbDxtPVz7FVtSJSy+m7uJlufutm20z9NNnD/5fZ1ibHtnymoKA27rz6Rl3ozOQUpKBJW5XcvKLXsUo6QXiRQ2/j/x3ULarWnbpq/eTg9+Npce+Wa+IjXEhphMhHH+sSx3N73/6xrlpbJu+76UbRZt2kX/HnPIg88v5go00th99OzenxV56Qb8sPK7gS6oX+OYcHrByegBjYyq5lvPXr9T8Wi30vg3q7Oq4Zvv6xcz19O/R1s/lxt37vN9jGoWdeMEfSTSTIt6LNugF5Us9ZxwOwgSPkeERJlM10qNCooKqflpkpISkRl/7rcMCHAGjLYAGExIXWNzVGVlhLN1GBsNOQ9ERWoOW3k5aOHJ/L9GL1a8jMKM0+EKZ7dmb1y/yRQm6HYgz/Xj99XbFc82uaGo9pi3Pp/emOxMQzoIjOYasiYgZgsldhdjXhy3LOW9kwRjbLR/6It5KV5FQSxaWOH2sjvNuB04pecZtjb127lcn7zVfXWSwMbbVyccyui+aWchDf9pOU2MqHGd++dZurBMvUckL37weUYV0VI07J1sdJQwRvrMXZ8fXLniYWdxhZVnf9GBw33TpvzUBRK7/OSlfbWSGhBA1UrlhezHzVP7SYQlIbwSlF1zr4MoFreYzWci18ZkGAjePcJZVFDQGM212fDMYwbZkRU8JwwSPv7bv6yKnKHdL2C0BUAgVs1pwsR4IsPew+VY4cX4bGOSZmY4HrMwlxZv2pXiZeQO/0cO+nPShvTOWhtMKFmm1XA3njfc8d/47u/0yoQVimcbG26t9iJrnKDVw3x+7FLPiwwRcd6wj+7C5+0qpPy9B2yfpwivTPUZ4EFU2PTBrC7Dp7+bTzSNHqlUuYRwsjNkXhBWXttWbYZ24qF6cy/ZnB6GOt/COGa0r7DA9Ss9IVW8kNnWqn2a9ICkpChpCPHHMIMn7mFDyhjW4LqNW5RqVOVxC+dz4MVE7Vji4S/nm8iRJEyfVzbqLDVog8JCtZwKgR3beEHFG1EZqgXVv+QGvLDMjkU796ZKGkUVllOzkjwJG9oap1a/4eNXKNFJE5ZEcyHbroMSz0knLdtK42N8nl6A0RYAgajhnEFP0LihF5GdPWWfurMyG8sUCtIbDWKspD3mhp37UjwLwzrIdHOd1mzjFdvD758etZj8hsOf4+JhJi1jtEHyt3s/me1qX6pHtVP2l7YjHM4dNpzKv1hNwHaFQHYgE3bkAmTA183s2G4MNh/8dlje5KWfllPc4Gqmr5th81L3SkJi/1QWUUDhhMcGdhdORcsZfDlrQ8r7vSHQd5cijmBw2Yp0Y1pOHvvhb2sVSQM9eQVFjuQR1H7ObdmigtE1COR0dOXghI1hvKxRvtdeuPOjWXTfJ4cl0sJMWPsJtywz0FFWpY1+XOQtD4TaJ4WxWmvb8bgsGIgGRlsA/PK09bFnmbZ6Oz3jUS8vKVlGQdbxSdA9mBMyr0K311uVHdCGBxUfPGiZJEiPjC6ew5+9SJGEycNO1rNtdopuDsce1W54cuQiRRokjDhODBieKuMY9nT2mrjNLc/+uJQe/nq+o5A1q+dTL/PA2stujQlhvKV87vrTcSJNEglsa9rKuUNCnmUXHrKZZJJk90taDegojVOcYlhvdNdWjSSZuyE/ZSFIaDks7mfS9+S/YWztxCx+c8JGkXJuUbrmvKDnSZZPMMs8aNWHlSg9OdqF7PTEk973/+XMDTR7XbidZqI8VpcJjLYACMSNI5QbA8xrk1Zafv/1rA3yE4VJNmDJKX/C9v4TAs7Lj45Hq+VmhCo7wEmo4t6B+rEuYlQPROs7pqyIJzMnzMuEVy1mTliiP2+jDNp+4/SqR6QaG5KXQdtaJgs3Fijhmqu37UkLM5y6Ypvna80LA3Fqm0QtXIYZvY7365PE6ZEnJSds9XJ7DBc4y/RM/TDchQ8ZZTK6lKlhw0nHeSLMapNVdzrFpH2LIk4eJ9lOJlGRsvL6SH9sI2nuD/Pdj81l8K7ARLN+tFd26lKYnDxEL+KpThVOnqmXxx/KHxAmOBEtsCY4kRwAYohVxyByjCIrgYlafjuTJbNzFWXAkrHCnanjjmK/rve80bJm22Fj3Y491t60lt5DLssGvGFWH//3s/WijZ5tGe69nWRRDWrkhC7zsDt5hERkJowqXNwwlJkvnz6zulUG8mwlBI+GdPTV8deV24TvW1aV53aAjSk1Kld0/FuzMrEms5HMkOgxRRiNDzJkW7Yb9FnqqX82Yz39MO+woUvGJfly1nq6sHdz0+SPfB/81EFPCjvPRCjqVAi6M1t4rdocHfOHo1pabrN2W/h0quNGCJtNV/NgNQcA88vyrfRmafLml6/qQ3G6R9mw8O0GeNoCIAGjQZAsrxGRZX5i5CJ65JsFtgZxrAFpOFgP92naRn+73Bijg+53WPNNRSuPsNGh0T+ME8VsQJmoCdhPBY+iu6ylGwfKPPgoesjy5s5EUbE7zUz/mozwtU187nHTsNWzyqP3fpCwtzgbU4y0UJ16GKs10EyOSrRmc6bImjijjkO0BtvSbzzt18hA8N2cTbR4c4HpYtlbv6xOkauJgiZ6EM4XIDPlZCVFACEeJdiDH8/lOrmK5Xm7lISUqsGW2ckJimP0zIYt6XFYgNEWAIFE2bZVeOCg4m25Ycc+2rH3QPpgTveWPa7+bTBRScT0WoqyubMuJIvKq+HlfJ05YyZ7drghafMacifIWVSZdxyGP+nvRRgMEmGrH9l2jv+dGL7wKrfXM8zXOUgmLMmjW9+faZqASWSkRHymG4fOXXQi0LAhU1+ZPfv/M26ZolUqIhLln6MW0+RlW21Fp7iBvZ/MJGviXg+0nl+y2eMx6ZrTMZxVCDF7uWnhzO4yEbVw/sFvaygMRMVQ6YemrdFCkBu4rVmwMV/x+p9lkOg35H5DwIT//LQs5T0bcfXtzbhFxhEBUWVLgHJgYQbyCAAIxMylf8aa7TTZQmR/4859inbWGd0aU/WcCtIGfRxWXbNKRfqjQbhOiabsdsdTPDiQ5VF8KBwsSGuKnBEOa8tyUpo29avRw+d0VUT/fy/V8uFwPJkszd1FPVvU9ryf58YuFVIe4M+EQcSkQL+Kv3hT+rMflfZZb7ThzOEVyieouCS81tsg5rjvTV1j+d6SJNHW3akD758W59IpnRvZ34WN2wGDe/gxMiBYMW2VOG27uz6apfxdqhmr2KszJh6IBs9hVL0sRcDRWX5hJsVSZHMR+VAfZr/BiGPTkr/3gCd9/GzDj/5FVN/+/q9rUhannryouzKfXLt9L3VuXCOr+8oon7uacNGKcYtyafBxbXwpDwgOeNoC4AO8Ym+l+/X3r+YrIV/c6cqCvaR4MjR2YW7GTNZewizSQ9eAlikrtqaEl2q9Vp14sqno6xUnHXth7LIUOQSVF8elrti6RTsBDooIj8F8P0kR6yhG+whaNsPt8fXJs3gi26lxTUGlijaivBCTBt7YH/y61lbCIKfHCR2hLFRAJEmJJBG/28wX2U1/qoX7Zq/7iDuin2cRhkg3yFiw4/7JaBzmen8S+vADAS1UZrPTJ4e3y/BQ1xpsVW/Fx79dqERFTtJ9B6KB0aKK2bAXntTxx5XRdu3atTRp0iQaPXo0zZw5k4qK4MYMAON10dprlncrtMbBr2ZtsNx2y+5CVyuTebsKhRkLgjAIJQV3gByu9PIE+5p2Q76a7/mYb0xepcgvjF6wmbJPN1r+cf3UpuYzFDnp88Jmg0nGTIcedEHDVWbnXuOkbGEf7/pV79Rs15vzvU0qF2/eRSu37LEdLr5uB4xjcURJ/RfQw+U1UdQ/Ri5U+uQ50NcLDWbttxc4qSZLwYhAOyr556glaXqUYeOT39cFssYUFQOTiGujHcPlFhTSsO8X00NfzJN+LTiySI12mb56e2SuuQyCdjAQSXzOBEgz2q5evZoefPBBatWqFbVp04ZOOukkOvPMM6lfv35Uq1YtOv300+nTTz+lgwfjrd8EgOhwZg6P94Okg4EFDyrs/n7Ntj1CVu3VMEZt8qM3f3GmvSoTt+OdGat3uPZiZh1at96xe4rCYezLCiQNhlfk7aYHP5vreT8iBuvvG4TG/7w0WO+NpIv22UwXMewTGr/Kp3ohf1hqvHULe/w74esMC4lmhEFfWw8mValtWFCyI14WOniOv750IYGlq6KmxRlX9nlYxDSrDo9/u4ByC4qE16FlubtCZXgyGnv+vHSL8bbSq3n2PEdfzNyQIoUnoh6MmL5WidqziozRVhc24MbIbpnVfD5jfZY/UdmLLaPtnXfeST179qRVq1bRE088QQsXLqT8/Hzav38/bd68mb7//ns6/vjjaciQIdSjRw+aPn26/JIDEELcdIqj5/vjEZmpQdeu/LrVNLOSgPBj4i9yUJyQ1CM6GQxzMhYIsofTCzZK+JVVNuzeDFw8szYqTpl3xSRWCt4YyhEDmdBmUA4LYX8O4oCdS2zWHSQ95Co4EMJFgmzCy6NlVh+27d6f1c9xEKeZTUM11hsVmV+AnTnGLMilNyatUpxd9EnxjLSe4ypdfM+I2TR+cWYv+XemhscBSBYbPUZHgfBjK+NRtWrVaOXKlVSvXr207xo2bEinnHKK8nrkkUdo1KhRtG7dOjryyCNllBeEkGwZ2Di5FlG8Im4NrqINtXEnkxGW65AI46MfWW+zkSjONWRPkPbuL1Y84ycs2UJdmojXht2+Z78Sxnl610bUrkF11/uJ8hPhZ737z0/LqWaVcOSpXbd9b9BFABFlq0lf63TIqk2kNvS7hV6LBTzA+R+CJoh+JMp9lxGRSWQqeH6bv++A57G+PvHh21NW03Ht66dt986Uw4bKTTv3UYu6VSluFGiupxVFB+K/2IZ8MvHH1qh82LBhtnd4xhlneCkPiCAjpq8Lugih69/nrsvPytXndTviO8Eeu1CM5lmmMSGHYvIAbO22+F5LESR1CyXwsjVHhHeHFR/+trYsrN6Od6QTODmj6kkxfdV2euNPR0pZYFy1Ndzag37Wb9bdq1nFvXFc5Bx4S6kmHwCZZDJmrNlB3ZvXUjKmsybz/35e6Xp/SV2d5cXWBjVyhJQVhA+j5nXf/hLaVZhuFNprIrEjmzj5x2i9T8OMqEuuGmi1htTbP5xFN57Y1nNdZccZI9kFreQdG3o3wRMTgOzQtGUv2p9//lmRRABAy48Lo9H5+tnBizZchAGrAWNB4QH6ft4mJVwnSsxbn0+LNhXYGqBptXtlwuG+vBr/zI9LpOw/LImtRMCD1Ue/WUBP/bDYN49//YB5/oZ85ZXNqAZbt166WiYu3aIkzWA4iYad0De7JB14r4QNP5ckwrT+EUVDRQSLHHlY4/H1SSuVTOnMa5PMDbb7S5z3gX/53Lu2OAiOScu2uPK2yzPQumXZqii2gxXLJ2xHN8DAJ5bHvl1oOBbnuiRCmulLG5rwO/b4a79565dVVIJITACEYTv+7d1336WhQ4dS5cqV6ZhjjqGTTz5ZefXv358qVAhHGB0AQcMDqz0eMhYbDRCj4Kn1yoQVtHRzRMKdNMai58cuDaWB4LMZ62m3RyOS2bk8MTIe4Z18frm7C8uSxfDgMAhj03M/ptahMBImI5wellX4w1Ety7RU3y31RDnyT3XpQIn1JNvp8xqW59sNfhZdZuIorc6ePaJ306Jcz6LKb6u2p8hpWPWfkQnNBsJ4O0NSWxFdJC8ahHkcbLdZ4oVwcIg1giLeslHmZ/KyYBPVApC1nrachIx1bYcPH07Nmzen119/nU444QSqU6eOIonwz3/+k6ZNmya3tACEHPawvfOjWZRtWjhhHqg6m1hrEpEFaOna68Hwn2mAvmlnYSzD/pM+JZPKi2BiOFlXRYRtSpv9mD32tYi+n1H1Mg+iLZLlILNjL6K1AADxw0vESbBglcmM1Vv9ibBzgtG4KMwL8wAAn422TOvWrWnw4MH0zjvv0OrVq2nFihX0wgsvKMnInnzySTr22GMFFQsAUFScamDI33tACcOWEQbOnp2Z0BtU4ojWULEvQAMPIorsoR2ofj17oy8D1yguUMi8Luwd64XU5kzuDfzrF/NowhI52tRxS/a53SSjOgBhAN7MQCThN3olXUQppPL17Mwh9MD/ftxp3WPZgbR9RDJFLgBAmtFWy5o1axSN24kTJyp/Dxw4QCeeeKLb3QEAdIOrW9+fqSTWUHnw87lKKPb01Yc/84JWy9UOn9sw7MYBTj4xZ91O+tqGRpRXOFmK1tNQJBMEaoGGkSQlUzxt2Vscw1b/+XzmBmGJhLQhhJkMlbyoNXz8csfHmbBkC0WNIOxTrCcMQBRYuLFA6be1bUexx5VPGIXt076hnKSFcUrW6ZWXx6+gYd8v8rQPyIIAAEB0sS1Gu3btWpowYQKNHz9e+bt161bFs/akk06iG2+8kY466iiqVKmS3NICkAWwNy3rPDIvj19eli1d1XecJyjpESfseOmKPlSlUnkh+4sDB5NJembMElrlU0jU376cRx0b10j7PI6J7PyYaIV83hUgci7MAgFtERvfGX7ulufttn0/7xkx21VimUiSDMbbFrgDd8pfuO3QsnrbXtopQYZjeR6MXkYEKSUFvIOuJfrgEQRRRp+QGHg02rI0QsuWLemWW25RXn379qXy5WHsAUA0H01b69uxbv9wJj17WS/D77JxIMfn7JfBNsrh9mG5V4mIecsERZgvi9rO6A22/Ln+My1ZY7DN8rqYjf0QsL/YY7SYUXJQTtsw7PvFUvYbdZblYgwDQJCEeIgHgG8J/+KObaPtZZddpkghcMKxX375RfGwPfnkk6l3795YZQVAMtqJScG+A0ITwMzdAK9OlWmlGahBNNBP139dGdVEIEAPhze/OTldu23ttr30/LillG0GqrjYLj+ets7R9lE8b3hF+0duQZEUTfj4PHEAWIOa7g/oFgAwpnw52BGFGm0//vhj5e/ixYvLJBL+9a9/UWFhIR1//PGKEXfAgAF05JGHQrkBAO4w6te37dmfIp/ghuE/Ges/liDrVRkbd+4LugjAQ7ZmDIqNieJw6D8/LTP8/LFvF1C2Ead6rdUtBsArJXF6OAAAwAXwnQNRBt24pERknTt3VuQRRowYQZs3b6YpU6ZQr1696IknnqBjjjnG6e4AADa8dGQ2aGgrQVSZuVZMUr64E+ZomKRFciFwCAxoAQjHeAnEkzD3kSBYqubY9m+zRGazlIjk0jwAwAmuWqLc3FzF01ZNTLZ06VLKycmhE044wc3uAAAa8nThfjwpkRqqhwkOiCgVEFJji62700OIwwIMLCBuoEoDAEA8aFA9h9YUhTtR0rTVkHYDIO7YNtp+8sknZYbaJUuWUMWKFRUpBNa6ZW3bY489VjHcAgCiNQtcs8048da4xbnyDgqAAMrBaGuLVyesCLoIwANVKpXPWuN2JM87imUGIIvBSAKYIcoJe89+eYbfg5C5AyD22DbaXnXVVdSvXz+68MILFSPtcccdR1WqVJFbOgAAbcwvpIoSjVOTlm01/Hyyyedmg5pITq5BZOH6Bptt9OEoguISOdne40I1QeGZwB+QxEo+6njDaNxRUOguWauWH+Zv9rwPEB2yWR0BY3d/uOfj2UEXAYDQIaK/zhZszwR27NhB1apVk1saAEAaQ76aT92a1Qq6GACEDkw24nEP3/t1TdDFCDXSJXIiplkKgBXvTFnteR+F+0uElAUAAAAAxjzy9QK6+aR2QRcjXonIYLAFIDjmb8incJPFbgogELLViBVHnHj1AxB2YGf2jyWbd6V9tg8GVwBAREASPJDNFOw7QPuL06Pt1m3fG0h5YmG0LV++vK0XACD7wJgDBAHqHcgaYAiMDDDa+sc3czYGXQQQA7J5KIEFcABAkHzy+7q0z97/dQ0irdzKI/CFa9WqFV177bXUu3dvuz8DAGQB2TzgBQAAmWzYuY+a1UYOAQD0YOEOiABJTUFQFB5AZADIbjbu3Jf22fK83fTc2GV07+kdAylTpI2206ZNozfeeINeeOEFatOmDV133XV05ZVXUp06deSWEAAAANCBBdh4gJX0zHw5cwP1bF6bshHUDmAFmg8ggsUGMhsA+EERjLYAGLIg9NKQIZVH6NevH73yyiu0adMmuvfee+nLL7+k5s2b0x/+8Af68ccf5ZYSABBq4O0CAHADjC72gDcOAADIITe/MOgiAAAAAN6NtiqVK1emq666isaNG0fz58+nvLw8OuOMM2j79u1OdwUAiAkJCCQAn2FbH+pd9NlVVBx0EUCIiaJRHxqR8olivQAAgDTg9QIAkGG0ZdavX09PPPEEnX766bR48WK6//77qWbNmo73w567PXr0UH7Lr2OOOYZ++OGHsu8LCwvptttuo3r16lH16tXp4osvptzc3JR9rF27ls4++2yqWrUqNWzYUClLcXHqJHDChAnUp08fysnJofbt29Pbb7+dVpbhw4dT69atFaN0//79FTkIAAAAAMhjRd7uoIsQCWCjAiAd2DsA8AYWQAAAIEZG2/3799OIESNo4MCB1KFDB5o5cyY9//zztG7dOnrqqaeoQgXb8rhlsLwC/3bGjBn0+++/0ymnnELnn38+LViwQPn+nnvuoW+//ZY+/fRTmjhxIm3cuJEuuuiist+XlJQoBlsu25QpU+idd95RDLJDhgwp22bVqlXKNieffDLNnj2b7r77brrhhhto9OjRZdvwebHkwyOPPKKcV8+ePWnQoEGKFzEAIDOYOIEggEcbAABkLxh6AAAiDazmAAAb2La0NmnShGrUqEHXXnstvfzyy4pXK7Nnz56U7Zx43J577rkp7//xj38o3re//vqrYtDlxGcffvihYsxl3nrrLerSpYvy/dFHH01jxoyhhQsX0tixY6lRo0bUq1cvGjp0KD344IP06KOPUqVKlejVV19VEqc988wzyj7495MnT6bnnntOMcwyzz77LN144400ePBg5T3/ZuTIkfTmm2/SX/7yF9vnA0C2AqMtCALIIwAAAAAAuAMmw2DB9QcACPW03bFjhyJFwEbRTp06UZ06dVJetWvXVv66hb1mP/74Y8UIzDIJ7H174MABOu2008q26dy5M7Vs2ZKmTp2qvOe/3bt3Vwy2KmyILSgoKPPW5W20+1C3UffBXrp8LO025cqVU96r2wAAAAgfWCwA2UK2OuNE0Zu+uCR6ZY4qCXQCAAAAAIg5tj1tx48fL6UA8+bNU4y0rF/LurVffvklde3aVZEyYE9ZNgZrYQPt5s2blf/5r9Zgq36vfme1DRt29+3bpxij2WBstA3r9ZpRVFSkvFR4fwBkK/B4BH6TTCaz1pAFAAAA8ggAALmgjQEARMpoe9JJJ0kpAHvtsoE2Pz+fPvvsM0V+gfVrw86wYcPoscceC7oYAIQDjGoAAAAA4KcHNsYeAIAIA+cDAIAweQS9bq3I7dmbtn379tS3b1/FEMpJwF544QVq3LixIl2wc+fOlO1zc3OV7xj+y+/136vfWW3D2rtVqlSh+vXrU/ny5Q23UfdhxEMPPaQYmtUXJ2QDIFvBvAn4DY9zERkLAAAAAACiSBQlgAAAITXaslH1qaeeok2bNlmGqv7444905pln0osvvui6QAcPHlRkB9iIW7FiRRo3blzZd0uWLFF0dVlOgeG/LK+Ql5dXtg2XgQ2yLLGgbqPdh7qNug82GvOxtNtwGfi9uo0ROTk5ynG0LwCylX37S4IuAshC4KEAsgVM7ABIB9JMAHiD5+8gOHD5AQDC5BEmTJhAf/3rX+nRRx9VPGH79etHTZs2pcqVKyuasAsXLlSSdlWoUEHxQP3zn/9s6+C8LRt5ObnYrl276MMPP1SONXr0aKpVqxZdf/31dO+991LdunUVo+gdd9yhGFKPPvpo5fcDBw5UjLNXX301Pf3004p+7cMPP0y33XabYlRlbr75ZnrppZfogQceoOuuu45++ukn+uSTT2jkyJFl5eBjsCwDn9dRRx1Fzz//vOItPHjwYFvnAQAAAAAABIMJLbAwdCDaAgAQZdDFAQCEGW1Zd/bzzz9XvFw//fRTmjRpEk2ZMkVJ5MXyAr1796bXXntNMcCy1IBd2EP2mmuuUTx42Ujbo0cPxWB7+umnK98/99xzVK5cObr44osV79tBgwbRyy+/XPZ7PtZ3331Ht9xyi2LMrVatmmJ8ffzxx8u2adOmjWKgveeeexTZhebNm9Prr7+u7Evl8ssvpy1bttCQIUMUw2+vXr1o1KhRacnJwCE25xcGXQQAQJaTm18I78MMdG2KCJC4kK3eOFl62gAAALKApZt3BV0EAEAESCQRFyGEgoICxfDM+rZxl0p4fuxSmrc+P+hiAACymGo5Fah1/Wq0YAPaIjMGdG5IVx/diq5/e3rQRQEe+b9Bnejfo5dQtnHd8W3ozcmrgi4GCBl3ntqBeraoTQ98Noe27d4fdHEAiCzn9WpK38zeGHQxQkub+tVo1VZnuX0AAGJ4409HUtwpsGlDtKVpC4AWmPkBAEGzp6iYereoHXQxAAASGb1gc9BFAACA2LJ9DxY9rNi570DQRQAAABhtgXOgIQYACAMVyqMxygQ8RECU2bBjX9BFACEGicgA8MbkZVuDLkKo2QGjNgAgKpq2AGjBIBkAAMLPryu30YTFeUEXAwgAES4ApAMnAgAAAADEHXjaAgAAADGkcH9J0EUAgkDSPQAOoz4NMNoCAAAAIO7AaAscg0EyACAMwPsQAAAAAAAAAEBWyyPMnTvX9g579OjhpTwgAsBmCwAIA/M25AddBAB84dkxS4MuAgAhBCNSAAAAAMQbW0bbXr16USKRoGQyqfy1oqQE4ZgAAADkM3PNjqCLAAAAwGd4PsIg8gsAAACIJ3Zsj9mCLXmEVatW0cqVK5W/n3/+ObVp04ZefvllmjVrlvLi/9u1a6d8BwAAAAAAAAAyyakAlTcAAAAAxBtbnratWrUq+//SSy+lF198kc4666wUSYQWLVrQ3//+d7rgggvklBQAAAAAAAAAiKhz4xq0dtveoIsBAAAAACANx0vU8+bNUzxt9fBnCxcuFFUuAAAAAAAAADAkp0L5oIsAAAAAABAuo22XLl1o2LBhtH///rLP+H/+jL8DAAAAAAAAAAAAAAAAIFkeQcurr75K5557LjVv3lyRRWDmzp2riAR/++23HooCAAAAAAAAAJmZtRbJKAEAAIA4wjlHkYfMpdH2qKOOUpKSffDBB7R48WLls8svv5yuuOIKqlatmtPdAQAAAAAAAIAtkqV/1+/YF3BJAAAAAABCZrRl2Dh70003iS8NAAAAAAAAAAAAAAAAZDmujLYMJx1bu3ZtirYtc95554koFwAAAABCTMXy5ehAycGgiwEAAAAAAACIYVQNcGG0ZWmECy+8kObNm6fo2CZZbIJYb+KQ4ERJSYn4UgIAAAAgVMBgCwAIgtKpBwAAAABA7Cnn9Ad33XUXtWnThvLy8qhq1aq0YMEC+vnnn6lfv340YcIEOaUEAAAAAAAAAAAAAADEGtU5FLjwtJ06dSr99NNPVL9+fSpXrpzyOv7442nYsGF055130qxZs+SUFIQGZPEDAAAAAAAAAAAAACBEnrYsf1CjRg3lfzbcbty4Ufm/VatWtGTJEvElBAAAAAAAAAAFeN8AAAAAIDtw7GnbrVs3mjNnjiKR0L9/f3r66aepUqVK9L///Y/atm0rp5QAAAAAAAAAAAAAAACQJTg22j788MO0Z88e5f/HH3+czjnnHDrhhBOoXr16NGLECBllBAAAAAAAAAAAAAAAgKzBsdF20KBBZf+3b9+eFi9eTNu3b6c6depQAmKnAAAAAAAAAAAAAAAAF0AIyYPRVsv69euVv82bN/eyGwAAAAAAAAAAAAAAAABuE5EdPHhQkUWoVauWknyMX7Vr16ahQ4cq3wEAAAAAAAAAAAAAAADw0dP2b3/7G73xxhv01FNP0XHHHad8NnnyZHr00UepsLCQ/vGPf3goDogCkMEAAAAAAAAAAAAAAKJJQh/BvdH2nXfeoddff53OO++8ss969OhBzZo1o1tvvRVGWwAAAAAAAIAUMJEDAAAAQLbgWB6Bk4517tw57XP+jL8DAAAAAAAAAAAAAAAA4KPRtmfPnvTSSy+lfc6f8XcAAAAAAAAAAAAAAAAAfJRHePrpp+nss8+msWPH0jHHHKN8NnXqVFq3bh19//33HooCAAAAAAAAAOZAHQEAAAAA2YJjT9uTTjqJli5dShdeeCHt3LlTeV100UW0ZMkSOuGEE+SUEgAAAAAAAAAAAAAAEGuSWKJ172nLNG3aNC3h2Pr16+mmm26i//3vf252CQAAAAAAAAAAAAAAAMCNp60Z27ZtozfeeEPU7gAAAAAAAAAAAAAAAFlEEo624o22AAAAAAAAAAAAAAAAALwDoy0AAAAAAAAAAAAAAACECBhtAQAAAAAAAJEJmdxffJDiyBX9WwZdBAAAAABEMRHZRRddZPn9zp07RZQHAAAAAAAAAAwpKi6hNyavorhRuWJ5OqVzQ/rwt7VBFwUAAAAAUTPa1qpVK+P311xzjYgyAQAAAAAAAEAa701dQyUH45mhJJFIBF0EAAAAAETRaPvWW2/JLQkAAAAAAAAAWBBXgy0AAAAAgB5o2gIAAAAAAAAAAAAAAECIgNEWAAAAAAAAAAAAAAAQiqSj4BAw2gIAAAAAAABAgCQJM1QAAAAApAKjLQAg0rxyVV+qXtm2PDcAAAAAAAAAAABCChYyDwOjLQAg0lSqUI7KIdsyAAAAAAAAAAAAYgSMtgCAyHBpvxZBFwEAAAAAAAAAAABAOjDaAgAiwxFNawZdBAAAAAAAAAAAAADpwGgLHINIdBAED5zROegiAAAAAAAIoWHNykEXAQAAAAAhB0ZbAEAk6NS4hu1t2zWsLrUsAAAAAABeuKBX06CLAAAAAISSJPKQlQGjLQAgdpzUsUHQRQAAAAAAMKVCef+mYXef1tG3YwEAAABAHDDaAkcUFZfQjNU7gi4GyFIgzQEAAACAOODnmKZhzRw6D569AAAAQOSA0RY4ouQg/NQBAAAAAPzgpE6IHAFiOL9Xs6CLAAAAANgCVqeQGG2HDRtGRx55JNWoUYMaNmxIF1xwAS1ZsiRlmwEDBlAikUh53XzzzSnbrF27ls4++2yqWrWqsp/777+fiouLU7aZMGEC9enTh3Jycqh9+/b09ttvp5Vn+PDh1Lp1a6pcuTL179+fpk2bJunMAQAAABBXjmhaM+gigJhwUZ/mQRcBSOCULg3T9PoSJM719taT2wvbFwAAAACy1Gg7ceJEuu222+jXX3+lH3/8kQ4cOEADBw6kPXv2pGx344030qZNm8peTz/9dNl3JSUlisF2//79NGXKFHrnnXcUg+yQIUPKtlm1apWyzcknn0yzZ8+mu+++m2644QYaPXp02TYjRoyge++9lx555BGaOXMm9ezZkwYNGkR5eXk+XQ0AAAAAxIFzexqHId94YlvfywKiDVSB4skVR7VM9yNKBJO8FQAAAADhpUKQBx81alTKeza2sqfsjBkz6MQTTyz7nD1oGzdubLiPMWPG0MKFC2ns2LHUqFEj6tWrFw0dOpQefPBBevTRR6lSpUr06quvUps2beiZZ55RftOlSxeaPHkyPffcc4phlnn22WcV4/DgwYOV9/ybkSNH0ptvvkl/+ctfJF6FaCHSCwAAp7CnPQAARJWOjWBIAc5AtxdPZI9n9HtHFm4AAAAgmoRK0zY/P1/5W7du3ZTPP/jgA6pfvz5169aNHnroIdq7d2/Zd1OnTqXu3bsrBlsVNsQWFBTQggULyrY57bTTUvbJ2/DnDHvpsqFYu025cuWU9+o2eoqKipRjaF/ZACYPIApgcgIACCPoQgEAZqB9AAAAAEBojbYHDx5UZAuOO+44xTircsUVV9D7779P48ePVwy27733Hl111VVl32/evDnFYMuo7/k7q23Y0Lpv3z7aunWrIrNgtI26DyM93lq1apW9WrRoIeAqAACsSDqwxl59TCupZQEAADPMWiosfAKnIMIpfhzV5pBzSvlyqdOwI1unOq14AW0NiCKNalUOuggAgAjO++NOaIy2rG07f/58+vjjj1M+v+mmmxSvWPamvfLKK+ndd9+lL7/8klasWEFBwgZk9gxWX+vWrQu0PABkA/Wr59jedkCnhlLLAgAAZpSDwQRINr79UdFEBVHk4r6Hkst10yUs/MNRcAAB2c3RbesFXQTgM20bVAu6CACEnlAYbW+//Xb67rvvFG/a5s2ts+T2799f+bt8+XLlL2vd5ubmpmyjvld1cM22qVmzJlWpUkWRXihfvrzhNmZaujk5OcrvtS8AgFwqVyxPx7avH3QxAADAEuhvA5m88acjqUEN+4uYIJxUKF+O+rSqU/Y+p0L5QMsDQNAM7Joa9QrCy+vX9hOyn4FHGNtaAICfbUiMtuzyzAZb9pz96aeflGRhmZg9e7byt0mTJsrfY445hubNm0d5eXll2/z444+KEbVr165l24wbNy5lP7wNf85wsrK+ffumbMNyDfxe3QYAEA5qVakYdBEAAMCSGpXT87w+cEZnhLoDx1QsHwr/ChAx9G2Nlfd/nWqV5BcIxIb/G9RJqnNGraoY52fT4jRGRQBkplzQkgisV/vhhx9SjRo1FP1YfrHOLMMSCEOHDlWShK1evZq++eYbuuaaa+jEE0+kHj16KNsMHDhQMc5effXVNGfOHBo9ejQ9/PDDyr7ZG5a5+eabaeXKlfTAAw/Q4sWL6eWXX6ZPPvmE7rnnnrKy3HvvvfTaa6/RO++8Q4sWLaJbbrmF9uzZQ4MHDw7o6oQTkc5D3ZrVErczADQksTYHAAiI8uUS1LBGui5fOw4BxOwEOGBQt8ZKfQLxImx3tHuzWtDABbbp0qQmlYtRu4SFMcDccWoH+uvZXYIuBgCGBNpKvfLKK4oe7IABAxTPWfU1YsSIMg/YsWPHKobZzp0703333UcXX3wxffvtt2X7YFkDllbgv+wVy0nK2LD7+OOPl23DHrwjR45UvGt79uxJzzzzDL3++uuKVq7K5ZdfTv/+979pyJAh1KtXL8Wjd9SoUWnJyYAYuLPn1VQARFByEEZaAEA4OM5CwgWGEeCEevCABC5Ja2ss2p4L+zRzlDPALk1qI6lUUHRqXIOqVJI3z/rXJYecp+LANccicbFbbjyxraff165ayXBcdPdpHclPrju+DfVqUZvaNaju63EBsEt6/F6IMsK1aNGCJk6cmHE/rVq1ou+//95yGzYMz5o1y3IblmrgFzBHVGjnnad0oMnLtwrZFwD1qleiPUXFQRcDAAAAACB0mte1q5gvANSsXJFEJ+k+pl09uqRvc7rvkzlidwxCQaUK8fBO5TqK4Dz3eNVW/9vZXWjV1t0pn1WuVJ66N68VmsV2AMJAPFpcEDm4MUYIOxDFn09sF3QRALAEcjCADTWiDSMgO+jaFMlus4n7BqZqhrau7y27eruG1QMxsrEXHfCHU7o0pNiQTNeI1z8TojizexNXs9H2DeGRKYK6iCYBFlSIkQyLV2C0BYFRrVKgjt4gRjSuhRA8EG5uP6V90EUAEqiaY78f46HnQUi5ABfcMiB9YRI1Kb7ojfSX9WvhaX81DRIj6hHt/IsFquAjIeNyC87r1VR5JoZd1J3CAhYkDgGTGpAFS/ZUha2oDBhtgSNEDupYQ0tL75a10z4TxeDj2kjZLwgnyNAOwsT9Z3RCoouYUj5xqO+ySwksGQCEintO91c70Q1evWTR7MSbv5/T1fDz3i3s901RoEblikEXAQDgE4jITgWzSOAIkaYw1tDSUqF8OTqnR1OSwfEdoFUTRxqZeNgi2Q8IE81qVwm6CMBHfUozvX7erKrExDAAgGiEOTsdorSuV9X5MWweBOPj8FG+XIKuPba17e2N5DO4F7rq6Hgl2JI1ts/mRY1jbWq5Xn9CG//0ubP4fgBgBoy2IDTI7jQfNlmJBtHl3gh4yAAAogNnD5YJh3r1aVVH6jFAdkSPNK+DxSARhH2Rt0Xdqp4NI1Y/j5thL4q0bZBqdG1YM4dO7NjA8z2uXBGLhG6ufzZRq4o97+UujbNHVx1tIggjMNqCrKEKBi+x1LsxIuRzMABAFtOxUY2giwBi0v8hiUs08cNQrDX0WzlFyJbuqWnTKJStHNGsFvVuGb2FPLM6devJ0dPvb1q7SugXb4B/nNw5Rkn9QobXpJrZDIy2wBFSwiAEMvCIRkEXAUjGTg3s2BhGERAeEOmVXeB+A9GYDb0wAfJOXDXwD5pY1Y5pV8/Xcjx67hG+Hi9q3GqUZFBAJxJE0vVnL+tFfSMaSdK6HtpS4D0qoluzWimfHdWmLl3ct3lgZQobF/aWk7soG4DRFsSOv57dJegiAIkkPXjgAmCVCfi646OXsPDqY1pRlybZE7YWZWQuesLjEoB4c9OJbR1tX0FjtdM2Pad3beRrEplaVeFpq9K/bd1YSxiIutfJEDw/IBWZPlsHTW74bafI8dr+v0GdpOz30fOOSGl3VX3qs7o3oThx56kdbG3X0oUWOzAHRlvgiIQLg0KNyhUch6l4oV0D/5NKgPCgrW92BfYB4AHpcT7XFxEeTwM6RSeMy2lfEHX8XDx66uIeMI4AEGP6t7XfX7AeKif3deK5GdZAOjZ6xIUbT/DPcBhXD3KvRjUzsjVCxixxqt1F59oC5E8Omlht+0iSDZHp6BDWdlQU/7q0JzWzqaffCVJgQoHRFkhtjI5uW4+eu7yXo988eGZnZwfJYuK0Qm8XJ1XwqqNbSiwJiBNBZA++4YS2voeqAv/4+7ldPU2SstWwAQ6TzVnN/SKISbZsg1qLulViU9fuiVHCWTPDl4zaEEfjkddz4vB14A6zIUadapVsJzMzo0TX+Khe+nF4xsParrqlTtWKns+pfUM417kBRlsgFQ4TcBoSWrlCPKvlY+eL1/UqPFBC2cADZ8CQD7JLnxtEn+o5PnsWx2xyEFZYtxFQVoZ7hpXzejVNea+fVGu7O7+MCKKO43s7GgLcXDq/RzSyE9iBcFGjsrlhtnvzVB1Xp3RpDImvKHBRn+bK3Mmu44HZVvcNtCdPETeDt1fQ4gKpqOFZnZvIcZFvE6EkHPWqQWfV77BqhIcBM564oBvFhSh7JQSNrL4piAUDs8RDQBz1qsvVDh50RGPyi6uObkWXH9mCsh1+GhvU8Hl8JrgJOL+XdXIXP+QR+rVO12sVQVzWV/3OSC/7slWqUI7aN/LHY06tvxjTB8Nlpf2EV+OsGeyt61ddAu6pXSrBlVPBXpSvUb/D7Tm3HcA5uGrAl8nmSR3lDFb0WRrDTFwGngDEgca1KlOjWpV9PaasSW1UCKNJsW4Ai2ky5BGsknkAcQw59wipiyRVc8r7akQymjzxBDrbiNv4zKqJkXWuNatUsLVvp3IHcYmKkaXPqdJBZ/Ty47r1biHnnNpKcMhB9+j9utw6QE5iMKamhScvCBecP6GmAC1j4AwYbUHWDFThjQYAYI5qc8h4Wq1SeV/bB/W4QXnWBU1QjqC3nixvomFkhA3qPNHDyaeqiY68bEOn1v6i1YOTsQDw9MU9hO8zjnjR5XNiTxN9j4N2yHfqbOHE9HhhH2uP4zgj2yisUteHRR1EAMSHhjX9dY4IejzYrkF0IoD9iBzQ6x078ZbHmDYVGG1B6IjLqjoQh9sqgXBhbzSsGU9Jj7YN7E+2T+rUQKBHbjJrE2NUC1CXsFU942t8RNOaQoItSw6mvg+qC7Nr3Pnr2V2od8va0ssTJexqrJlNOk7r0tBXWQMV0V0cG2TKZVlSOx5zugm7vqRvcworYRhGl5NciJsHtEv77JweTamyZjE22+qx1nNe1uU/vWsjirKhz6z82TJd8KJF7KZO3WrwnAZJE8kRdqd1kf98+AGPEavqxu3aZ8TuePPegR1D1zdFFRhtQegQ8Twbue2HoUPOtskQiDbXH9/W9W+HetSMbe2DXrWdNuHkTg3pyQu7Sy1HNgxi+BzDtohy44lt08zobkoYRBTH2T2apH12tcaYZ0W7BtVpYBZ5eGfi7tM6UtemNQ2NQEb1OExRO6JLEp4zi07OhjA6MrjpUzI1z9cd38bR70X1a2b78ZqxPkzIGANUMYkKyBY6Na5hWD9FRje5zbcRJCd3bpBROiynonHb5qaaZlvCOu4XUhI/BtCr+hFxYHc437xOdjim+EF2PUkgMGRp+Jnx+PlHUBgZen58kh+54UiD8HAQP9ig1LR2FU/7YGNpXNoj4F9YpZPJlVU2ZC+hnEHZ4Pu3rRfQkaONmlzlSE+a03LvutYTNGVC6LEp83tC1aeVPyHcTgj7mpmb/squ53CXJvaytrdrWJ2Oa1/fURl4cUgERufCbW5Uu/EBndKNZjLO5bJ+LWIXDenk0PcP6uRoH26Ma/ef0ZmiRlpdS6a/DXKsJpuINhuOqGwzUZgVjWt5m8MxYVrgjgMw2gJpNKntLgRBxHhA1GRcNBXLh316IJeOMcoOypMYYEzYMoMOuyjVU7ZKafikyOHEeb2aZhwkR3WSKQqZSSwy8aSuDqiIaJGbCBjcyqB+dXN5Eyd18cEzozcxNeI/V/Sm16/tJ2nvwTzcXidFXnRZ3XDLSe1seTT7SRA2qITk49uV3bn1ZHn34qSO1h59XrCMFAh5P3tm9/QoCT0iqoQsne2wzGIyecx6MS63tzlXaebROSFq+OX178ci2JVHt6S4IqIJPK9n0wzHcHeUsNWHKBGumTWIFW3ra5JlSNKZ8fPh51BaL6Ch8p8cicbD7Lifwc1+RK7Q5ujCBI+x8EisV93dRGdAx8yewWZnFEdjbucmqaGJathdUFStVMG35zgMuuyVBYXG3nRiW+rYKP1eRhUn96Z2VfttgahnWO9VaHQfy2tklkQct6MujFi2RFQFyERJ1361MsYnJR07KUkOzKyIdnZ/TLtoRB901nk8h6ALsYk/g5fepUnWEh7ubaYxpbYtPbpN+OvN4x4lyJxg1M9cdYw9OSYrLg5QF7xDw+DGNUe3rSdVAu4ok6ihtKiwhHvnGztjD6Nt3OjHg0PAaAukoW0M7GgZnmVj9TlIuJGNw2Q+KIIIi+Tr/afjWvt+XBAykva1CO8fZOxVaKbxVUaAj7Ysoy8b7LwYSbXNXVhbPq0BLEx9hRWsvyqDh8/patvYHQWdWq+cY6AbbFZnZJkujm5b1/cET35rNbL++d/O7kJ/PCpank9eZHa0Y8HuzWoJNXIGpfVqp/gdXCwAme3W7DHQfq5deBl2cXch7YJXjIrdxgcNfxn4seDM7a2IcH1HxqKwDlg01Knq/3OuvSx1bS5qWl3KrjblWcKK20WhZnWq0N/P6Ur9PEkymVOrakVDiTq9BBS3h69c1ZduOKGtrXvndOgRQ3+UQIHRFviDjSdXXdWRZdiUnTEyE1FYXbpMtwonCg7Buz5DEgu7A8Ow2L2jcD+jDk/k/WJgaUbhBjWMQ8ofFKBdJmuCI6tta2ugSXjP6R1Nr1HQ8AT92ct6OfqNDAOYPgFKIMb0DAmzjL4zMhyY7YOvcxj1SVUvb1WnVgYsv+RHP8QTL6MFpoQPk6K/nNnFc9ntwpNLbmtO69qIhl/ZR+hCqx2Pcx5zmt1PM28y9nITde2PbVePbj25Pf3z4h5iduiyblrVaTsG6vI2HgrVQB3EiTasEewcwImkXJjHl6lJltwlhg5SbivM11YEThZGLujtLGGVX/MvPxYDRJzLUTbytHRvVtv0O73nq0iMnhujc+bt3ETBub1HYZnDRxEYbYEvaJ/tAZ3lJRjKNDA3SgAQd5xoCzevI0efqW+rusrkye1gSWTiFVFojRmnlxr8ZCIiFClqGBkN3WBmeNLWJTN9NLXuZaq7lmFGpYYX0QnQVOOGnyFm3ZrVkjrQ9Ood6MRYJFJGIBMir5ktzXbJ7SRfZ7/1UMPkXX2J7plz+2hbLZRq2xxttJLWI1NWUkUvUiasp/q0hQEymeF5PKFDA1u6n3ZgbyYv8JVuVa+aVC1LHpv2bVXH1Jswkz6tF69okRNoOxEG2/YUOd9xzCb5dhxTwmzYcFq2pi7zmxw+Xogvhgb98yticfuULubzZaMxKevYO5GF42gS7fi4YvlydJ2LRTM/52WiZLb8qldG0TJ+IPue+HHLwzLfDwsw2gJf0D54V/WPVghclLnu+DZ0/8DoJ5EJe8Nd3cdQUiAHswGc14EdD+TVxGeiYeOGqBD23i1rp4XnRmSu5IkzuzVOa2vicN5O9PuyBXWSe+2x7j05zdoDtxrcVsl0tIdSF36YmhqjvYj7KLousFHcSoJGFkbGS7v2eavN7htoHFLf2sCYK5JHzj1CWRD+g4FshJUeopEx56APz7sdjcb1O/alvLcjCaGt7/bkEeQ04PqFGtGkRJSZbNM/gwHI73bd7+Np763VbW5kZdizUz1cnFfVSuVTDLecCM5MF/3CPvY8XK/sb+yscd/ATobn77Tq65+Vl6/sQ+0ttF7N+7/DNKyZI619GXJuV88LcUaYyQOIIKhFBxF5QfR9akJX3zMXIr0MMRheBwaMtsD3xiPqq8xe8Pu0ejSv5chgxKusIBUzL8a4h1iJ4BoPxhE/JgN2BjVe77JWQyrMdrIuTWoqA/ZoT+ic/6ZaTrp3bhwMmkUHDgZdhKyiX6u6cpMulUvQ83/oRc/9oVdK2KOIiZmdfZzcuaGiCWr1ve3j2Upg4uy8OErISeI4p22EmXH6JBvRW0ae3Xaaqpb1qioG2+oGx9cvNpmhGkXNJFv8Hsec1LFBmY7x/w3qlDG6a9hF3U2jIcw+l3FG/FyK8v72wjk9rDO6+4G2zmjbjiOESl9ojydGNsGobT1D8xzJiFq469QOhp8P7Grv+TWjYyPjKBevpyBCV/uKo1pJWwDiqAev0VHqNdKe6RHN3GnrOmk/2YnKCywf5ASzusByhenbGm9828ntUz/QnO6pXRpSrxbm0g9mRFW/OwzAQgOkkbDReFx/wqFG7OYB6Y2IKILMWB4GY7STY3bIEO56UZ/mtow/7CES1DkkBQ9i+rU21m0UMVl2RACGJK/eOceFPHOzk7oh+n5fHUK5i6xdtImBkVYWUTRgm5VZVv/LExceZ3BoqkxYFkPvdSjk/iTtGdusNEG1nsBBeDOZIbv6Jmx6aJ7down9+SR541yzvoqNnpxP4DSLMGs7Xt9e4fPv2LgG9S/VgGQdYx4rWsFG+IY1zeucSImKTNx1qrG39aPn2R/rHpZaylxXzSN/rI9hJ+mzLG6VOI/TLoCw8er4DvWpQfUcqmqyoGJ1mbTXUCttJvrK8a3ghZdMZRBJX5P5ihVGVUboYo6LXf3ZQxJcN7g9WyfzguPa1/d03Mv6eZfY4vt6RNNaafXQ7CyMkpmp5FQoT3eYLEqo6PfbtkG1QKJw4gKuHJCGdtBh1iAc264+/ffqvmkZDd1i5GkhoqFTseNVES6DbcJRFsxM29vRaLrz1A6mAxVgTruG1em8XuZeFL4biblMLjVlzeYNTjKtijxbL/MYz8+tiR7zgE7BaHvLTP4UF2S31aKN4w+dZZw06qxSzzCWvtATxrB60RidtyNs1oObTjo0wXSqpywCt7fgyqNb+n6vuzZVjXRyKo6Rt1DDECRNZPkaXvDWepXKaGP+WCqjcMPxhw0evJBwbPv6phNlbTnYMM8esDLg8+dknk4m7HbGPGwMDpJMesOZ5AycksmYJlMGgxNPsnfrkZrkS9pHzi99eK7ng49ro8xXeFHiobM6K1r7nr2GA+7PTiz1QreD2Vztgl7NhHgMi2qfnrjQXXsiImqC51NW+UbsLJKEBT4XEVr8XvFqzHd6nYOY94YZGG2BMKy8KKw6EaNBnJM+5+7TDq2A84CY3fWtSFqUXZ3gqvBAQI92hSoqJEyumZtOql+GbOGcZE50plenlAgetZp1UqLDCjl5wLkmoW88MQhiQMmDBCtDslPY48cuokLVvBrI7Nxn1tmyUxtqVomW9rGTGn77ydYr7l5w4s3k9Ty8Jk2xg4j5gfbx0CYEUxdGzunZRDHC/OPC7nSzTx5+fnK+jazX+vMuV3rhRbel7HEikhM6HPLIudDGOZqFyWZKYHhKZ3keZmGBx3RhmIz7VQT2QGQniMPG8cxoi8bXysqzKio0kqSp6YYbNfOiTF5tWsxkzTJ70qZ/30+QUwx70v7nj71T5DrMSnNuz6YpCwmynh8uC2uw2rmmiQwfqp6QfoRvG5WFtdbtJPOzgudfTmuI0ZTp6qOdRYKZjdcb16wcmJTc+b2aGeqBhwm7fYNVP2Y25za8J8F3h8ADMNoCaWjbGJkGp+7Na9EbfzqSHju/m6GBxk6jyKGNPMnV0rxO+gp6iwz6W1YE0VYmLK6Z04yWLKqfSe+oosH3RziYQNgh0/0UXdXMjqddAXRav610C40Gcqz9FrQXgAjcTKC9ev7wIb1cOrMia+UNGlmEcGrp1KiGMoG6VKD3vyi81i+jSabWmOjFeJLJmykTTo6tTjZlItOQ9KdjW9Nfz+5C5/dsphyH+zZeGNXeizh4MHC/wl5WVugXhENgv8tIorTN/9elPQ3DKfWc3b2pYhh5MsO1EL1AdtOJbenFP/Y+/EFCnszRABsRTtGuzeIIKvTUiaFYi4xxDctQcJg4t4Npx/O5pqQkznIwCxhskg+gdgZvfqPryc+qqHOxW78u6N2Mnr2sl2MdTsPjCqpIyQxt0sCujZSxNr/cYqd25VQ0v4Z262fCam7isIobTes6NKohpO8Mw6KZGSJKpn2mH9YkSPNrvsbyMV7qq9PyOr2dcZi3hgkYbUHssTtQsrMdN5DNPBlujY9Rs4qcsEqrBtavzrRHc48hqk4JoJNwesibTmznSFOXvQk8h/oGgIg65vXZ8FoEs5+7CXXlCc8tA9qlJL8IM+yZeK9B5nS79Z3PVSW8Q/dU/AjxZOO92THteJBmqmMsa6JfADJLROQ2q7WIxtaLln3FcuVM9S7NSuW0DiYkTEYyJe7gtoTbTW0WcivYy4YNI3YXjkQm5zJL0JUJp9fu6mNa25Km8vTsumygkhHz/JTVFt9YZhiU09I7WbhjSYhbB7R3Le8kC6NxgpmskFHbVq96JUVqgyXI9FndrRARVv3UxT0cL/gEIRfjZdzHfSbrLLttR+yOd5+8sLuQttFsPiljYSIq4zcnpMgjCNifF6cutzxssDBld5FCeV965i1ttq+ZrpMTCTzgHBhtgTC4ozBb0W0YskGrHicNNmevlJVRVzTcIJsNJPySx4nrQluqFpazszTKBp3pOPWq5wj3WraDG+NEVO65nfumepZk2jTMHgV2UMMutUZaPiX3usZJx7pknFwkG2DvV/Yg/8uZnRWPJE5UpHJez6aeswzbwaw+n+1jhnTWsmdJHS08aT5sADKnRd0qjiVXyuQRAmyhMmsv+t+O+O0N4+ZwCRvfs+xD2Ljq6FZK+LaeoEKG9UY8Uf2WmiCvYnk552UkVyaDCuUT9LgkXd+EwbgjLTu7BU1qHWrzeraobSoZpLanrD8rEjv5LNzw/B96UWsBcgRJF4ulsttSs0eLF9q8PneHIsiMz1ovd6DvY41yyzCycpFYOw/Z38+GHfuklcft7dDeAzf31G4/YDZX4YVTs/7bTr+uFpnrpFdpjqCSjWYTMNoCofQ3eei7NqmpDF55kuo31XIOr5omRITtecpqZP/4oozDZqcWBlFzP9DeLQ45vW9gpzIdZDvIuEp2vaj0mGXKDRsJAddO5KSjvMkDfk5pKPxRmsQaZvcqaTU4tzjTIJ4yq4zbmYy2WlkYvw3RtSRFHNQs9UriZz8ssHYkhyCyHINVuKQeTsAiEyf3XIaxjw+fafLAsgFqOTnJkqoBa2ffmbj1ZP/0f73KfohCxG2U3VLYqZeqUUvFD1t0plKdnMFgEgRaL/yojAIrSZB9MDMEN5Ok62ukaes2ERYviBq1H384sgXdc3rHFC1dmXjtA2pUrmiqo9ykVF++rwBNXj4GS7zZLXNVE01h2TiJdDEb1+qpmsFzmI21z1zWk/5mktDUrP1N+lx/DpQcFHDEw4u3ogmqLbUj4Wdne16wynys9G1UY79xwtuouPBEAxhtgS/wg86DV71OjkyuOba1MiFuq/EUc9J8iG7XrSYdJ3RI97S9uTQjtR4zkfxBRzQ2NMyaHfaUEE4m7OA0SYC202ADHGuvsabvf67Q6PGZeMM9cIa9RQan/RLv24mhJsy88MfeabqzXp8dHlyrnjsiMAvTY08/NuSbRQiIMBwHsTjSs7nzhIlG4+EwOA8/6HGhj+un6i1dqUIiMMObKGOo6o1cWFxCccSJd4jp9x7uQd9WYrO9OyUMz5ydJIqW3lMOPr/8yBbSJ9p2nlG/PV+93mdPOu0u9L2jMPd22tdaJV1zIj8QVD0wCmnmvB7szR90QmAR8PibIyku63c4EsUt1bX3M2XB3Rj2ZnaDE01aIxrWqJzRM1aFxzX6XCxKGTIUweh7XgSw0iuubDBfiapBTn3mRGvautyBoQxKSn0NUftjtD0vEl15dEtbEWIJB1JRCtGsYtKIfqsOQkvQcw+WHODQU/syAumfGeHJ0TZhrNnpxPPyD0cZT3Iu001+2DBpFYZjlGhNTeIg8n6Krgfc0LOR7YkLu3kaNLE2mBWc3IV1IM2uX25BIXnhGJuhKGGaxBt5obHUg9nkx23ZjRIKukV9jo0Gtww/e3aMOZmzNvu7qm/FWT2ch7gf2abUQJ2UVPaEuzDXHAeTT/0t4npkR4rEy7jwhuPteTQ5meDYCTH+aVGe7f0Zl8eut8YhjJJdJE0WpJxom9n1FsqWcX0Qzb22LhgtivICo17qxGqy6uR+DDRYbDYikxHK6ph/tfAgs0tHE03oMNQ9pxER2vGm1U9lhcTLOse/Weg7GtV1q/7t3tM72R5XsnfkKV3sGNpK5VkEVZow1D2ZUjO8cM+RFDkVMnu9mnm0q3W9b8s6juoV69ra1YE/vC/dewfbanGy9tCoRnpU1ZX9W5JojKJf/K5/6tjCDlbSXI1LI9GKSw6fQbFeU8IFoobL3LfWcSAtZnZYs1PyYmhubyCXxs/pKZ0bGc6pra7qHyXU07gDoy2QR5isTTZISB6kmO1fpAaY1qjWrelhbzuzbPVG3p5WoeJuEN2x8yCLZTj0oZCqoU8vKyFrMbhg3wFDgx57Z3L2b9nPhxPD5qX9mpeFmnnBzNBvZ1CgH1RzMi42EGQKB3NzlS7WaIT6gVfNLtHlteOlzPeD5Ta4zWCvc/bwSNPo8qL1ZfLcGek72sHOhDwIZCRb6duqjqLtyoaidg2rm0oE+IndRFet61Wjl6/qY1vGIUrDBG3itDAYTNyiN1Zpn3mjvqt7s9qZDRQGN1If/aNuY6tP1m3D/UUjB5N2LXa8DjPVw5tNFrOjCBuk/n1pT3ruD72ES+Co97xva7GaqnYQISmm1k0n+p7n9GhKV/ZvJUBLM3qtSlicLfu0rEPDLkpP8PX3c7vSbae0T4kslGVoVsa9NjRtD30nzMKXMbJAxNkazTfsLkRbnamTstndlucU2vGi1tjLTj/qtd+xd3/Z5wctjLb9Wtelf5gkj/NqDxChr+ulLjkx4LK9QJUYAcEAoy0QR0g6byvMQp6cadpSaDEL7VSTtsgmyEsz5NyudGqXRvRnG0lsnKCtGuf1OhwuaNZ5cWIJOwYON92stu698Mdept4/es7o1iTNc8R2eIoLjJ6nfrpJHA+kHj6nK/U28YDwQm0JhrRMOncJlx7dzJndGtOwi80zCsuge7Na9OIfeilthraM+kQaRoM6O22gVjdRBHauY5hx0jZymCJ7tj54RmdTL8H6PnnBOb2LXGfYM8ru73q4kPJwg1nUjVUbqJ0McbIcllOJAwmL59lukkw78gi8WJh6nKTrsFoul1XWdVkkMyyuW9VzmRNcr62rHQkibUi03TvGiRQfOquLb5qqYaaKThc14cLQo/V21j9zYQhPt7NAnDlcPylNy5/LxwZdN+MRban49ywXonWMSV+48m/BNwyJb7V2Tru3kCUSHzn3CFcRbHb7poFdG6dEE9xvECXElGiOzQtZZpzYsb6pl2/qePnwPVHnZmZyflZnHdStzXQrnCYWNhxfOTy34Fu4cAGjLcgqzuzWhI5sU5duNcjYatU43H/G4UY/JYmAgwbokAHEGU4yY8smyDGCndVADtG/on/LtI5F1qp6U00nbjfU2A4sy2AHNoxUyZBgIBN3nNqB2ms8+QYe0ShtG1HXz+weGn2qvX5urmWD6hqDlqB6y4M6M41bo0Nw4sUezWsrMi2Z4MGe6ulqZ2LCXoxm2aOtj5N+XD1mSVKc7NdPWQi3UhpOtbG9Inp+XdmjZqFbuQ+72L39R2giQmzvm8Rxi8Z71hcytG2+TFISzuqCoTeQjbtgZlgQEIkaGsxOhceZ/6dLfOh27Oi30eb83s2UyXavFs4XVNm4xWMKIRJHkuuJTGeNZy/rpSR30lI2NjVJYlpi8GCYGZz8gg2VVlqVJ3VqoEjhmOUFsEJEtno3aC+zE1suL/xl0jzX3sFmtaumzR+1XCciqWiAban2mdDOE6zmDDec0CbFi93Oc6XOU25wOR82Mzb21hgUjYy2bCdgRx1OpG6GWd/J4wqOcOWyy4po9CM/gBY3fhh6o63bxIvgEDDaAmEE8fw5Hbhyw8xhbhx+mnnfh/+vZuKJxgLcXrGa/LCe05ndnetThgnt2XVodNhAyF44PGjTeyMY4cVweNBlwlH1PqcaEA+/ubDPIS+i07o2SiudFy9a3p/T32i5/ZT0BQm7nN8r3RvNTcd6OPQnEUjiFyOPCxEDhGqaupp2zxPp8gN3ndZBeEIQPg4no3KTeX7YRT0ybqP1etGfE0/mjT4/y6CNcmtTYMmG1PKYb8sJG178Y29Xni93a9puvaePjMGkpTeRi+PxZLlzkxq2Ezl5RaYJXtsHiFgkclL3rJKvWCFrwqFdRBNJio6p7m5mNNoafeahQvi9YOIFJ6epto8MjzP13lkpbavHJ0pmfkv2lmVjg93EXvcO9D4ONsJM0smefmywsBelqsXKyTT5embKXWG0mFFPswDtd7I81VBpJcXDxvkbTmirSJaZYdZWsAFPFlbXqmblClS5UnmqllPB0vHBcZSJ7hm/sLQ96Ny4pqO+I4j77Ib61Y3rc7oTy+HzsXIT2JS/z9Twx977RuN6L20jl+uNPx2pvIxgOwHPiazmMWa3kj28WdKnVhVjb2ojp4YbT2yrRItec0xmqRUtzktn/NtMfbrd/APaBTv12qmfcSJw4J5oxxsCIAkrQ4t2UunUS8io8Vc/4onMqq170r7nVewf5m2iqJLUrSByaEztahXLwqru/ngWhQGeLC/P2132PlP/xPeLtRt5YP7p7+tSvrPTt/Hvx1PwGZS1YWO8qMFhPUs37/JkqPDsReTt58L2FUQSMZnYSSxjZYzu2qRGml62ts41rJlDeQVFyv9W1ZANzuu27037nBcsuE19etTitO+MbgVLJrg1ilew+ZxwWXniyp71D30xj9wi2sbH7c79g5wldfOUadnBREg2bo6h/Ykbg6v+N6K17VXaGST6EAF77Kn1V1/13Xi+ernLqjSO2YRWFCLDx+0YUjo1cqfX7QTWFSw6cNBU6zoI9EYpr3BS3Q079pUZvayS4SzaVEB+oI4F/nRca3r7l9WOfttRVy+SgqIfZEdLiMKsmEGF+PNC3XOX9VLaQTcGOTP0u7LjkGJ8XAdHDuAScjLZ3IIiaqt5DlO9bs3RX+8SjVNNhXLR8yN028eUjat0Y0033udmcz4jz33tsfX/a09FKwV4eFt7le3OUzvQe7+upmuOOayP/48Lu9GiTbvo6LbOJKbCIAETJqL3hIDQkra6RtGB2yJeCeLwZ55QvPCH3qblF92GqO3gnaelhlEkI3gd7cChMXZ0sEStPNu9XReVes5alyMV1ZOCw+CV92UacJnLe6wuu7rs8avZ7vX9fSURYY0GR3NiS/ZqLNX+3Itub5qGHAWP7PZAr2mbcuzSD9hQajS4vOe0jrbu4d/P6ZoWls5649wu6DM2B90O8mlwHbLr5WFGVMeeVm2v1Tl5nZCf0zPVe/u+gZ2od8tDz7I2qYwb7Bo7tGdQsYL8Gsie47KwWtw4q1uTsoQrRthJluL06vCiZSbPwyiQcGBs0VY7t56yHHbPCcScjqFkIvrJaFm3qhKSb0cT2K6skNGz72ZcaRUqbRftGEtbD1o4DIuW2aewRxx7N8YVbg/dRllYEdFu3hGcTNbK+9rK0KZv9xpqHAma1xGTe8XPxQCt0dkJIktodt2ObVfftrOGUbSFHruXldsOjurjZLraiAGOEJTxzGUT8LQFQJdESqXYZmvMIQ079x5I87Z02sF4GYRbiaj7OQB0FUovuYO1u1JXQZdo5PBKqA0Pm8Y1FM8htXO0c0p83jwp2bHncAZTmZiVyW7Ii+jjWx1WO7DTXn83Xi5Ggw+viQvDmBRCFFrDA197szMzOmU2bHJkwNQV29Iyx+s9A/QSNTKuoYhd2pHSsYNZIqOgsNtUs/e0I31jEsOFvZvTd3M2pYRicv+870BJWlI6fROvLqallivhqp/iNuf7eZto8LGpobxHta5LX87c4EqmxKhMfnr265Py8GSKpYtStMAz0LhW6kSxomAZGBEY3eZL+jan3UXFitHh+bFLqVW9Q1INpov0pX/Nbo0bDXAv8FhPP94LumXxUm2NxmeZ2krtLzjEXeSCDUsaWWHVT3FehY0792WMduJxH0tpsPFWa8RgjdNv5m6kATZ08EV5bJvBba2IeYWd+tG6XjVlzKCXGJF5TCHHiHlkllssPW1Lr9qTF3WnvftLUhZm6jvof6ywevx27D1AIvHqCWp33Kse5sqjW9IHv65N2wfnIxmzIFd5r0awnNOjibI42kQXJaab6doul+j6LSvfTJyB0Ra4hsW9d+49bHCqUil8g3a7eDEYqB5nmYy2oowS1XO8eViI1EDs1qwWzd+Qb7lN0MMYz91CIrw6fUadHg+K2JNx6HcLbe3jlC6NaMHGAkUfUxTGnll2hgqHMMv026FhDelyEcyfT2pHU1ZsNdT4DRqzZoQ12gr3l1DbBt7qoXbxiCUEtJNc7aAtJRwumZo8kZOwpRsW9IsiCWVFfuFGm+GtNiVH3GDVNp9hYXy2A2t3z1q3k070YSLuZbJhlpm5kYGHsRqVYNj+JOS10Xyf9AZbo99zQkqrctmdLPBvTujQQHkZLVA8/4deKeXxPoHz9HPrfWd4gIzuszbjt8oLf+xN+4sPptWXijJFVgWPW9U8AU9d1MPVNWcjtxFOPJritNDnhaQu6dXmgkKhEiH6q1xckrQ0DptJntm5XXec2p6+mrVBSXjsZjGZdXCvPtpcz1LkI/b85b3plvdnmH4vsnpmahYHdGqgjDNYPi3qmpd2uoC4m6qs+sFEOfP+5szujamg8AD1dpAAkaOgZq/bqUhr8f/8TFu1rWu2pUsQBkEmA6jZNTypY8M0o+2h7Q///9ezD3nI84JQzxa1lWvq5Tnn3DpTlm9V2mcQLDDaAtec3LmB4mmi4qShDRuZ2i1tw3bQQ+rjhIuBmL5RZfmGPx7VUhngvTphRdr2vMqWv+9Aio6WdsLmNbRUCydiu/7t6Y51Iv3E7jxa34mqwulaXSA3YbV6/lbaoTr5jRPYINHawHhlNmnngc6wi7qXhaqe3rWRYohXJR+0VM2x53nRrHaVzIMUixOuXUWTNCfhIsGAwWdO7ClHtamrvOyS8MHLikOXf1+9nS7ta7zo8rezutC4xXl0jsfEhWxsferiHoqxm43nSYfhXzxgFuWhk7Jfg+ur1o3HL+hG01dtt/TuNfttpkmG13CuM7o1UV4ikJVtm43dWv0xw6RYmuvV36EumRAcPF5GHjvatsNtcko9NTyGqJvJj0hBs2u7sgRDL+hGS3J30Ukao7VirM2xXhzTJk8KmxdOSn+iKbOTa28WGszXlTPFV61YQZo8guF+Kbporwlrhzsl05js9CMa0S8rttLRbeqljef4nv/nit40fPxyWrzJWMffCSzVcNOJqbI/MvFy3zNVdz+TYXEfO9Dj4mgokHTJrPJM2EWNgOJxrYy2lSNOpq3a7ukScYSM0TjECg7B50R4bvWDvdK7ZR3Fw76jJsm2Hdx29XZ+lsljWdvX2fGeve641kqEimwNepAZGG2BEDiMWO8dF3VHAq8TKBby/mb2RgErbumf8aoi8yqlG2050RcbbVk7tmwfPg3rz+qRbpzwcmSWLGDPCG/ad/ZK0EoX5tqh1GCxp6i47LPCAyWe645XbcyU4zgYJaor3JnKxN7T/760Z1kHra1/7IXJ+knrdxhneVU5wsBbImFSdu3d4cHX1JXb6GqT7KnZ6J30wBmdlXrHK+Z797cy9DRkeOBo5aXjBDOPMW0T73dok6H3dmkd4kWCZg4n/Npnx27YF3uYjluUq7SvRuVz62hp92d8j0WhPSZLu2QidfHE/HppvxnUrTHtKixWvDSCJyE9gY/X3Upt3ZJE9w7sqCQKtOvJyPUtU51T+wM1H8CEJVsMPZ3DQiLApFwlWj1VgX1ZgUF75CdezsVNP5IS8ZFhWx6zPHNpz7Iy6hcUuD91Er0W5AhEf5mdSkOk7CvD9yH0vwg9PKZISugvbjqhLf28bIut+aQZbAw9snVdJaLusxnrSTTs7MH9avdmtdISYGkXxUWP4Tl3md8GWzWRLkdssDYyL246xbXR1k0k08FUOTynzzbfMykG2yivNgYEjLZAGn6u1MpGq5Fnx9GWw9PZ21HfyRo1uFUEe6WxBy6/grifZiG2bvnPH/soAwG3GeLtDozYi1G76MAGb3VwofUgkqpZ5WLfRp2v2X2qbKDzaIZVAhD2Mhox3bkUSH2dIdDodHu2qKV4BJjv1/KwlseXiejDndChPq3etpcu7tM8JTGXmcFWJgkBuqBhv+6ndGmoRI1oEycYcXaPJnRW98b04OdzadvuVC3qY9odCiFr79DjwglVA/ImMWt3jLI9a5+9y/od8gqvVD6hGPPYe3/u+p3C+x+OFshkGNa2lVwObsMyaVY7rePJkNTnC/s0S4mCUo1jHPp9hOAIRx7rFJbKJbCHj1GEhhuctuHHG3m/JsX1DWY/c7K3FnWqKPIM8FgiT/1IyuKhjR1o7zn3p7wo7HQBTPVeC3LdWF93L+zdjDbt3GeZFMqMTFct6gvkiYDyNNiqjw4XLBQN5F7NyuaT+iSdmUiWzqF44V8WHJl4To/DnQtLZKl6+EmJiwF+2hlUHWg+t6a1K3saj6vlTh1fy6FmlQqKMw5HwvIYUvtsB/mUewhazlpgtAXAZCDGxrqzujehouKDKZ5nF/VpRgs35dPpXc3DeYzC0/Vc3Le5Ek7CWXKdli19IxvblO3PJEy+NDO3aDIVzWqQ48VYW7Z/G9tYDSS02ksiymN2qKa1Mnvg6gd5HDbFek5W22jLflKnBjRxyRbyEw61P1CSroFYNnDNMMjVa6rqtbT9xEzHlRE5x+HkOH86zrpd8AvteaXqgrrfj6tykDxYg5C9D1VNXG779d4iZeUwOZEr+7dUPMzZ00QWItofEUZ3dYGLtT1/WpxL/VrVpdELNiufGV2eK/u3ogGdGirHVI22N53Y1nDfbvQs+9jou7TXjj1Cn76kB1XPZLR1WI7KFdPvz1XHtKL3p66x9XtRi4Kt6lbzbYLEoc3VbUqIONEXN9uSPcWMQtnZ08vWfkU3JA52yNfqnxd3d6WzHhQskbI8b7eykCgDN9VS2wa7yTjPbZEWO5733GaEDR5TcSSOGzKdcoSqqDQyXSMjgyFrFfOCIOuAmqF6SIte+OZoByNUqTc/OVkjw6c9T9FGVj/XFv51SU9lsV4bxeqahI8J8xIJRcrQCC/e+l5BIjLnwGgLgEVHwoZVo9CI4Vf0MdU6tCuk369VHcUoHOT5aTtTDp2JI14HRjzB4sycnOnUSXZtM8w6aTd6bqd2bkg5FcopHoJ/Lc0OajUocpPp3KtxzizU3sj4ZVR2rbGBJxKPnNeV7vl4tsNSAZnPlRtPH7s0Ll00Ma4v7tHujp9xrZft/YM60WuTVioeFXZhHV9ZmrMi4CQvXtCG2KnGRTYa/PNiTuaUKDPamhl51ZBCFfb8OLxz6wQ9meDj88SUF4f0cDZyTnZ3bLvUOmpHd9VpYrFrj2mdkqWZOaJJTSV88u9fzc/4e5nzN1mSEG4jljJhtjhy56kd6Nb3Z9rePm072yXQ/87YO8mpccurRrbfsKQGy1+0DSDRqhnaa86Jedj7rXOGKAkvpGh7B4jISC8YZb0blRrpDPmJ0sWj7s1rUaMalTMaM91iNsb/s8lCKM9fwnIdRRsp3SzauIUNnKKMnE4vg7roLMoD/uYB7Wh3UbGj5JmiMRuS8LlyslNlG3+LFHpgtAXABVYDb2u9P/sNrqw5lutJi8sfZjoN2Y1ybRtSEZkGw5cfeUijz642o5sBsVnyJqtVcq6Heq+R4LE5eU7Y9HjXfMjXIoxeSlEMJXRTZL1uuYqIgZ+RgYwH5FZ6ZV6SqVj9tEOjGvT0JT0pbGQK57fiyNZ1aHdRS2rfoIarljfV49287ltd1xSPm4RYo5bZBJuNwG4MwYf26QwzvXJtKLZRW9G3dR2asXqHopEXV6Mte4E5abvNNnVi+DVaRHHa7h2VYTFbqmRSCODr7cb73S5uqqW2HvH/Xp8bJ4szUZV9u29gJ3pmzJKUdlZNTiV7TBPVR8RMuo69m2ev20Fn6JKn8XnydWtSq4q9pNaC22SzvlMfxu97V2Cj33fKo+cdQZsLCql9w8PyYXYYIDARtxs4OokXkZ0u8J9sMM9jw6tbjJy0/K4WRvWfpYMqVypPufmFPpcmGsBoCyIDhydxggsOjx5iw2slKGwP4m1upm3XODQwagMop95KNatUpKLiEvrjUWKSmfRvU5dWbt1jmBxL1jVpUaeqIpFRu0rFNPkCJ7AGlVMjpehz0d8/UR37YXkE6+3YaPeHo1oq5eBVbjvJ4IwugYhyx2nV1+7kkychnHGYE/LZkfAQiTZ8PUzzPvb+1WvayoQH52u27fUkvcD38ZTOjWxr6O3Ysz9FA08vU2J1HDuINnax5uRm0QP9pNxdqFfg5hPb0ba++6V6vdSu4iWZp3dqOlxwEFE/nISxJkw0DDN5VoWpXYom3hKRCSmBkyIEqmnr/req9I8W7k/MjLYiCYGTvys40ubBz+Yq/9fROH+wLrI214BKjcoVY2v0F4Wo8+fIHSeRg/+7ph+t2roncK/5wce1UeYymcZJ2ghDTsht5LxQSWOkFzK/8flBNToc97fFELs1BUZbIA0R46rLjmxBn2iSHnEiDRmIHANaOQo5OY6qj6dtvm47ub2HkjkvT7M6VWjDjn2ufmvb01a3wTXHtKKezWubevW5WX2+2kGYs1GZnMJlf/jsLkrHfP3b01O/c1AJ9JP4IAa/+mOK0kJz8izY1SsMkrBNTDg5k5cFAy1/Pqld4J57Ybq8rEPOGZhFhDra9YoQLV9jdfu47VqyeZeSoFHFbkJGq+/MvGFFaJvdcUoHRUvQaZIWK/yq49xfiDTYam8Be43feWp7oXrIfgyy5C0uO9DV1SZsSWSnp61s3DxiQjQlIxhJE45SZA+8EPh/gzrRV7M30DXHtLYcH41fkkd/LI3Ii+KYxohbT25Hb0xeRX8+0b1HJ1NVs/AV1KPE45egDbYqqYnAjC9Ii7pVaOPOfRn2I7Zcfo/pzSPHkqGdVwVNoKO4YcOG0ZFHHkk1atSghg0b0gUXXEBLlhwO32AKCwvptttuo3r16lH16tXp4osvptzc3JRt1q5dS2effTZVrVpV2c/9999PxcXFKdtMmDCB+vTpQzk5OdS+fXt6++2308ozfPhwat26NVWuXJn69+9P06ZNk3Tm8SMZwnBQJ4hs+9raDCXLtOLIHsXMQc2qk5nXpdvyZ2oQ+7Ss47mDyJTxvG2DaikhL2xsEmWwFY0jhwyTCyYiRNQJ7TwOVKwMKl6kCkRn8Xa6jWi0Ax7PhiMB5b/RRN8sOI978fvMWIfSvtYaYdxfAG6bbzihrdSwYdkkM5xf/7b1Up5v/oy18c7u0cTSANjKwqCirQNaY9fBdClaV5E4d53WQeg9kT1h8OMZ5MVfL1mug0KWocxst5lutVlp+Jlg76AoLCyKgDWi1USC7Il4+yntfXvG/nNFb/rXpT2ppg2PRidkcuwyS8bpNgmYW7w8EiGxO0cO1rp/6Mwu1EwjcaOHI5EePKMz1bIhxZaSzDXkFqm+reoq+Vu0ETduYO17Ho/eMqBdIEnRosgV/Vv57rVtkBJAKjymZDkEPdrxYEhNAYER6Ehu4sSJikGWDbdsZP3rX/9KAwcOpIULF1K1aocMOffccw+NHDmSPv30U6pVqxbdfvvtdNFFF9Evv/yifF9SUqIYbBs3bkxTpkyhTZs20TXXXEMVK1akJ598Utlm1apVyjY333wzffDBBzRu3Di64YYbqEmTJjRo0CBlmxEjRtC9995Lr776qmKwff7555Xv2IjMhmBgTXFJeucj5FnzqU8TcZjHL+hG8zfkK8mh9LCsg5NBlDYLqNYYpNX3dIsd7xFR3miLNhXQMRm0e3i7UfM204kdGwSWoddPT4oKjjJoey/X0W3reqro6Z62hz/4+zld07b3og5iyyAbUn8T7XNqpD/lN2YayUEhY4LidJ8pk2/hpYk/qra3EY+cewQty9tFx7Yzb++TIdVbNSOZJR58fuD0TGVN1hIut9UuMpRo6itPPF/4Q6+suZesD31al4bCFgKceNnzMUt9GUKB30l8RHt1B1FnOTpl/OI8ylbC0Eo40nAWVEfCnKQ1SMwuLxu6y7bxqdZoJUD8gqO5xi3KFR55FVcCNdqOGjUq5T17v7KBdMaMGXTiiSdSfn4+vfHGG/Thhx/SKaecomzz1ltvUZcuXejXX3+lo48+msaMGaMYeceOHUuNGjWiXr160dChQ+nBBx+kRx99lCpVqqQYYtu0aUPPPPOMsg/+/eTJk+m5554rM9o+++yzdOONN9LgwYOV9/wbNha/+eab9Je//MX3axM1ov6QiZgz8kqs1WqsCC8At56NZh1Dps7A6r5mumacUd5OVnn2mmAZjCDxczVPOwjKKDWgKxhn+8y8f917jx2+3gtF+9ZIU8rL8cJqkLWDdhKrHXDFFacGU62hwytqApVL+jprN7S1K0w2lpDaLB2HLDsJW9Y2bWGVMBOx0KA3tKQkcSM5hKluu6WuJOucmREi073W9sUlugqbLQZbFZGe22Fo+zIlqzW7u4kYelF/PWuD1GNwbgk/jLZhfSbDUKzJNhMqg3DXDdF16bxeTZU5Zv82wRrYtd1rWJ/joAiVnzobaZm6dQ95hrHx9sCBA3TaaaeVbdO5c2dq2bIlTZ06VXnPf7t3764YbFXYEFtQUEALFiwo20a7D3UbdR/79+9XjqXdply5csp7dRs9RUVFyjG0r2xDdHijISZhScIPkwjxtdWMakU3YJl2lzqgDtlFksi67Xt9OU6miaL+ii/dvEuYNwaHN8pYkLHrLS1TC9DI+Cs7FI0XVF66oo8SwmmWxdcufjxpXr3anV5OvaHD6T6014STFPJ1NkoGYvYb5X3YGvoACUYf27gvC2uYKCcAEe2Nl9I2+VAdwxKO6vTRY88slh5wGn5ft9ohY29Hk7Yhx0TaI+mxLQPuYJkZrhucbDQoLu7bXIluu/PUDqGO0JDdf3VsJF/up0kt8Y4tUULb/ovo9tw4OhhFxoJoI6Iu8WIct8fdm8vJHWSX649vU/Y/huyphMYd6ODBg3T33XfTcccdR926dVM+27x5s+IpW7t2qp4KG2j5O3UbrcFW/V79zmobNrTu27ePduzYocgsGG2zePFiUz3exx57jLIZ7eA3qLD2qGDU8CQC9PbJ9LlKtsxN7N4Lr/3HJX2bOwoLLqebX/LtMvsJex9uyi+kjo2sDVkqrFlpB30dMCvzkHO70qj5m+miPqnnqIfbCs7y3sFggiCjg/bTUGeU4TVIhl3Unaav3kFfzFxfprc29IJuymo6J9nwk0x1feARjW3vi2+pG28v6GMZa4n7RdLkXvBE4fVJKy0jLvwcvF/QuxnN25BvK1LEilO7NMpgAJKk20oJuuqYVvTjwly6POAoFrfnyp6tVnIcZjx4Zmf6eemWtGt/YZ9mSlLVzibGXCcSHchuLQ5eePvv1f086eN7hSNj7Cb5DWLhj8cV+/aXUE/JxpROjWooOSWaSIgY1I7/OLmXkZZltpHUyQupZLo22rYKY5rsJQ4GTSOnINaRZtmE31dvp3N6iEssGwdCY7Rlbdv58+crsgVR4KGHHlI0cFXYANyiRTgGx37Run41xVDz/bzNdHHfQ8kJgPjGuGFN7wZxM2ebTB2+1UQmp2I4PHhEoB+Iy1iEOLN7E+WlxWzu16peNVqzbU9amAp7H3FYuBFs+JCCzcksl5mz6GbisfOOUCa9RpqriQgnIgsj3HZw4qiTOjUoW2RrKmhCZtdswceeuGQLndfTuo84s5t9o63b51prOAqT120Q8kJstP/Hhd2pWo5/Cw1WC069W9a21GGW6Zmv59yeTZWXDMySGomGdbXDoK2tUrNKBd/qtdHC4Tk9rO+nUbQYG8q0cPbxNdv2UpfGNb0XFJQRpME2CrJNT17U3XLBwbXjiF5KK5GgO0y8jb2QNDDKZC0JYw1RrbTQwK6NFccG7hMzLRq5SdrMhvnZ63Y6/h3wF/Z4nbc+n04xyJMTF5qaeN7/+cS2dEHvptRYgP0jToTCaMvJxb777jv6+eefqXnzw4MtTi7G0gU7d+5M8bbNzc1VvlO3mTZtWsr++Hv1O/Wv+pl2m5o1a1KVKlWofPnyystoG3UfenJycpRXNvLoeUdQ3q6isizNnBHSCJkTEtZFWrCxwDLpiRO279lPjXxuHKyMBgmd5isnOatskbHb7bFO69qIvpy5gXo0N8kOmqItc+hv1ZwKtLeomNo3dD+ADBv6y5MUHHr328ptdIaBUcrMKP63s7vQnv3FaVmSgzA06Uvo1fGbpQMqeLATBTl9CmsYdyZkaOz2a1WH5qzbWRaObMbVR7dSMqtnGnwZ1W2v2Wz1Sf9CZKcNBf5HyJhL/WRKnBdyu45tUhYOZB0jRNfq1pPb0ay1O5U2IMzY8bT9y5mdFYNJWCQnVOxkrQfOqV65Au0uLFaMXEE+ZzwOrNmkYqQNz+AQ2rvAcyiOLtGPjSpVKGfphFFb44nrpl+8eUA7em3SShrQMb7GwKigHaPqZStuPqkdLc3dRV1jvMjBCcjf/3VN2ue8GJHtUiqhM9ryBPiOO+6gL7/8kiZMmKAkC9PSt29fqlixIo0bN44uvvhi5bMlS5bQ2rVr6ZhjjlHe899//OMflJeXpyQxY3788UfFINu1a9eybb7//vuUffM26j5YgoGPxce54IILyuQa+D0blEEqnHzIKAGRjEGC2T7uOb0jFRUfFJYhXbZGmXoedm0++sGg1wRn1UxCic/q1kRZvW9Z1zhUtqZBmM7fz+5CPy/bqujNxYWExuOD60KHhuK0vc7q3kR5OZkocjn0BlttOR3h8TGsoNNokPmkyDBKq4bWalmQHMxP2DuybvVK1KJO1Yz31O3gy8xIbrcd1XtwNalVWdEYrVEZdSFqhMkzOuyetlzPw0LfVnWVV9ixMwbkOlhRgM6xKO4d2JGeHbOU7hvYKeiixBKOClqyeRf1bVWn7LPw3H0QRfQSWoMcyELdfVpHmrthJ52s8bw0G3+1a1idVuTtpnrV0xfVedHp1gHOtMKBHLT5L/SyO2zfMHWo8jn6SBY8Rm9UqzLl5hcGXZRIUCFoSYQPP/yQvv76a6pRo0aZBm2tWrUUD1j+e/311ysyBJycjA2xbORlY+vRRx+tbDtw4EDFOHv11VfT008/rezj4YcfVvatesLefPPN9NJLL9EDDzxA1113Hf3000/0ySef0MiRI8vKwse49tprqV+/fnTUUUfR888/T3v27KHBgwcHdHUAY9Ym8eBZlMGWqexTqL/dMFi7uqROPKo4ZFBvrODVLCOPWU7+weEzHJbx6e/r0kKu9dqscalorPc5ffV2OrWzPwbpyhXKU9EB++6EnZvUoF88ZH51otuncnz7+vTT4lzq3qy2FG9T7e5kDkG4Li/P2614iIY9pD0KBiouY2fJYcLa66ANA8xUj1nHc8T0dSkJDdQB8pMXdg+VJyIzf0P2JTJ1StjumVsSEr3f/nlJDyWkv3ZVa+93kDlhXBQ4omkteuNPRwZdjNjCz5Fe+z+asTbG+BU4FNEAJaFcdXQr+n3NdjrNQOfcSbi8PkkUz8f+enYXqqFzSrh1QDsauyiPTurYwPXxgL9oPaitYKe5vF2FKXkJ9FFlIJ4EarR95ZVXlL8DBgxI+fytt96iP/3pT8r/zz33HJUrV07xtC0qKqJBgwbRyy+/XLYtyxqwtMItt9yiGHOrVaumGF8ff/zxsm3Yg5cNtPfccw+98MILigTD66+/ruxL5fLLL6ctW7bQkCFDFMNvr169aNSoUWnJyUA88SvcTbsyZpSZmhMHLd+ym47WaZk62a8ZrG1pl94t6ygvLXHuEtRzY4mMTNp3ImH9MA5TuqyfPT3sY9rWo0rlyyl60nbJ0dRtNw7lrLX1zKW9pGlfcgiiM73a9I2sErSp2/Mij1l26LCFG8b5WdNiZnz903Gt6ds5G+maY1oZLqxlaq85qRkb6bVeDF404GSzc+9+yga8TN71k9Kooq1/og3RficXjBPcPzx7WS8qXz5Bd300K+jigAgQJckBo7bGL7mnIDTbwwZ7x2o9ZEWiShXqFxxi51wTUx4+pyvt3V9MdTJIjan8/ZyuythZOw4+qk1dGr1gcyQXH0GE5BEyUblyZRo+fLjyMqNVq1Zp8gd62DA8a5b1QIylECCHEC5a1/Mnw7XssYs6YOKJASc44TAIo/B3XjV1k3jMj0QOZhNMlqp4ecJyuvaY1hQ1OjauQUs376ITO9hbjRZdTdrUr6Z4/tmFDZCcVdMOnC2bQ/u4M/fiaavXzONkLCJhTdRL+7WgmpUruPYwHXxcG3pz8iryk5alEjEyZBfi4lWYCa6fRpzQoYHy0pJTobwSDswJg+xEWRgZbMMKJ2ZhL/C44zYrOeuhRsH73LmnLQizNmyckq0CoKeGwRwkLrgd6wLgNzwPdDrfL68bPbAjDzt9GUkagvgQD9cFEEqMPEnt8u9Le1JB4YEAEqXI54Le1lnU3RCktk23ZrVo+BV9Ijmpvn9gJ9ptkPArDrDH8Dk9Uj8TMY7lkEzW1mpSW9yzaZSkzQyjWnZk67q+G21Zm+w/V/SWsmASJQ8eP+G6F0fO79WUpq3eTke2FiPdEeaEeM9c1lNJtOIEyZLzvpLSTUawz8wG7j+jE308bR1drfH0ByDNGBjxx7dLE5+SCQfQfuv1QQGIO24cvsIGhkTWwGgLpOHFmMFhAnZDBUTQ1GOir6CNqkFH/EbRYKuGqsbRYGuGKIkDva5W0LAR6MzuTeiHeZt8PW5VkwR/XpElRRE22Dtg9dY9lO1w++nE4z7KuNFbbV0vc+LTMGLULWrHAtHsNeMPa3U/et4RQRcDhJBqlSpQ5UrllUjRKEm2aG3NtwxoV9bv9GxRm+as20lxQZXKauvQexEAAMJOdHocEDlEe6DJ8j5jrVennj9OkW3T9MNmCu+/6MOauIs37aKuTeUmkPKzrnPm0bhw7bGtafW2PdSrhXnG2LjVRxhtgRn/uLA7rdiym45p50zjPcywrAovMI1ZsJku7gPNQQCiNq957rJeodVHN0NbVNESV2GCkwn/unIbDexqP3oLAACiAIy2QBrVBHmhqSunrD8qA9ZKjLrBM0h5BBAdWOfzxhPbUpz461ldKC6c2LEBnUjZk+2XE3OwPm3HRvGdRAL3sDxSXCSS/nVpT9pTVEz1qucoCWJYEsOvBKhx4+K+zenzGeuDLgbIUmQ7ecga+/3hqJZ0oORgSrSDH9KvV/ZvRU9+v0jJ5yGbJrWq0IW9sRgGQFTQ5reCFLU1MNoC4fDAYP6GfDqufX0h+3vigu40Y80OOrVLw+h6qcbB0xZ2YRBSnUw/MyEDsV5Lx3cQ008AEGY44SK/VGCwdQ+PLbVG2wGdsmehCwC3cELHIGhZryq9fGWfSHkmAwBA2IDRFkgZGIgcHLCnDUsYRNlLNQ5DlTicA4g+TvWTRdZb2IUBACBYalWpSPWr59DW3UXK+6uORsIwAMIMDLYAACMOHgy6BNEBS/0ga+EkOEw/PzJ2Sx6vyMhgD0CU0NpTOeSePTiPalPX14SGAAAA5KP10I9qIlQAgiaZMnICAAB/QRtkH3jagqzlb2d1ocLiEmkZ4JmqORVob1Gxko1YBoOPa0NfzFpPN51wKBssANmKXh6Bnw0AAAgKmBLlcRBhDwB45iAeIwBASMD6qzUw2oKsDteRabBl/n1pDyrcf5BqVa0ozdvkuPb1pHqanNqlEY1blKsk/wAgrPgxh8eKMADALpiAyKN3izr0zeyN0sZWAGQDyAUAAAgSLBzZB0ZbACSSU6G88pKJ7NDAPx7Vgi7o3VS6gTsKYBIeXtDxAwDCRAK+tlKTGw29oBvVhtEWANec36sZLdxYQAM6y0n0DAAAQAywwgAAMhqFYbA9RL9Wden7eZuoU6MaQRcF6CjxwWMETikAALu0aXBINx/IoWntKkEXAYBI075hdRp+ZR8lDwAAAPgNpI7sA0sMAADYpFKFcjT0/G5IfBIS2pQmE1Tww2gr/QgAgLjQr5UPSU4BAMADMNgCAMLAZf1aBF2EUFMu6AIAAECUgME2PGh1lv2QRyiBBgMAwAZ1qlVCXwEAAAAAYILW36Zbs1pBFiX0wGgLAAAg8vgRYjPoiEbK314taks/FgAgevzlzM7UuUkNuvu0DkEXBQAAAAAgtCAZon0gjwAAACCSlNN4svnhBNu+YQ16/g+9qHoOuk4AQDodGtWg+wd1DroYAAAAAACRmccBa+BpCwAAIJKUS/i/WlujckWEPQMAAAAAAACAS87t2VT5279t3aCLEnrgLgQAACCSlNNYbWtVqRhoWQAAAAAAAAAAZGZApwbUqXENalSzctBFCT0w2gIAAIgUAzo3pK27iqht/Wpln53Toylt37OfjmqD1VoAAAAAAAAACCscudi0dpWgixEJEkkoAAuhoKCAatWqRfn5+VSzZs2giwMAAAAAAAAAAAAAAIioDRGatgAAAAAAAAAAAAAAABAiYLQFAAAAAAAAAAAAAACAEAGjLQAAAAAAAAAAAAAAAIQIGG0BAAAAAAAAAAAAAAAgRMBoCwAAAAAAAAAAAAAAACECRlsAAAAAAAAAAAAAAAAIETDaAgAAAAAAAAAAAAAAQIiA0RYAAAAAAAAAAAAAAABCBIy2AAAAAAAAAAAAAAAAECJgtAUAAAAAAAAAAAAAAIAQAaMtAAAAAAAAAAAAAAAAhIgKQRcgLiSTSeVvQUFB0EUBAAAAAAAAAAAAAACEENV2qNoSzYDRVhC7du1S/rZo0SLoogAAAAAAAAAAAAAAAEJuS6xVq5bp94lkJrMusMXBgwdp48aNVKNGDUokEhT3FQE2Tq9bt45q1qwZdHFAREE9AqJBnQIiQD0CokGdAiJAPQKiQZ0CIkA9AiLJpvqUTCYVg23Tpk2pXDlz5Vp42gqCL3Lz5s0pm+CHKO4PEpAP6hEQDeoUEAHqERAN6hQQAeoREA3qFBAB6hEQSbbUp1oWHrYqSEQGAAAAAAAAAAAAAAAAIQJGWwAAAAAAAAAAAAAAAAgRMNoCx+Tk5NAjjzyi/AXALahHQDSoU0AEqEdANKhTQASoR0A0qFNABKhHQCSoT+kgERkAAAAAAAAAAAAAAACECHjaAgAAAAAAAAAAAAAAQIiA0RYAAMD/t3fvQVlUbwDHH1BQgRA1Qrl4m4ayNNQKlbKSNGk0NdPUsTHTLt7GSznNxDST/qGmqTWa3QOsVALH0jK6CKhlaIY6aUo6pTkViFbQBQWR/c1zfsM7IAoKJLv7fj8zG727++4578vD7vHZs+cAAAAAAAAbIWkLAAAAAAAAADZC0tYlFi1aJLfeeqtcddVVcs0118iIESPkhx9+qLbPmTNnZPr06dKuXTsJCgqSBx54QE6cOFFtn5kzZ8rNN99sBn7u2bNnjXKOHTsmPj4+NZadO3fWWcdVq1ZJ586dpWXLltKnTx/55ptvqm1/44035K677pLg4GBzzKKionp/H/DOOLrYcXVJT09v0HcDe8eU0iHaly5dKtHR0Wa/iIgIWbBgQZ111Ni4/vrrTUz16NFDPvnkk2rbN2zYIPfcc4+pn8bSvn376vVdoGHcEEsXOz+98MIL9fpOYP94mjdv3gV/54GBgXXWkXaT/Tk9jmg3efe17rPPPpO+ffuaskJDQ81xNCbqQrvJ/twQR7SZvDOe0tLSzLaAgADp1KnTJf++3XxeImnrEtu2bTN/JJr0+uKLL+Ts2bMmKP/991/PPnPmzJGPPvrIBLTu/9tvv8nIkSNrHGvSpEkyZsyYWsvbsmWL5Ofnexb946vN+++/L08++aSZCXDPnj0SExMjgwcPlsLCQs8+JSUlkpCQIImJifX6DtBwTo+jqKioasfTZf78+ebCce+999b7e4EzYmrWrFny1ltvmWRbXl6ebNq0SWJjY2ut39dffy3jxo2TyZMny969e00jRJcDBw549tG63n777bJ48eJ6fw9oODfE0vnnp6SkJNNw1IYt3BlPc+fOrfF7v+GGG2T06NG11o92kzM4PY5oN3lvTB09elSGDx8u8fHxJnmhibdTp05d8DhV0W5yBjfEEW0m74unjIwMGT9+vEyZMsXEwiuvvCIvvviivPzyy959XrLgSoWFhZb+erdt22ZeFxUVWX5+flZ6erpnn0OHDpl9cnJyarz/ueees2JiYmqsP3r0qHnP3r17L6s+sbGx1vTp0z2vz507Z4WHh1uLFi2qsW92drYp488//7ysMtD4nBxHlXr27GlNmjTpssqB82Lq4MGDVvPmza28vLzLqs+DDz5oDRkypNq6Pn36WE888USjxS3+G06OpUrDhw+34uPjL6scOCuezrdv3z5zjO3bt9e6H+0mZ3JyHFWi3eQdMaXv12udxkSlTZs2WT4+PlZZWdlF60O7yZmcHEeVaDO5P57GjRtnjRo1qtq6FStWWJGRkVZFRYXXnpfoaetSxcXF5mfbtm3Nz9zcXHNHZODAgZ59tPt4x44dJScn57KPP2zYMNM1Xu9WaA+k2pSVlZnyq5bt6+trXtenbFw5To8j3V/v+updN7g7pvTObteuXeXjjz+WLl26mEdBH330Ufnjjz9qfZ+WUbVspb2QODfZn9NjSR8Z27x5M+cnL7neVdIe3DrsRv/+/S+6D+0m53J6HNFu8p6Y0qfbNB6Sk5Pl3Llzppx3333XHNfPz++i76Pd5ExOjyPaTN4RT6WlpWZ4g6patWolv/zyi/z8889ee14iaetCFRUVMnv2bLntttuke/fuZl1BQYH4+/tLSEhItX3DwsLMtkulj0stW7bMdHvXE6cm27TreW0JN31EQk/iWlZDysaV5YY4evvtt6Vbt24SFxd3yXWDM2Pqp59+Mhdzjal33nlHUlJSTANi1KhRtb5Py+Dc5DxuiKXVq1ebscHqeoQQzo6n88d7W7NmTZ3/6KTd5ExuiCPaTd4TU3pT8vPPPzfDq+j4kno8TYzoeJK1od3kPG6II9pM3hFPmmjVsWczMzNNOYcPHzY5A6VDZHjreYmkrQvpeCM6fkdqamqjH/vqq682Y2PpRAY6GPXzzz8vDz30kGeA6C+//NIk5CoXbVTCmZweR6dPn5a1a9dyR9ZLYkov7Hp3VpNs2vNIJ+fRf3xmZ2ebgfKPHz9eLaYWLlzY6HXAleOGWNKx2XTcrvN7FMBd8VTVBx98IH///bc8/PDDnnW0m9zD6XFEu8m7YkqTGY899piJo927d5sxKDXpojcodTJO2k3u4YY4os3kHfGksTRjxgwZOnSoiSOd4G7s2LFmm/bo9tbzUvOmrgAalwa5PtK5fft2iYyM9Kxv3769eUxKZxauegdEHzXQbQ2hiTcdkFrdcsst1Wbi0zscetetWbNmNWYPbIyy8d9wQxytX7/eTNIyYcKEBtULzoipDh06SPPmzc3jopW0t5DSC/yAAQOqxVTl4zxaBucmZ3FDLGmCRRPAOkkQvOd6p4+06z9EqvYGod3kDm6II9pN3hVTq1atktatW8uSJUs869577z0zOd2uXbtqxBTtJmdyQxzRZvKeeNKJ5nSiME3G6g2B0NBQ0+tW6dBlbdq08crzEj1tXULvZOkfkd59z8rKMo8qnD/ejI4rUxn0qrLHUL9+/RpUtv7h6D9yK8ccufbaaz2LPsagd0m0/Kpla08mfd3QstG43BRH2jNOx8zVkz3cH1P6iE55ebn8+OOPnnX6SI3q1KmTScJVjanKi7yWUbVspTcPODfZj5tiSc9PWl+dyR3ecb3TGba1t/b5vRhpNzmbm+KIdpN3xZQm6LXnWlWa5K+ME9pNzuamOKLN5H3XOo2hiIgIcx1bt26dOYZem7z2vNTUM6GhcUydOtVq3bq1tXXrVis/P9+zlJSUePaZMmWK1bFjRysrK8v69ttvrX79+pmlqiNHjpiZ9HSmvejoaPP/upSWlprtKSkp1tq1a81sgLosWLDA8vX1tZKSkmqtX2pqqtWiRQvzfp2Z+/HHH7dCQkKsgoICzz5aXy3rzTff9MyIq69///33Rv++4N44qixfZy3NyMho1O8H9o0pnbW2d+/e1h133GHt2bPHHEdnDR00aFCt9duxY4eZ9Xbp0qUmFnU2U539dP/+/Z599BykZW3evNmcmzQO9bV+Dlw5boglVVxcbAUEBFivvvpqo34/sGc8VXr22Wet8PBwq7y8/JLqR7vJGdwQR5Xl027yrpjKzMw0v/P58+dbhw8ftnJzc63BgwdbnTp1qlbW+Wg3OYMb4kjRZvKueDp58qT5XWtM6PqZM2daLVu2tHbt2lVr/dx+XiJp6xIaeBdakpOTPfucPn3amjZtmtWmTRtz8rv//vtrBOmdd955weMcPXrUbNdGX7du3cz7g4ODrdjYWCs9Pf2S6rhy5Urzh+zv72/et3Pnzmrb9Y+rrs+A/5Yb4kg988wzVlRUlEm+wDtiSv3666/WyJEjraCgICssLMyaOHHiJSUv0tLSTMNBY+rGG280F/OqtK4XKlvPWbhy3BBL6vXXX7datWplFRUVNfg7gTPiSa9FkZGRVmJi4mXVkXaT/bkhjhTtJu+MqXXr1lm9evWyAgMDrdDQUGvYsGEm4VEX2k3254Y4UrSZvCueNGnbt29fE0t6jLvvvvuC1yxvOy/56H+aurcvAAAAAAAAAOD/GNMWAAAAAAAAAGyEpC0AAAAAAAAA2AhJWwAAAAAAAACwEZK2AAAAAAAAAGAjJG0BAAAAAAAAwEZI2gIAAAAAAACAjZC0BQAAAAAAAAAbIWkLAAAAAAAAADZC0hYAAAAAAAAAbISkLQAAAFCLiRMnio+Pj1n8/PwkLCxMBg0aJElJSVJRUXHJx0lJSZGQkJD/tK4AAABwB5K2AAAAQB0SEhIkPz9fjh07JhkZGTJgwACZNWuWDB06VMrLy5u6egAAAHAZkrYAAABAHVq0aCHt27eXiIgI6d27tyQmJsrGjRtNAld70Krly5dLjx49JDAwUKKiomTatGnyzz//mG1bt26VRx55RIqLiz29dufNm2e2lZaWyty5c82x9b19+vQx+wMAAMB7kbQFAAAA6iE+Pl5iYmJkw4YN5rWvr6+sWLFCvv/+e1m9erVkZWXJ008/bbbFxcXJSy+9JMHBwabHri6aqFUzZsyQnJwcSU1Nle+++05Gjx5tevYeOXKkST8fAAAAmo6PZVlWE5YPAAAA2H5M26KiIvnwww9rbBs7dqxJtB48eLDGtvXr18uUKVPk1KlT5rX2yJ09e7Y5VqXjx49L165dzc/w8HDP+oEDB0psbKwsXLjwP/tcAAAAsK/mTV0BAAAAwKm0/4MOdaC2bNkiixYtkry8PPnrr7/MWLdnzpyRkpISCQgIuOD79+/fL+fOnZPo6Ohq63XIhHbt2l2RzwAAAAD7IWkLAAAA1NOhQ4ekS5cuZoIynZRs6tSpsmDBAmnbtq189dVXMnnyZCkrK7to0lbHvG3WrJnk5uaan1UFBQVdoU8BAAAAuyFpCwAAANSDjlmrPWXnzJljkq4VFRWybNkyM7atSktLq7a/v7+/6VVbVa9evcy6wsJC6d+//xWtPwAAAOyLpC0AAABQBx2uoKCgwCRYT5w4IZ9++qkZCkF7106YMEEOHDggZ8+elZUrV8p9990nO3bskNdee63aMTp37mx61mZmZpoJzLT3rQ6LMH78eHMMTfhqEvfkyZNmn5tuukmGDBnSZJ8ZAAAATef/3QAAAAAAXJQmaTt06GASrwkJCZKdnS0rVqyQjRs3mmENNAm7fPlyWbx4sXTv3l3WrFljkrpVxcXFmYnJxowZI6GhobJkyRKzPjk52SRtn3rqKbnuuutkxIgRsnv3bunYsWMTfVoAAAA0NR9LZ08AAAAAAAAAANgCPW0BAAAAAAAAwEZI2gIAAAAAAACAjZC0BQAAAAAAAAAbIWkLAAAAAAAAADZC0hYAAAAAAAAAbISkLQAAAAAAAADYCElbAAAAAAAAALARkrYAAAAAAAAAYCMkbQEAAAAAAADARkjaAgAAAAAAAICNkLQFAAAAAAAAABshaQsAAAAAAAAAYh//A10rqKtlD+Q4AAAAAElFTkSuQmCC",
      "text/plain": [
       "<Figure size 1400x400 with 1 Axes>"
      ]
     },
     "metadata": {},
     "output_type": "display_data"
    }
   ],
   "source": [
    "import matplotlib.pyplot as plt\n",
    "\n",
>>>>>>> 9a043f6 (chore: rename modeling notebook and add preprocessing + baseline modeling steps)
    "plt.figure(figsize=(14, 4))\n",
    "plt.plot(df[\"datetime\"], df[\"total_load_actual\"], alpha=0.7)\n",
    "plt.title(\"Energy Load Over Time\")\n",
    "plt.xlabel(\"Date\")\n",
    "plt.ylabel(\"Load (MW)\")\n",
    "plt.tight_layout()\n",
    "plt.show()"
   ]
  },
  {
   "cell_type": "markdown",
<<<<<<< HEAD
   "id": "9",
=======
   "id": "ac93378c",
>>>>>>> 9a043f6 (chore: rename modeling notebook and add preprocessing + baseline modeling steps)
   "metadata": {},
   "source": [
    "3. Performing additional feature engineering if needed"
   ]
  },
  {
   "cell_type": "markdown",
<<<<<<< HEAD
   "id": "10",
=======
   "id": "79bbea89",
>>>>>>> 9a043f6 (chore: rename modeling notebook and add preprocessing + baseline modeling steps)
   "metadata": {},
   "source": [
    "### ⚠️ 1.2 Missing Data Status\n",
    "\n",
    "Although major missing columns were removed, **some NA values still remain** (as seen in `df.info()`):\n",
    "\n",
    "- These were not removed during EDA to preserve full context for visualization.\n",
    "- Now, before modeling, we should consider:\n",
    "  - 🗑️ **Removing remaining NA rows**\n",
    "  - 🧠 Or **imputing missing values if relevant**\n",
    "\n",
    "👉 You can inspect this with:"
   ]
  },
  {
   "cell_type": "code",
<<<<<<< HEAD
   "execution_count": null,
   "id": "11",
   "metadata": {},
   "outputs": [],
=======
   "execution_count": 6,
   "id": "bed328bc",
   "metadata": {},
   "outputs": [
    {
     "data": {
      "text/plain": [
       "total_load_actual                              180\n",
       "generation_marine                               95\n",
       "generation_biomass                              95\n",
       "generation_fossil_oil                           95\n",
       "generation_waste                                95\n",
       "generation_hydro_pumped_storage_consumption     95\n",
       "generation_hydro_run_of_river_and_poundage      95\n",
       "generation_hydro_water_reservoir                90\n",
       "generation_wind_onshore                         90\n",
       "generation_wind_offshore                        90\n",
       "dtype: int64"
      ]
     },
     "execution_count": 6,
     "metadata": {},
     "output_type": "execute_result"
    }
   ],
>>>>>>> 9a043f6 (chore: rename modeling notebook and add preprocessing + baseline modeling steps)
   "source": [
    "df.isna().sum().sort_values(ascending=False).head(10)"
   ]
  },
  {
   "cell_type": "markdown",
<<<<<<< HEAD
   "id": "12",
=======
   "id": "e7340d33",
>>>>>>> 9a043f6 (chore: rename modeling notebook and add preprocessing + baseline modeling steps)
   "metadata": {},
   "source": [
    "### ✅ 1.3 Remove Remaining Missing Values\n",
    "\n",
    "Although only a tiny fraction of rows have missing values (less than 0.1%), we will remove them to ensure clean modeling pipelines.\n",
    "\n",
    "- The following operation **removes all rows** that contain at least one `NaN` value.\n",
    "- This preserves temporal consistency and avoids imputing potentially misleading values."
   ]
  },
  {
   "cell_type": "code",
<<<<<<< HEAD
   "execution_count": null,
   "id": "13",
   "metadata": {},
   "outputs": [],
=======
   "execution_count": 7,
   "id": "85ee6aef",
   "metadata": {},
   "outputs": [
    {
     "name": "stdout",
     "output_type": "stream",
     "text": [
      "Removed 235 rows with missing values.\n"
     ]
    }
   ],
>>>>>>> 9a043f6 (chore: rename modeling notebook and add preprocessing + baseline modeling steps)
   "source": [
    "# Drop all rows with at least one missing value\n",
    "initial_shape = df.shape\n",
    "df.dropna(inplace=True)\n",
    "final_shape = df.shape\n",
    "\n",
    "print(f\"Removed {initial_shape[0] - final_shape[0]} rows with missing values.\")"
   ]
  },
  {
   "cell_type": "markdown",
<<<<<<< HEAD
   "id": "14",
=======
   "id": "4e685fa9",
>>>>>>> 9a043f6 (chore: rename modeling notebook and add preprocessing + baseline modeling steps)
   "metadata": {},
   "source": [
    "💡 **Note**: With over 178,000 rows, this operation removes less than 0.1% of the data and simplifies the modeling workflow."
   ]
  },
  {
   "cell_type": "markdown",
<<<<<<< HEAD
   "id": "15",
=======
   "id": "d6915e94",
>>>>>>> 9a043f6 (chore: rename modeling notebook and add preprocessing + baseline modeling steps)
   "metadata": {},
   "source": [
    "### 📦 1.4 Encode Temporal Features\n",
    "\n",
    "We encode the weekday (wday) and month (month) columns as integers to prepare them for machine learning models.\n",
    "\n",
    "Since both features have a natural order (e.g., Monday to Sunday, January to December), we apply ordinal encoding instead of one-hot encoding for simplicity and interpretability."
   ]
  },
  {
   "cell_type": "code",
<<<<<<< HEAD
   "execution_count": null,
   "id": "16",
=======
   "execution_count": 8,
   "id": "cbea80c0",
>>>>>>> 9a043f6 (chore: rename modeling notebook and add preprocessing + baseline modeling steps)
   "metadata": {},
   "outputs": [],
   "source": [
    "# Convert weekday (Mon–Sun) and month (Jan–Dec) to numerical values\n",
    "# Ensure proper categorical order before conversion\n",
<<<<<<< HEAD
    "\n",
    "\n",
    "# Define ordered categories\n",
    "wday_order = [\"Mon\", \"Tue\", \"Wed\", \"Thu\", \"Fri\", \"Sat\", \"Sun\"]\n",
    "month_order = [\n",
    "    \"Jan\",\n",
    "    \"Feb\",\n",
    "    \"Mar\",\n",
    "    \"Apr\",\n",
    "    \"May\",\n",
    "    \"Jun\",\n",
    "    \"Jul\",\n",
    "    \"Aug\",\n",
    "    \"Sep\",\n",
    "    \"Oct\",\n",
    "    \"Nov\",\n",
    "    \"Dec\",\n",
    "]\n",
    "\n",
    "# Set categorical types\n",
    "df[\"wday\"] = (\n",
    "    df[\"wday\"].astype(CategoricalDtype(categories=wday_order, ordered=True)).cat.codes\n",
    ")\n",
    "df[\"month\"] = (\n",
    "    df[\"month\"].astype(CategoricalDtype(categories=month_order, ordered=True)).cat.codes\n",
    ")"
=======
    "from pandas.api.types import CategoricalDtype\n",
    "\n",
    "# Define ordered categories\n",
    "wday_order = ['Mon', 'Tue', 'Wed', 'Thu', 'Fri', 'Sat', 'Sun']\n",
    "month_order = ['Jan', 'Feb', 'Mar', 'Apr', 'May', 'Jun',\n",
    "               'Jul', 'Aug', 'Sep', 'Oct', 'Nov', 'Dec']\n",
    "\n",
    "# Set categorical types\n",
    "df[\"wday\"] = df[\"wday\"].astype(CategoricalDtype(categories=wday_order, ordered=True)).cat.codes\n",
    "df[\"month\"] = df[\"month\"].astype(CategoricalDtype(categories=month_order, ordered=True)).cat.codes"
>>>>>>> 9a043f6 (chore: rename modeling notebook and add preprocessing + baseline modeling steps)
   ]
  },
  {
   "cell_type": "markdown",
<<<<<<< HEAD
   "id": "17",
=======
   "id": "ebd4307f",
>>>>>>> 9a043f6 (chore: rename modeling notebook and add preprocessing + baseline modeling steps)
   "metadata": {},
   "source": [
    "💡 This encoding transforms weekdays to integers from 0 (Mon) to 6 (Sun), and months from 0 (Jan) to 11 (Dec), preserving ordinal structure while simplifying downstream model input.\n",
    "\n",
    "##### 🧠 Why We Used `pandas.api.types.CategoricalDtype` instead of `LabelEncoder`\n",
    "\n",
    "Although scikit-learn provides tools like `LabelEncoder` to convert categorical text to numeric values, we chose to use `pandas.api.types.CategoricalDtype(...).cat.codes` for the following reasons:\n",
    "\n",
    "- ✅ **Explicit order control**: `CategoricalDtype` allows us to manually specify the natural order of categories (e.g., Monday → Sunday), which is essential for time-based features like `wday` and `month`.\n",
    "- ✅ **Cleaner integration**: Since our data is already loaded in a `pandas` DataFrame, this approach avoids the need to fit an encoder or manage external objects.\n",
    "- ✅ **NaN-safe**: `pandas` preserves missing values gracefully, whereas `LabelEncoder` throws errors on `NaN`s (even tough we have eliminated `NaN` values befor this step).\n",
    "- ✅ **More transparent**: The mapping between categories and codes is easily inspectable and reversible using .categories.\n",
    "\n",
    "> In contrast, `LabelEncoder` is better suited for encoding target variables or when using fully automated pipelines with scikit-learn.\n",
    "\n",
    "For this reason, our encoding is both more interpretable and better aligned with temporal modeling needs."
   ]
  },
  {
   "cell_type": "markdown",
<<<<<<< HEAD
   "id": "18",
=======
   "id": "bcc33dd5",
>>>>>>> 9a043f6 (chore: rename modeling notebook and add preprocessing + baseline modeling steps)
   "metadata": {},
   "source": [
    "### 🔁 1.5 Lag and Rolling Features\n",
    "\n",
    "To capture historical behavior and temporal dependencies, we create lagged and rolling window features based on `total_load_actual`.\n",
    "\n",
    "- **Lag features** allow the model to “look back” at past values, which is crucial in time series forecasting.\n",
    "- **Rolling features** help smooth short-term fluctuations and highlight trends or cycles.\n",
    "\n",
    "These engineered features are often predictive in energy demand and similar applications."
   ]
  },
  {
   "cell_type": "code",
<<<<<<< HEAD
   "execution_count": null,
   "id": "19",
=======
   "execution_count": 9,
   "id": "5a6bba3a",
>>>>>>> 9a043f6 (chore: rename modeling notebook and add preprocessing + baseline modeling steps)
   "metadata": {},
   "outputs": [],
   "source": [
    "# We sort the dataframe by city_name and datetime\n",
    "# to ensure that the lagged and rolling features are calculated correctly\n",
    "df = df.sort_values([\"city_name\", \"datetime\"])\n",
    "\n",
    "# Lagged features\n",
    "df[\"load_lag_1h\"] = df.groupby(\"city_name\")[\"total_load_actual\"].shift(1)\n",
    "df[\"load_lag_24h\"] = df.groupby(\"city_name\")[\"total_load_actual\"].shift(24)\n",
    "\n",
    "# Rolling mean features\n",
<<<<<<< HEAD
    "df[\"load_roll_24h\"] = (\n",
    "    df.groupby(\"city_name\")[\"total_load_actual\"]\n",
    "    .rolling(24)\n",
    "    .mean()\n",
    "    .reset_index(level=0, drop=True)\n",
    ")\n",
    "df[\"load_roll_7d\"] = (\n",
    "    df.groupby(\"city_name\")[\"total_load_actual\"]\n",
    "    .rolling(24 * 7)\n",
    "    .mean()\n",
    "    .reset_index(level=0, drop=True)\n",
    ")"
=======
    "df[\"load_roll_24h\"] = df.groupby(\"city_name\")[\"total_load_actual\"].rolling(24).mean().reset_index(level=0, drop=True)\n",
    "df[\"load_roll_7d\"] = df.groupby(\"city_name\")[\"total_load_actual\"].rolling(24*7).mean().reset_index(level=0, drop=True)"
>>>>>>> 9a043f6 (chore: rename modeling notebook and add preprocessing + baseline modeling steps)
   ]
  },
  {
   "cell_type": "markdown",
<<<<<<< HEAD
   "id": "20",
=======
   "id": "58cb059e",
>>>>>>> 9a043f6 (chore: rename modeling notebook and add preprocessing + baseline modeling steps)
   "metadata": {},
   "source": [
    "### 🏙️ City-aware Lag and Rolling Features\n",
    "\n",
    "⚠️ **Important!** Since each timestamp contains one row per city, applying lag features globally would mix time dependencies across cities. This would create data leakage and distort true temporal signals.\n",
    "\n",
    "To avoid this, we compute lag and rolling statistics **separately for each city** as below\n",
    "\n",
    "These features are essential for capturing temporal patterns in energy demand at the city level.\n"
   ]
  },
  {
   "cell_type": "markdown",
<<<<<<< HEAD
   "id": "21",
=======
   "id": "1a70038b",
>>>>>>> 9a043f6 (chore: rename modeling notebook and add preprocessing + baseline modeling steps)
   "metadata": {},
   "source": [
    "As part of the feature engineering process at the last step, we obtained a lot of `NaN` values that we should handle"
   ]
  },
  {
   "cell_type": "code",
<<<<<<< HEAD
   "execution_count": null,
   "id": "22",
   "metadata": {},
   "outputs": [],
=======
   "execution_count": 10,
   "id": "8a196d8d",
   "metadata": {},
   "outputs": [
    {
     "data": {
      "text/plain": [
       "load_roll_7d     835\n",
       "load_lag_24h     120\n",
       "load_roll_24h    115\n",
       "load_lag_1h        5\n",
       "rain_3h            0\n",
       "city_name          0\n",
       "temp               0\n",
       "temp_min           0\n",
       "temp_max           0\n",
       "pressure           0\n",
       "humidity           0\n",
       "wind_speed         0\n",
       "wind_deg           0\n",
       "rain_1h            0\n",
       "clouds_all         0\n",
       "dtype: int64"
      ]
     },
     "execution_count": 10,
     "metadata": {},
     "output_type": "execute_result"
    }
   ],
>>>>>>> 9a043f6 (chore: rename modeling notebook and add preprocessing + baseline modeling steps)
   "source": [
    "df.isna().sum().sort_values(ascending=False).head(15)"
   ]
  },
  {
   "cell_type": "markdown",
<<<<<<< HEAD
   "id": "23",
=======
   "id": "b2beda02",
>>>>>>> 9a043f6 (chore: rename modeling notebook and add preprocessing + baseline modeling steps)
   "metadata": {},
   "source": [
    "#### ⚠️ Handling NaN Values After Lag & Rolling Features\n",
    "\n",
    "The introduction of lagged and rolling features (e.g., `load_lag_1h`, `load_lag_24h`, `load_roll_24h`, `load_roll_7d`) naturally creates missing values at the start of each city’s time series. For example:\n",
    "\n",
    "- `load_lag_1h` is missing the first hour,\n",
    "- `load_lag_24h` and `load_roll_24h` require at least 24 hours of data,\n",
    "- `load_roll_7d` needs a full 7-day (168-hour) history to compute a valid rolling mean.\n",
    "\n",
    "Since our dataset contains hourly entries **per city**, these gaps occur **at the beginning of each city’s series**. In total, these missing values account for **835 rows**, or roughly **0.47% of the dataset**.\n",
    "\n",
    "🔎 We choose to drop these rows rather than impute them because:\n",
    "\n",
    "- They occur at the very start of each time series where lag/rolling windows are not defined.\n",
    "- Imputing them would distort the statistical meaning of the features.\n",
    "- The proportion of data lost is negligible compared to the overall dataset size.\n",
    "\n",
    "👉 Final step:"
   ]
  },
  {
   "cell_type": "code",
<<<<<<< HEAD
   "execution_count": null,
   "id": "24",
=======
   "execution_count": 12,
   "id": "c352ba79",
>>>>>>> 9a043f6 (chore: rename modeling notebook and add preprocessing + baseline modeling steps)
   "metadata": {},
   "outputs": [],
   "source": [
    "# Drop rows with any NaN values created by lag/rolling operations\n",
    "df = df.dropna().reset_index(drop=True)"
   ]
  },
  {
   "cell_type": "markdown",
<<<<<<< HEAD
   "id": "25",
=======
   "id": "19291ca2",
>>>>>>> 9a043f6 (chore: rename modeling notebook and add preprocessing + baseline modeling steps)
   "metadata": {},
   "source": [
    "This ensures our dataset is clean and consistent before modeling."
   ]
  },
  {
   "cell_type": "markdown",
<<<<<<< HEAD
   "id": "26",
=======
   "id": "fac54b8b",
>>>>>>> 9a043f6 (chore: rename modeling notebook and add preprocessing + baseline modeling steps)
   "metadata": {},
   "source": [
    "### 🔚 1.6 Summary: Ready for Modeling\n",
    "\n",
    "At this stage, we’ve completed the preprocessing and engineered useful time-based features:\n",
    "\n",
    "- Removed noisy or fully missing columns.\n",
    "- Extracted temporal variables (`hour`, `weekday`, `month`) as encoded variables.\n",
    "- Generated lag features to capture short- and medium-term temporal dependencies.\n",
    "- Added rolling means for signal smoothing and trend detection.\n",
    "- Ensured all data is clean (dropna) and has a fresh index (reset_index).\n",
    "\n",
    "💡 We now have a fully prepared feature matrix for modeling energy consumption."
   ]
  },
  {
   "cell_type": "code",
<<<<<<< HEAD
   "execution_count": null,
   "id": "27",
=======
   "execution_count": 15,
   "id": "d65b85db",
>>>>>>> 9a043f6 (chore: rename modeling notebook and add preprocessing + baseline modeling steps)
   "metadata": {},
   "outputs": [],
   "source": [
    "# We export the final DataFrame to a CSV file\n",
    "df.to_csv(\"../data/processed/final_features.csv\", index=False)"
   ]
  }
 ],
 "metadata": {
  "kernelspec": {
<<<<<<< HEAD
   "display_name": "prediction-temporal-series-p2enJBmg-py3.13",
   "language": "python",
   "name": "python3"
=======
   "display_name": "Python (Temporal Series 3.12)",
   "language": "python",
   "name": "temporal-series"
>>>>>>> 9a043f6 (chore: rename modeling notebook and add preprocessing + baseline modeling steps)
  },
  "language_info": {
   "codemirror_mode": {
    "name": "ipython",
    "version": 3
   },
   "file_extension": ".py",
   "mimetype": "text/x-python",
   "name": "python",
   "nbconvert_exporter": "python",
   "pygments_lexer": "ipython3",
<<<<<<< HEAD
   "version": "3.13.5"
=======
   "version": "3.12.7"
>>>>>>> 9a043f6 (chore: rename modeling notebook and add preprocessing + baseline modeling steps)
  }
 },
 "nbformat": 4,
 "nbformat_minor": 5
}
